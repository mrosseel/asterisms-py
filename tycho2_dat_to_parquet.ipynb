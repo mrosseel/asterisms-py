{
 "cells": [
  {
   "cell_type": "markdown",
   "id": "126bfee2-2489-4411-b419-9db0e5a639e5",
   "metadata": {},
   "source": [
    "# From Tycho2 source to parquet file"
   ]
  },
  {
   "cell_type": "markdown",
   "id": "3b30e27d-c4f8-47cf-a5fe-6c126dabadc0",
   "metadata": {},
   "source": [
    "##  getting the data\n",
    "\n",
    "http://tdc-www.harvard.edu/catalogs/tycho2.format.html\n",
    "https://cdsarc.cds.unistra.fr/cgi-bin/myqcat3?I/259/\n",
    "\n",
    "## which epoch?\n",
    "\n",
    "J2000"
   ]
  },
  {
   "cell_type": "markdown",
   "id": "abe20d35-5dea-47de-8299-0cb15a058ca4",
   "metadata": {},
   "source": [
    "## Import Tycho2 dat file"
   ]
  },
  {
   "cell_type": "code",
   "execution_count": 22,
   "id": "beb77802-6004-4ef7-a45a-4621ec33e11f",
   "metadata": {},
   "outputs": [
    {
     "name": "stdout",
     "output_type": "stream",
     "text": [
      "shape: (2_539_913, 32)\n",
      "┌──────────────┬───────┬────────────┬────────────┬───┬─────────┬─────────┬────────┬──────┐\n",
      "│ TYC123       ┆ pflag ┆ RAmdeg     ┆ DEmdeg     ┆ … ┆ e_RAdeg ┆ e_DEdeg ┆ posflg ┆ corr │\n",
      "│ ---          ┆ ---   ┆ ---        ┆ ---        ┆   ┆ ---     ┆ ---     ┆ ---    ┆ ---  │\n",
      "│ str          ┆ str   ┆ f32        ┆ f32        ┆   ┆ f64     ┆ f64     ┆ str    ┆ f64  │\n",
      "╞══════════════╪═══════╪════════════╪════════════╪═══╪═════════╪═════════╪════════╪══════╡\n",
      "│ 0001 00008 1 ┆       ┆ 2.317505   ┆ 2.231843   ┆ … ┆ 88.0    ┆ 100.8   ┆        ┆ -0.2 │\n",
      "│ 0001 00013 1 ┆       ┆ 1.125582   ┆ 2.267394   ┆ … ┆ 9.3     ┆ 12.7    ┆        ┆ -0.2 │\n",
      "│ 0001 00016 1 ┆       ┆ 1.056865   ┆ 1.897829   ┆ … ┆ 108.5   ┆ 150.2   ┆        ┆ -0.1 │\n",
      "│ 0001 00017 1 ┆ P     ┆ 0.050598   ┆ 1.771443   ┆ … ┆ 30.0    ┆ 45.6    ┆ D      ┆ -0.2 │\n",
      "│ …            ┆ …     ┆ …          ┆ …          ┆ … ┆ …       ┆ …       ┆ …      ┆ …    │\n",
      "│ 9537 00375 1 ┆       ┆ 345.76767  ┆ -88.284042 ┆ … ┆ 95.0    ┆ 102.2   ┆        ┆ 0.1  │\n",
      "│ 9537 00379 1 ┆       ┆ 341.197632 ┆ -88.538872 ┆ … ┆ 92.7    ┆ 98.6    ┆        ┆ 0.1  │\n",
      "│ 9537 00380 1 ┆       ┆ 337.975433 ┆ -88.762932 ┆ … ┆ 27.4    ┆ 27.9    ┆        ┆ 0.1  │\n",
      "│ 9537 00387 1 ┆       ┆ 355.96582  ┆ -88.834259 ┆ … ┆ 79.4    ┆ 94.3    ┆        ┆ 0.1  │\n",
      "└──────────────┴───────┴────────────┴────────────┴───┴─────────┴─────────┴────────┴──────┘\n"
     ]
    }
   ],
   "source": [
    "import polars as pl\n",
    "\n",
    "labels = [\n",
    "    \"TYC123\", \"pflag\", \"RAmdeg\", \"DEmdeg\", \"pmRA\", \"pmDE\", \n",
    "    \"e_RAmdeg\", \"e_DEmdeg\", \"e_pmRA\", \"e_pmDE\", \"EpRAm\", \"EpDEm\", \n",
    "    \"Num\", \"q_RAmdeg\", \"q_DEmdeg\", \"q_pmRA\", \"q_pmDE\", \"BTmag\", \n",
    "    \"e_BTmag\", \"VTmag\", \"e_VTmag\", \"prox\", \"TYC\", \"HIPCCDM\", \n",
    "    \"RAdeg\", \"DEdeg\", \"EpRA-1990\", \"EpDE-1990\", \"e_RAdeg\", \"e_DEdeg\", \n",
    "    \"posflg\", \"corr\"\n",
    "]\n",
    "\n",
    "# Assuming the filename is \"filename.txt\"\n",
    "df = pl.read_csv('./support/tyc2.dat', separator='|', has_header=False, new_columns=labels, \n",
    "                 dtypes={'RAmdeg': pl.Float32, 'DEmdeg': pl.Float32, 'BTmag': pl.Float32, 'e_BTmag': pl.Float32, 'VTmag': pl.Float32,'e_VTmag': pl.Float32, 'HIPCCDM': pl.Utf8})\n",
    "\n",
    "print(df)"
   ]
  },
  {
   "cell_type": "markdown",
   "id": "ec2a8e4d-d5f0-40db-ae53-c7bb71365036",
   "metadata": {},
   "source": [
    "## Drop unneeded columns"
   ]
  },
  {
   "cell_type": "code",
   "execution_count": 23,
   "id": "e3f9e003-4ef7-4988-ae2b-e3510fbf3557",
   "metadata": {},
   "outputs": [
    {
     "name": "stdout",
     "output_type": "stream",
     "text": [
      "shape: (2_539_913, 7)\n",
      "┌────────────┬────────────┬────────┬─────────┬────────┬─────────┬───────────┐\n",
      "│ RAmdeg     ┆ DEmdeg     ┆ BTmag  ┆ e_BTmag ┆ VTmag  ┆ e_VTmag ┆ HIPCCDM   │\n",
      "│ ---        ┆ ---        ┆ ---    ┆ ---     ┆ ---    ┆ ---     ┆ ---       │\n",
      "│ f32        ┆ f32        ┆ f32    ┆ f32     ┆ f32    ┆ f32     ┆ str       │\n",
      "╞════════════╪════════════╪════════╪═════════╪════════╪═════════╪═══════════╡\n",
      "│ 2.317505   ┆ 2.231843   ┆ 12.146 ┆ 0.158   ┆ 12.146 ┆ 0.223   ┆           │\n",
      "│ 1.125582   ┆ 2.267394   ┆ 10.488 ┆ 0.038   ┆ 8.67   ┆ 0.015   ┆           │\n",
      "│ 1.056865   ┆ 1.897829   ┆ 12.921 ┆ 0.335   ┆ 12.1   ┆ 0.243   ┆           │\n",
      "│ 0.050598   ┆ 1.771443   ┆ 11.318 ┆ 0.07    ┆ 10.521 ┆ 0.051   ┆           │\n",
      "│ …          ┆ …          ┆ …      ┆ …       ┆ …      ┆ …       ┆ …         │\n",
      "│ 345.76767  ┆ -88.284042 ┆ 13.108 ┆ 0.271   ┆ 12.48  ┆ 0.196   ┆           │\n",
      "│ 341.197632 ┆ -88.538872 ┆ 13.147 ┆ 0.287   ┆ 12.158 ┆ 0.177   ┆           │\n",
      "│ 337.975433 ┆ -88.762932 ┆ 10.99  ┆ 0.048   ┆ 10.47  ┆ 0.042   ┆           │\n",
      "│ 355.96582  ┆ -88.834259 ┆ 12.828 ┆ 0.231   ┆ 12.096 ┆ 0.167   ┆           │\n",
      "└────────────┴────────────┴────────┴─────────┴────────┴─────────┴───────────┘\n"
     ]
    }
   ],
   "source": [
    "df = df.drop(columns= [\n",
    "    \"TYC123\", \"pflag\", \"pmRA\", \"pmDE\", \n",
    "    \"e_RAmdeg\", \"e_DEmdeg\", \"e_pmRA\", \"e_pmDE\", \"EpRAm\", \"EpDEm\", \n",
    "    \"Num\", \"q_RAmdeg\", \"q_DEmdeg\", \"q_pmRA\", \"q_pmDE\", \"prox\", \"TYC\",\n",
    "    \"RAdeg\", \"DEdeg\", \"EpRA-1990\", \"EpDE-1990\", \"e_RAdeg\", \"e_DEdeg\", \n",
    "    \"posflg\", \"corr\"\n",
    "])\n",
    "print(df)"
   ]
  },
  {
   "cell_type": "code",
   "execution_count": 43,
   "id": "ca5e148c-0571-48bf-9853-60e2accce454",
   "metadata": {},
   "outputs": [
    {
     "name": "stdout",
     "output_type": "stream",
     "text": [
      "before cleaning:\n",
      " shape: (1, 7)\n",
      "┌────────┬────────┬───────┬─────────┬───────┬─────────┬─────────┐\n",
      "│ RAmdeg ┆ DEmdeg ┆ BTmag ┆ e_BTmag ┆ VTmag ┆ e_VTmag ┆ HIPCCDM │\n",
      "│ ---    ┆ ---    ┆ ---   ┆ ---     ┆ ---   ┆ ---     ┆ ---     │\n",
      "│ u32    ┆ u32    ┆ u32   ┆ u32     ┆ u32   ┆ u32     ┆ u32     │\n",
      "╞════════╪════════╪═══════╪═════════╪═══════╪═════════╪═════════╡\n",
      "│ 0      ┆ 0      ┆ 0     ┆ 74      ┆ 0     ┆ 20      ┆ 0       │\n",
      "└────────┴────────┴───────┴─────────┴───────┴─────────┴─────────┘\n",
      "shape: (0, 7)\n",
      "┌────────┬────────┬───────┬─────────┬───────┬─────────┬─────────┐\n",
      "│ RAmdeg ┆ DEmdeg ┆ BTmag ┆ e_BTmag ┆ VTmag ┆ e_VTmag ┆ HIPCCDM │\n",
      "│ ---    ┆ ---    ┆ ---   ┆ ---     ┆ ---   ┆ ---     ┆ ---     │\n",
      "│ f32    ┆ f32    ┆ f32   ┆ f32     ┆ f32   ┆ f32     ┆ str     │\n",
      "╞════════╪════════╪═══════╪═════════╪═══════╪═════════╪═════════╡\n",
      "└────────┴────────┴───────┴─────────┴───────┴─────────┴─────────┘\n",
      "shape: (0, 7)\n",
      "┌────────┬────────┬───────┬─────────┬───────┬─────────┬─────────┐\n",
      "│ RAmdeg ┆ DEmdeg ┆ BTmag ┆ e_BTmag ┆ VTmag ┆ e_VTmag ┆ HIPCCDM │\n",
      "│ ---    ┆ ---    ┆ ---   ┆ ---     ┆ ---   ┆ ---     ┆ ---     │\n",
      "│ f32    ┆ f32    ┆ f32   ┆ f32     ┆ f32   ┆ f32     ┆ str     │\n",
      "╞════════╪════════╪═══════╪═════════╪═══════╪═════════╪═════════╡\n",
      "└────────┴────────┴───────┴─────────┴───────┴─────────┴─────────┘\n",
      "shape: (2_430_468, 7)\n",
      "┌────────────┬────────────┬────────┬─────────┬────────┬─────────┬───────────┐\n",
      "│ RAmdeg     ┆ DEmdeg     ┆ BTmag  ┆ e_BTmag ┆ VTmag  ┆ e_VTmag ┆ HIPCCDM   │\n",
      "│ ---        ┆ ---        ┆ ---    ┆ ---     ┆ ---    ┆ ---     ┆ ---       │\n",
      "│ f32        ┆ f32        ┆ f32    ┆ f32     ┆ f32    ┆ f32     ┆ str       │\n",
      "╞════════════╪════════════╪════════╪═════════╪════════╪═════════╪═══════════╡\n",
      "│ 2.317505   ┆ 2.231843   ┆ 12.146 ┆ 0.158   ┆ 12.146 ┆ 0.223   ┆           │\n",
      "│ 1.125582   ┆ 2.267394   ┆ 10.488 ┆ 0.038   ┆ 8.67   ┆ 0.015   ┆           │\n",
      "│ 1.056865   ┆ 1.897829   ┆ 12.921 ┆ 0.335   ┆ 12.1   ┆ 0.243   ┆           │\n",
      "│ 0.050598   ┆ 1.771443   ┆ 11.318 ┆ 0.07    ┆ 10.521 ┆ 0.051   ┆           │\n",
      "│ …          ┆ …          ┆ …      ┆ …       ┆ …      ┆ …       ┆ …         │\n",
      "│ 345.76767  ┆ -88.284042 ┆ 13.108 ┆ 0.271   ┆ 12.48  ┆ 0.196   ┆           │\n",
      "│ 341.197632 ┆ -88.538872 ┆ 13.147 ┆ 0.287   ┆ 12.158 ┆ 0.177   ┆           │\n",
      "│ 337.975433 ┆ -88.762932 ┆ 10.99  ┆ 0.048   ┆ 10.47  ┆ 0.042   ┆           │\n",
      "│ 355.96582  ┆ -88.834259 ┆ 12.828 ┆ 0.231   ┆ 12.096 ┆ 0.167   ┆           │\n",
      "└────────────┴────────────┴────────┴─────────┴────────┴─────────┴───────────┘\n",
      "after cleaning:\n",
      " shape: (1, 7)\n",
      "┌────────┬────────┬───────┬─────────┬───────┬─────────┬─────────┐\n",
      "│ RAmdeg ┆ DEmdeg ┆ BTmag ┆ e_BTmag ┆ VTmag ┆ e_VTmag ┆ HIPCCDM │\n",
      "│ ---    ┆ ---    ┆ ---   ┆ ---     ┆ ---   ┆ ---     ┆ ---     │\n",
      "│ u32    ┆ u32    ┆ u32   ┆ u32     ┆ u32   ┆ u32     ┆ u32     │\n",
      "╞════════╪════════╪═══════╪═════════╪═══════╪═════════╪═════════╡\n",
      "│ 0      ┆ 0      ┆ 0     ┆ 74      ┆ 0     ┆ 20      ┆ 0       │\n",
      "└────────┴────────┴───────┴─────────┴───────┴─────────┴─────────┘\n"
     ]
    }
   ],
   "source": [
    "print(\"before cleaning:\\n\", df.null_count())\n",
    "print(df.filter(df['BTmag'].is_null()))\n",
    "print(df.filter(df['VTmag'].is_null()))\n",
    "# Fill BTmag with VTmag values where BTmag is null\n",
    "df = df.with_columns(df[\"BTmag\"].fill_null(df[\"VTmag\"]))\n",
    "\n",
    "# Fill VTmag with BTmag values where VTmag is null\n",
    "df = df.with_columns(df[\"VTmag\"].fill_null(df[\"BTmag\"]))\n",
    "\n",
    "# Remove rows where RAmdeg or DEmdeg is null\n",
    "df = df.filter((df[\"RAmdeg\"].is_not_null()) & (df[\"DEmdeg\"].is_not_null()))\n",
    "\n",
    "print(df)\n",
    "print(\"after cleaning:\\n\", df.null_count())"
   ]
  },
  {
   "cell_type": "markdown",
   "id": "faf336aa-d8d3-45a5-97ca-b82b9df2fca7",
   "metadata": {},
   "source": [
    "## Calculate real Visual magnitude\n",
    "\n",
    "### V   = VT -0.090*(BT-VT)\n",
    "see Tycho2 docs for this formula"
   ]
  },
  {
   "cell_type": "code",
   "execution_count": 46,
   "id": "f303d681-50e0-46c1-8692-e4cef684d651",
   "metadata": {},
   "outputs": [
    {
     "name": "stdout",
     "output_type": "stream",
     "text": [
      "shape: (2_430_468, 8)\n",
      "┌────────────┬────────────┬────────┬─────────┬────────┬─────────┬───────────┬───────────┐\n",
      "│ RAmdeg     ┆ DEmdeg     ┆ BTmag  ┆ e_BTmag ┆ VTmag  ┆ e_VTmag ┆ HIPCCDM   ┆ Vmag      │\n",
      "│ ---        ┆ ---        ┆ ---    ┆ ---     ┆ ---    ┆ ---     ┆ ---       ┆ ---       │\n",
      "│ f32        ┆ f32        ┆ f32    ┆ f32     ┆ f32    ┆ f32     ┆ str       ┆ f32       │\n",
      "╞════════════╪════════════╪════════╪═════════╪════════╪═════════╪═══════════╪═══════════╡\n",
      "│ 2.317505   ┆ 2.231843   ┆ 12.146 ┆ 0.158   ┆ 12.146 ┆ 0.223   ┆           ┆ 12.146    │\n",
      "│ 1.125582   ┆ 2.267394   ┆ 10.488 ┆ 0.038   ┆ 8.67   ┆ 0.015   ┆           ┆ 8.50638   │\n",
      "│ 1.056865   ┆ 1.897829   ┆ 12.921 ┆ 0.335   ┆ 12.1   ┆ 0.243   ┆           ┆ 12.026111 │\n",
      "│ 0.050598   ┆ 1.771443   ┆ 11.318 ┆ 0.07    ┆ 10.521 ┆ 0.051   ┆           ┆ 10.44927  │\n",
      "│ …          ┆ …          ┆ …      ┆ …       ┆ …      ┆ …       ┆ …         ┆ …         │\n",
      "│ 345.76767  ┆ -88.284042 ┆ 13.108 ┆ 0.271   ┆ 12.48  ┆ 0.196   ┆           ┆ 12.423479 │\n",
      "│ 341.197632 ┆ -88.538872 ┆ 13.147 ┆ 0.287   ┆ 12.158 ┆ 0.177   ┆           ┆ 12.06899  │\n",
      "│ 337.975433 ┆ -88.762932 ┆ 10.99  ┆ 0.048   ┆ 10.47  ┆ 0.042   ┆           ┆ 10.423201 │\n",
      "│ 355.96582  ┆ -88.834259 ┆ 12.828 ┆ 0.231   ┆ 12.096 ┆ 0.167   ┆           ┆ 12.03012  │\n",
      "└────────────┴────────────┴────────┴─────────┴────────┴─────────┴───────────┴───────────┘\n"
     ]
    }
   ],
   "source": [
    "#df.map_rows(lambda t: (t[4] - 0.094*(t[2] - t[4]))).alias('Vmag')\n",
    "df = df.with_columns((df[\"VTmag\"] - 0.090 * (df[\"BTmag\"] - df[\"VTmag\"])).alias(\"Vmag\"))\n",
    "\n",
    "print(df)"
   ]
  },
  {
   "cell_type": "markdown",
   "id": "3a5bafba-1ec2-4bf2-910c-2f95d98f4591",
   "metadata": {},
   "source": [
    "## Write parquet file"
   ]
  },
  {
   "cell_type": "code",
   "execution_count": 47,
   "id": "7f56844c-f188-4ab7-a95c-47a8f0810017",
   "metadata": {},
   "outputs": [],
   "source": [
    "df.write_parquet('./support/tyc2.parquet')"
   ]
  },
  {
   "cell_type": "markdown",
   "id": "c2c63990-16cb-4ac0-aa6b-3683be912ff0",
   "metadata": {},
   "source": [
    "# Read parquet file to test"
   ]
  },
  {
   "cell_type": "code",
   "execution_count": 48,
   "id": "dcde3eef-7538-4304-9e1d-0ca93b522b53",
   "metadata": {},
   "outputs": [
    {
     "name": "stdout",
     "output_type": "stream",
     "text": [
      "shape: (2_430_468, 8)\n",
      "┌────────────┬────────────┬────────┬─────────┬────────┬─────────┬───────────┬───────────┐\n",
      "│ RAmdeg     ┆ DEmdeg     ┆ BTmag  ┆ e_BTmag ┆ VTmag  ┆ e_VTmag ┆ HIPCCDM   ┆ Vmag      │\n",
      "│ ---        ┆ ---        ┆ ---    ┆ ---     ┆ ---    ┆ ---     ┆ ---       ┆ ---       │\n",
      "│ f32        ┆ f32        ┆ f32    ┆ f32     ┆ f32    ┆ f32     ┆ str       ┆ f32       │\n",
      "╞════════════╪════════════╪════════╪═════════╪════════╪═════════╪═══════════╪═══════════╡\n",
      "│ 2.317505   ┆ 2.231843   ┆ 12.146 ┆ 0.158   ┆ 12.146 ┆ 0.223   ┆           ┆ 12.146    │\n",
      "│ 1.125582   ┆ 2.267394   ┆ 10.488 ┆ 0.038   ┆ 8.67   ┆ 0.015   ┆           ┆ 8.50638   │\n",
      "│ 1.056865   ┆ 1.897829   ┆ 12.921 ┆ 0.335   ┆ 12.1   ┆ 0.243   ┆           ┆ 12.026111 │\n",
      "│ 0.050598   ┆ 1.771443   ┆ 11.318 ┆ 0.07    ┆ 10.521 ┆ 0.051   ┆           ┆ 10.44927  │\n",
      "│ …          ┆ …          ┆ …      ┆ …       ┆ …      ┆ …       ┆ …         ┆ …         │\n",
      "│ 345.76767  ┆ -88.284042 ┆ 13.108 ┆ 0.271   ┆ 12.48  ┆ 0.196   ┆           ┆ 12.423479 │\n",
      "│ 341.197632 ┆ -88.538872 ┆ 13.147 ┆ 0.287   ┆ 12.158 ┆ 0.177   ┆           ┆ 12.06899  │\n",
      "│ 337.975433 ┆ -88.762932 ┆ 10.99  ┆ 0.048   ┆ 10.47  ┆ 0.042   ┆           ┆ 10.423201 │\n",
      "│ 355.96582  ┆ -88.834259 ┆ 12.828 ┆ 0.231   ┆ 12.096 ┆ 0.167   ┆           ┆ 12.03012  │\n",
      "└────────────┴────────────┴────────┴─────────┴────────┴─────────┴───────────┴───────────┘\n"
     ]
    }
   ],
   "source": [
    "df = pl.read_parquet('./support/tyc2.parquet')\n",
    "print(df)"
   ]
  },
  {
   "cell_type": "code",
   "execution_count": null,
   "id": "3eda8a97-bdb1-4106-8844-7501287a5a7b",
   "metadata": {},
   "outputs": [],
   "source": []
  }
 ],
 "metadata": {
  "kernelspec": {
   "display_name": "Python 3 (ipykernel)",
   "language": "python",
   "name": "python3"
  },
  "language_info": {
   "codemirror_mode": {
    "name": "ipython",
    "version": 3
   },
   "file_extension": ".py",
   "mimetype": "text/x-python",
   "name": "python",
   "nbconvert_exporter": "python",
   "pygments_lexer": "ipython3",
   "version": "3.11.5"
  }
 },
 "nbformat": 4,
 "nbformat_minor": 5
}
