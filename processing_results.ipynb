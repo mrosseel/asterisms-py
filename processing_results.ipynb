{
 "cells": [
  {
   "cell_type": "code",
   "execution_count": 1,
   "id": "87160ee0-cac9-4808-a8e9-b2f494c42375",
   "metadata": {},
   "outputs": [],
   "source": [
    "import polars as pl\n",
    "import time\n",
    "\n",
    "import sys\n",
    "sys.path.insert(0, './star-charts')\n",
    "import sky_area\n",
    "from star_data import StarData, StarDataList\n",
    "from input_file import InputFile\n",
    "from diagram import Diagram\n",
    "from coord_calc import CoordCalc"
   ]
  },
  {
   "cell_type": "code",
   "execution_count": 2,
   "id": "8b7eaa65-8974-4af3-8b6b-e7057c1d57f8",
   "metadata": {},
   "outputs": [
    {
     "data": {
      "text/html": [
       "<div><style>\n",
       ".dataframe > thead > tr > th,\n",
       ".dataframe > tbody > tr > td {\n",
       "  text-align: right;\n",
       "  white-space: pre-wrap;\n",
       "}\n",
       "</style>\n",
       "<small>shape: (9, 4)</small><table border=\"1\" class=\"dataframe\"><thead><tr><th>describe</th><th>RAmdeg</th><th>DEmdeg</th><th>Vmag</th></tr><tr><td>str</td><td>f64</td><td>f64</td><td>f64</td></tr></thead><tbody><tr><td>&quot;count&quot;</td><td>2.430468e6</td><td>2.430468e6</td><td>2.430468e6</td></tr><tr><td>&quot;null_count&quot;</td><td>0.0</td><td>0.0</td><td>0.0</td></tr><tr><td>&quot;mean&quot;</td><td>188.530502</td><td>-3.479685</td><td>11.071772</td></tr><tr><td>&quot;std&quot;</td><td>100.340485</td><td>41.43108</td><td>1.108483</td></tr><tr><td>&quot;min&quot;</td><td>0.000339</td><td>-89.889664</td><td>1.89558</td></tr><tr><td>&quot;25%&quot;</td><td>105.471535</td><td>-39.00515</td><td>10.54628</td></tr><tr><td>&quot;50%&quot;</td><td>186.052124</td><td>-4.889748</td><td>11.292219</td></tr><tr><td>&quot;75%&quot;</td><td>280.987732</td><td>31.3225</td><td>11.82646</td></tr><tr><td>&quot;max&quot;</td><td>359.999878</td><td>89.832336</td><td>15.37354</td></tr></tbody></table></div>"
      ],
      "text/plain": [
       "shape: (9, 4)\n",
       "┌────────────┬────────────┬────────────┬────────────┐\n",
       "│ describe   ┆ RAmdeg     ┆ DEmdeg     ┆ Vmag       │\n",
       "│ ---        ┆ ---        ┆ ---        ┆ ---        │\n",
       "│ str        ┆ f64        ┆ f64        ┆ f64        │\n",
       "╞════════════╪════════════╪════════════╪════════════╡\n",
       "│ count      ┆ 2.430468e6 ┆ 2.430468e6 ┆ 2.430468e6 │\n",
       "│ null_count ┆ 0.0        ┆ 0.0        ┆ 0.0        │\n",
       "│ mean       ┆ 188.530502 ┆ -3.479685  ┆ 11.071772  │\n",
       "│ std        ┆ 100.340485 ┆ 41.43108   ┆ 1.108483   │\n",
       "│ min        ┆ 0.000339   ┆ -89.889664 ┆ 1.89558    │\n",
       "│ 25%        ┆ 105.471535 ┆ -39.00515  ┆ 10.54628   │\n",
       "│ 50%        ┆ 186.052124 ┆ -4.889748  ┆ 11.292219  │\n",
       "│ 75%        ┆ 280.987732 ┆ 31.3225    ┆ 11.82646   │\n",
       "│ max        ┆ 359.999878 ┆ 89.832336  ┆ 15.37354   │\n",
       "└────────────┴────────────┴────────────┴────────────┘"
      ]
     },
     "execution_count": 2,
     "metadata": {},
     "output_type": "execute_result"
    }
   ],
   "source": [
    "dftycho = pl.read_parquet('./support/tyc2-3.parquet')\n",
    "dftycho.describe()"
   ]
  },
  {
   "cell_type": "code",
   "execution_count": 3,
   "id": "7fe3d4b2-24f6-4dff-b8cd-aa8169afce82",
   "metadata": {},
   "outputs": [],
   "source": [
    "def stars_for_point_and_radius(df, point, radius, max_mag):\n",
    "    \"\"\" point is in the corner, not the center \"\"\"\n",
    "    ra, dec = point\n",
    "    minra = ra\n",
    "    maxra = ra + radius\n",
    "    mindec = dec\n",
    "    maxdec = dec + radius\n",
    "    return df.filter((pl.col(\"RAmdeg\") < maxra) & (pl.col(\"RAmdeg\") > minra) & (pl.col(\"DEmdeg\") < maxdec) & (pl.col(\"DEmdeg\") > mindec) & (pl.col(\"Vmag\") <= max_mag))\n",
    "\n",
    "def get_grid_points(min_dec=-90, max_dec=90):\n",
    "    RA_values = [ra for ra in range(0, 361, 4)]  # Increment by 4 for a 2-degree radius\n",
    "    Dec_values = [dec for dec in range(min_dec, max_dec+1, 4)]  # Increment by 4 for a 2-degree radius\n",
    "    grid_points = [(ra, dec) for ra in RA_values for dec in Dec_values]\n",
    "    return grid_points\n",
    "\n",
    "def get_grid_point_by_idx(idx):\n",
    "    gp = get_grid_points()\n",
    "    return gp[idx]\n",
    "\n",
    "def get_region(dftycho, idx, radius, min_dec, max_dec, max_mag):\n",
    "    gp = get_grid_points(min_dec, max_dec)\n",
    "    point = gp[idx]\n",
    "    return stars_for_point_and_radius(dftycho, point, radius, max_mag)\n",
    "\n",
    "\n",
    "def draw_region(region, regionstars, focusstars, label):\n",
    "    area  = sky_area.SkyArea(regionstars['RAmdeg'].min(),regionstars['RAmdeg'].max(), regionstars['DEmdeg'].min(), regionstars['DEmdeg'].max(), regionstars['Vmag'].min())\n",
    "    print(str(area))\n",
    "    star_data_list = [StarData(x[0], x[1], x[2]) for x in regionstars.rows()]\n",
    "    for star in focusstars:\n",
    "        star_data_list.append(StarData(star[0], star[1], star[2], label))\n",
    "    star_data_list = StarDataList(star_data_list)\n",
    "    \n",
    "    cc = CoordCalc(star_data_list, area, 400)    \n",
    "    cc.process()\n",
    "    d = Diagram(f'Region {region}', area, star_data_list)\n",
    "    list(map(d.add_curve, cc.calc_curves()))     \n",
    "    d.render_svg(f'region_{region}.svg')"
   ]
  },
  {
   "cell_type": "code",
   "execution_count": 4,
   "id": "670f632e-e436-482e-86fe-e957b513c432",
   "metadata": {},
   "outputs": [
    {
     "name": "stdout",
     "output_type": "stream",
     "text": [
      "length of parquet results: 220\n",
      "shape: (10, 5)\n",
      "┌──────────┬────────┬──────────┬──────────┬───────────────────────────────────┐\n",
      "│ score    ┆ region ┆ score1   ┆ score2   ┆ stars                             │\n",
      "│ ---      ┆ ---    ┆ ---      ┆ ---      ┆ ---                               │\n",
      "│ f64      ┆ i64    ┆ f64      ┆ f64      ┆ list[list[f64]]                   │\n",
      "╞══════════╪════════╪══════════╪══════════╪═══════════════════════════════════╡\n",
      "│ 1.008304 ┆ 65     ┆ 0.008773 ┆ 0.999531 ┆ [[8.364757, -57.518147, 11.49566… │\n",
      "│ 1.00867  ┆ 65     ┆ 0.00882  ┆ 0.999849 ┆ [[8.814655, -57.732128, 11.71213… │\n",
      "│ 1.00863  ┆ 96     ┆ 0.008909 ┆ 0.999721 ┆ [[12.873372, -62.116669, 12.0100… │\n",
      "│ 1.008673 ┆ 96     ┆ 0.008952 ┆ 0.999721 ┆ [[12.873372, -62.116669, 12.0100… │\n",
      "│ …        ┆ …      ┆ …        ┆ …        ┆ …                                 │\n",
      "│ 1.008676 ┆ 64     ┆ 0.010367 ┆ 0.998309 ┆ [[9.53124, -61.70174, 11.82692],… │\n",
      "│ 1.010283 ┆ 1      ┆ 0.010593 ┆ 0.99969  ┆ [[1.627652, -57.284172, 11.39389… │\n",
      "│ 1.010595 ┆ 36     ┆ 0.011755 ┆ 0.99884  ┆ [[4.571393, -46.410973, 10.79083… │\n",
      "│ 1.010804 ┆ 37     ┆ 0.012314 ┆ 0.99849  ┆ [[4.996479, -42.275185, 11.41778… │\n",
      "└──────────┴────────┴──────────┴──────────┴───────────────────────────────────┘\n"
     ]
    },
    {
     "data": {
      "text/html": [
       "<div><style>\n",
       ".dataframe > thead > tr > th,\n",
       ".dataframe > tbody > tr > td {\n",
       "  text-align: right;\n",
       "  white-space: pre-wrap;\n",
       "}\n",
       "</style>\n",
       "<small>shape: (1, 5)</small><table border=\"1\" class=\"dataframe\"><thead><tr><th>score</th><th>region</th><th>score1</th><th>score2</th><th>stars</th></tr><tr><td>f64</td><td>i64</td><td>f64</td><td>f64</td><td>list[list[f64]]</td></tr></thead><tbody><tr><td>1.008304</td><td>65</td><td>0.008773</td><td>0.999531</td><td>[[8.364757, -57.518147, 11.49566], [9.546021, -58.045547, 10.99091], [9.496355, -58.370415, 11.99044]]</td></tr></tbody></table></div>"
      ],
      "text/plain": [
       "shape: (1, 5)\n",
       "┌──────────┬────────┬──────────┬──────────┬───────────────────────────────────┐\n",
       "│ score    ┆ region ┆ score1   ┆ score2   ┆ stars                             │\n",
       "│ ---      ┆ ---    ┆ ---      ┆ ---      ┆ ---                               │\n",
       "│ f64      ┆ i64    ┆ f64      ┆ f64      ┆ list[list[f64]]                   │\n",
       "╞══════════╪════════╪══════════╪══════════╪═══════════════════════════════════╡\n",
       "│ 1.008304 ┆ 65     ┆ 0.008773 ┆ 0.999531 ┆ [[8.364757, -57.518147, 11.49566… │\n",
       "└──────────┴────────┴──────────┴──────────┴───────────────────────────────────┘"
      ]
     },
     "execution_count": 4,
     "metadata": {},
     "output_type": "execute_result"
    }
   ],
   "source": [
    "result_filename = 'result_squareness.parquet'\n",
    "df = pl.read_parquet(result_filename)\n",
    "print(\"length of parquet results:\", len(df))\n",
    "head = df.sort(\"score1\").head(10)\n",
    "print(head)\n",
    "chosen = head[0]\n",
    "chosen"
   ]
  },
  {
   "cell_type": "code",
   "execution_count": 5,
   "id": "33e71a59-f308-4238-9e05-24374f06e7bb",
   "metadata": {},
   "outputs": [
    {
     "name": "stdout",
     "output_type": "stream",
     "text": [
      "65\n",
      "shape: (9, 4)\n",
      "┌────────────┬──────────┬────────────┬───────────┐\n",
      "│ describe   ┆ RAmdeg   ┆ DEmdeg     ┆ Vmag      │\n",
      "│ ---        ┆ ---      ┆ ---        ┆ ---       │\n",
      "│ str        ┆ f64      ┆ f64        ┆ f64       │\n",
      "╞════════════╪══════════╪════════════╪═══════════╡\n",
      "│ count      ┆ 75.0     ┆ 75.0       ┆ 75.0      │\n",
      "│ null_count ┆ 0.0      ┆ 0.0        ┆ 0.0       │\n",
      "│ mean       ┆ 9.021595 ┆ -57.903736 ┆ 10.982916 │\n",
      "│ std        ┆ 0.494077 ┆ 0.561898   ┆ 1.22158   │\n",
      "│ min        ┆ 8.057153 ┆ -58.990746 ┆ 6.81971   │\n",
      "│ 25%        ┆ 8.672735 ┆ -58.33675  ┆ 10.27339  │\n",
      "│ 50%        ┆ 8.960945 ┆ -57.825565 ┆ 11.30423  │\n",
      "│ 75%        ┆ 9.41347  ┆ -57.481609 ┆ 11.9509   │\n",
      "│ max        ┆ 9.944145 ┆ -57.046745 ┆ 12.71198  │\n",
      "└────────────┴──────────┴────────────┴───────────┘\n"
     ]
    }
   ],
   "source": [
    "#region = df.sort(\"score\")[0]['region'][0]\n",
    "region = int(chosen['region'][0])\n",
    "print(region)\n",
    "region_stars = get_region(dftycho, region, 2, -63,63, 15)\n",
    "print(region_stars.describe())"
   ]
  },
  {
   "cell_type": "code",
   "execution_count": 6,
   "id": "b5c9f662-3237-434a-8327-b08d7bc89031",
   "metadata": {},
   "outputs": [
    {
     "name": "stdout",
     "output_type": "stream",
     "text": [
      "[[8.36475658416748, -57.51814651489258, 11.495659828186035], [9.546021461486816, -58.04554748535156, 10.990909576416016], [9.496355056762695, -58.37041473388672, 11.990440368652344]]\n",
      "SkyArea: ra_min=8.057153 ra_max=9.944145 dec_min=-58.990746 dec_max=-57.046745 mag_min=6.819710\n"
     ]
    }
   ],
   "source": [
    "focusstars = chosen['stars'].to_list()[0]\n",
    "print(focusstars)\n",
    "draw_region(region, region_stars, focusstars, \"a\")\n",
    "\n",
    "time.sleep(5)\n",
    "!convert -size 800x600 region_{region}.svg region_{region}.png\n",
    "!open region_{region}.png"
   ]
  },
  {
   "cell_type": "code",
   "execution_count": null,
   "id": "8baab125-d5e8-4938-8286-e0cb42356ea3",
   "metadata": {},
   "outputs": [],
   "source": []
  },
  {
   "cell_type": "code",
   "execution_count": null,
   "id": "f890ee48-5aef-40d6-8031-9580e1f4fd0c",
   "metadata": {},
   "outputs": [],
   "source": []
  }
 ],
 "metadata": {
  "kernelspec": {
   "display_name": "Python 3 (ipykernel)",
   "language": "python",
   "name": "python3"
  },
  "language_info": {
   "codemirror_mode": {
    "name": "ipython",
    "version": 3
   },
   "file_extension": ".py",
   "mimetype": "text/x-python",
   "name": "python",
   "nbconvert_exporter": "python",
   "pygments_lexer": "ipython3",
   "version": "3.11.5"
  }
 },
 "nbformat": 4,
 "nbformat_minor": 5
}
