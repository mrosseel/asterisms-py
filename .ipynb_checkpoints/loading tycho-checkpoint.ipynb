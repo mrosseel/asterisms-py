{
 "cells": [
  {
   "cell_type": "markdown",
   "id": "3b33f54c",
   "metadata": {},
   "source": [
    "# load stars"
   ]
  },
  {
   "cell_type": "code",
   "execution_count": 1,
   "id": "574e51a1",
   "metadata": {},
   "outputs": [],
   "source": [
    "import numpy as np\n",
    "import coordinate_transformations as coord\n",
    "\n",
    "class tycho2:\n",
    "    def __init__(self, index_filename, catalog_filename, supplement_filename):\n",
    "        self._index = np.load(index_filename)\n",
    "        self._catalog = np.load(catalog_filename, mmap_mode='r')\n",
    "        self._supplement = np.load(supplement_filename)\n",
    "        \n",
    "    def regions_within_radius(self, center, radius):\n",
    "        radius = np.radians(radius)\n",
    "        center_RA, center_DEC = center\n",
    "        \n",
    "        region_RAs = self._index[:,2] # GSC region central coords\n",
    "        region_DECs = self._index[:,3]\n",
    "        region_radii = self._index[:,4] # GSC region corner radius\n",
    "        \n",
    "        # lets rotate coordinates so that center_RA and center_DEC are at origin\n",
    "        region_xyz = coord.rotate_RADEC(region_RAs, region_DECs, center_RA, center_DEC)\n",
    "        R = coord.xyz_radius_from_origin(*region_xyz)\n",
    "        \n",
    "        regions, = np.nonzero(R < radius + region_radii)\n",
    "        \n",
    "        # GSC index has an extra row in the end (index 9537) marked at RADEC 0,0. filter it out.\n",
    "        regions = regions[regions < self._index.shape[0]-1]\n",
    "        \n",
    "        return regions\n",
    "    \n",
    "    def stars_in_regions(self, regions, LM=None):\n",
    "        tyc_start_inds = self._index[:,0] # starting indices for tycho2 stars in GSC region\n",
    "        sup_start_inds = self._index[:,1] #  ... for tycho2 supplement stars\n",
    "        \n",
    "        tycho_ranges = [np.arange(tyc_start_inds[i], tyc_start_inds[i+1]) for i in regions]\n",
    "        supplement_ranges = [np.arange(sup_start_inds[i], sup_start_inds[i+1]) for i in regions]\n",
    "        \n",
    "        tycho_indices = np.concatenate(tycho_ranges).astype('int')\n",
    "        suppl_indices = np.concatenate(supplement_ranges).astype('int')\n",
    "        \n",
    "        # append supplement to catalog, making an Nx3 array (ra, dec, mag)\n",
    "        supplemented_catalog = np.vstack([self._catalog[tycho_indices], \\\n",
    "                                          self._supplement[suppl_indices]])\n",
    "    \n",
    "        if LM:\n",
    "            # strip out stars below LM\n",
    "            mags = supplemented_catalog[:,2]\n",
    "            trimmed_catalog = supplemented_catalog[mags < LM]\n",
    "        else:\n",
    "            trimmed_catalog = supplemented_catalog\n",
    "            \n",
    "        RAs = trimmed_catalog[:,0]\n",
    "        DECs = trimmed_catalog[:,1]\n",
    "        mags = trimmed_catalog[:,2]\n",
    "        \n",
    "        return RAs, DECs, mags\n",
    "    \n",
    "#        xyz = coord.rotate_RADEC(RAs, DECs, *center_RADEC)\n",
    "#        image_x, image_y = coord.xyz_to_imagexy(*xyz, \\\n",
    "#                                                rotation=rotation, \\\n",
    "#                                                projection=self._projection)\n",
    "        \n",
    "    def stars_within_radius(self, center_RADEC, radius, LM):\n",
    "        regions = self.regions_within_radius(center_RADEC, radius)\n",
    "        return self.stars_in_regions(regions, LM=LM)\n",
    "            \n",
    "        \n",
    "        \n",
    "        \n",
    "        \n",
    "               \n",
    "        "
   ]
  },
  {
   "cell_type": "code",
   "execution_count": 2,
   "id": "fa7649e2",
   "metadata": {},
   "outputs": [],
   "source": [
    "tycho = tycho2('tyc2index.npy', 'tyc2.npy', 'tyc2sup.npy' )"
   ]
  },
  {
   "cell_type": "code",
   "execution_count": 10,
   "id": "eb007153",
   "metadata": {},
   "outputs": [],
   "source": [
    "stars = tycho.stars_within_radius([50,8], 1,12)"
   ]
  },
  {
   "cell_type": "code",
   "execution_count": 11,
   "id": "04ea061d",
   "metadata": {},
   "outputs": [
    {
     "data": {
      "text/plain": [
       "3"
      ]
     },
     "execution_count": 11,
     "metadata": {},
     "output_type": "execute_result"
    }
   ],
   "source": [
    "len(stars)"
   ]
  },
  {
   "cell_type": "code",
   "execution_count": 9,
   "id": "207372f5",
   "metadata": {},
   "outputs": [
    {
     "data": {
      "text/plain": [
       "2539913"
      ]
     },
     "execution_count": 9,
     "metadata": {},
     "output_type": "execute_result"
    }
   ],
   "source": [
    "len(tycho._catalog)"
   ]
  },
  {
   "cell_type": "code",
   "execution_count": 5,
   "id": "f30c480c",
   "metadata": {},
   "outputs": [
    {
     "data": {
      "text/plain": [
       "(array([5.9130993, 5.918259 , 5.8732915, 5.9232893, 5.8853135, 5.8755255,\n",
       "        5.945413 , 5.868852 , 5.9242277, 5.9405746, 5.9588895, 5.967422 ,\n",
       "        5.9059877, 5.899024 , 5.974534 , 5.913411 , 5.9594183, 5.9438806,\n",
       "        5.886753 , 5.9062977, 5.8664575, 5.933556 , 5.8717375, 5.906077 ,\n",
       "        5.953085 , 5.982747 , 5.9972477, 6.000251 , 5.9823704, 5.9956856,\n",
       "        5.9922814, 6.0037603, 6.135158 , 6.1108146, 6.116992 , 6.1018867,\n",
       "        6.1175146, 6.1309   , 6.1397305, 6.1277304, 6.1388106, 6.0710893,\n",
       "        6.0730844, 6.04888  , 6.0233326, 6.0907626, 6.058881 , 6.01432  ,\n",
       "        6.088713 , 6.0288653, 6.007566 , 6.0829687, 6.0791225, 6.0872927,\n",
       "        6.0846825, 6.01991  , 6.054379 , 6.019959 , 6.029733 , 6.0785623,\n",
       "        6.065601 , 6.0476604, 6.0367937, 6.0270596, 6.075865 , 6.0782256,\n",
       "        6.094378 , 6.09207  , 6.068349 , 6.083834 , 6.097631 , 6.006161 ,\n",
       "        6.034545 , 5.982029 , 5.937002 , 5.9768224, 6.053461 , 6.021584 ,\n",
       "        5.98527  , 6.0107527, 6.0095086, 6.02085  , 6.026495 , 6.053297 ,\n",
       "        5.9619904, 6.061534 , 6.0436563], dtype=float32),\n",
       " array([-1.2662629, -1.2690804, -1.2676733, -1.2837616, -1.283722 ,\n",
       "        -1.2759763, -1.2783201, -1.2723562, -1.2816356, -1.2842395,\n",
       "        -1.2909961, -1.2892357, -1.3053151, -1.2861546, -1.3005468,\n",
       "        -1.2937585, -1.3050523, -1.276546 , -1.2936894, -1.2868983,\n",
       "        -1.2712419, -1.2906736, -1.3041226, -1.3031546, -1.3058664,\n",
       "        -1.2692646, -1.3066386, -1.2753037, -1.2794573, -1.2812185,\n",
       "        -1.3027775, -1.3089155, -1.2895975, -1.2820846, -1.286435 ,\n",
       "        -1.3005533, -1.294446 , -1.278865 , -1.2720242, -1.2804538,\n",
       "        -1.2886894, -1.2658025, -1.2901388, -1.2735889, -1.2708626,\n",
       "        -1.2893767, -1.28432  , -1.2876501, -1.3007207, -1.2846003,\n",
       "        -1.2908542, -1.2767158, -1.2972667, -1.2947631, -1.2795722,\n",
       "        -1.2778633, -1.2920685, -1.2823576, -1.3040019, -1.283254 ,\n",
       "        -1.3021466, -1.3049155, -1.3012881, -1.2925836, -1.3073691,\n",
       "        -1.3204616, -1.3183239, -1.3181295, -1.3345355, -1.3382038,\n",
       "        -1.3358678, -1.340375 , -1.3407649, -1.3402342, -1.3105729,\n",
       "        -1.332556 , -1.309309 , -1.3246102, -1.313298 , -1.3222975,\n",
       "        -1.3219123, -1.3110245, -1.3172506, -1.3289833, -1.316365 ,\n",
       "        -1.3246686, -1.3222829], dtype=float32),\n",
       " array([8.079, 6.843, 9.597, 9.627, 9.593, 9.544, 8.172, 9.714, 8.117,\n",
       "        9.726, 9.848, 9.791, 9.374, 9.411, 9.885, 9.761, 8.954, 9.91 ,\n",
       "        9.939, 9.933, 9.508, 9.398, 8.94 , 9.356, 7.819, 9.461, 7.438,\n",
       "        8.955, 9.024, 8.222, 9.894, 7.859, 9.85 , 9.991, 8.931, 8.033,\n",
       "        8.949, 7.6  , 8.171, 9.083, 7.595, 8.37 , 9.778, 8.989, 9.667,\n",
       "        8.884, 6.318, 8.138, 9.467, 9.945, 9.683, 8.641, 9.998, 9.437,\n",
       "        9.07 , 9.944, 9.905, 8.388, 8.877, 9.792, 9.503, 8.858, 9.758,\n",
       "        9.778, 9.552, 9.608, 9.201, 9.72 , 8.135, 9.969, 9.905, 9.684,\n",
       "        9.274, 9.114, 9.181, 9.089, 9.802, 9.888, 9.21 , 9.913, 9.366,\n",
       "        9.681, 9.294, 9.983, 7.314, 8.539, 9.25 ], dtype=float32))"
      ]
     },
     "execution_count": 5,
     "metadata": {},
     "output_type": "execute_result"
    }
   ],
   "source": [
    "stars"
   ]
  },
  {
   "cell_type": "code",
   "execution_count": null,
   "id": "1b85caeb",
   "metadata": {},
   "outputs": [],
   "source": [
    "import numpy as np\n",
    "import itertools\n",
    "\n",
    "def centroid_cubeness(points):\n",
    "    if len(points) != 8:\n",
    "        raise ValueError(\"Expected 8 points\")\n",
    "\n",
    "    centroid = np.mean(points, axis=0)\n",
    "    distances_to_centroid = np.array([np.linalg.norm(p - centroid) for p in points])\n",
    "\n",
    "    return np.std(distances_to_centroid)\n",
    "\n",
    "def find_best_cubeness(x, y, z):\n",
    "    coords = list(zip(x, y, z))\n",
    "    scores = {}\n",
    "\n",
    "    # Check all subsets of 8 points\n",
    "    for subset in itertools.combinations(coords, 8):\n",
    "        score = centroid_cubeness(np.array(subset))\n",
    "        scores[subset] = score\n",
    "        print(score)\n",
    "\n",
    "    # Sort by best scores\n",
    "    sorted_scores = sorted(scores.items(), key=lambda kv: kv[1])\n",
    "\n",
    "    # Returning the best 5 scores\n",
    "    return sorted_scores[:5]\n",
    "\n",
    "\n",
    "results = find_best_cubeness(*stars)\n",
    "\n",
    "for subset, score in results:\n",
    "    print(f\"Subset: {subset}\\nScore: {score}\\n\\n\")\n",
    "\n"
   ]
  },
  {
   "cell_type": "code",
   "execution_count": null,
   "id": "6d74f53a",
   "metadata": {},
   "outputs": [],
   "source": []
  }
 ],
 "metadata": {
  "kernelspec": {
   "display_name": "Python 3 (ipykernel)",
   "language": "python",
   "name": "python3"
  },
  "language_info": {
   "codemirror_mode": {
    "name": "ipython",
    "version": 3
   },
   "file_extension": ".py",
   "mimetype": "text/x-python",
   "name": "python",
   "nbconvert_exporter": "python",
   "pygments_lexer": "ipython3",
   "version": "3.11.5"
  }
 },
 "nbformat": 4,
 "nbformat_minor": 5
}
