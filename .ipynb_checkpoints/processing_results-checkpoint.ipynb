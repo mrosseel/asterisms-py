{
 "cells": [
  {
   "cell_type": "code",
   "execution_count": 30,
   "id": "87160ee0-cac9-4808-a8e9-b2f494c42375",
   "metadata": {},
   "outputs": [],
   "source": [
    "import polars as pl"
   ]
  },
  {
   "cell_type": "code",
   "execution_count": 47,
   "id": "670f632e-e436-482e-86fe-e957b513c432",
   "metadata": {},
   "outputs": [
    {
     "data": {
      "text/html": [
       "<div><style>\n",
       ".dataframe > thead > tr > th,\n",
       ".dataframe > tbody > tr > td {\n",
       "  text-align: right;\n",
       "  white-space: pre-wrap;\n",
       "}\n",
       "</style>\n",
       "<small>shape: (10, 5)</small><table border=\"1\" class=\"dataframe\"><thead><tr><th>score</th><th>region</th><th>score1</th><th>score2</th><th>stars</th></tr><tr><td>f64</td><td>i64</td><td>f64</td><td>f64</td><td>list[list[f64]]</td></tr></thead><tbody><tr><td>0.157113</td><td>1311</td><td>0.005203</td><td>0.15191</td><td>[[161.826111, 61.594357, 9.51511], [160.300705, 61.908466, 9.49673], … [161.285828, 62.717285, 9.40296]]</td></tr><tr><td>0.265164</td><td>2432</td><td>0.001203</td><td>0.263961</td><td>[[305.321442, -61.406387, 9.505799], [304.027527, -62.165958, 9.74786], … [305.443298, -62.867619, 9.76976]]</td></tr><tr><td>0.348274</td><td>1308</td><td>0.003825</td><td>0.34445</td><td>[[161.003189, 49.424229, 9.70694], [160.543808, 49.575539, 9.47519], … [160.410034, 50.906319, 9.81964]]</td></tr><tr><td>0.348494</td><td>1308</td><td>0.004044</td><td>0.34445</td><td>[[161.003189, 49.424229, 9.70694], [160.543808, 49.575539, 9.47519], … [161.78273, 50.621059, 9.66376]]</td></tr><tr><td>0.349522</td><td>259</td><td>0.003582</td><td>0.34594</td><td>[[32.981071, -49.22015, 9.58485], [32.120289, -49.269997, 9.8225], … [33.797012, -50.329666, 9.61644]]</td></tr><tr><td>0.349578</td><td>259</td><td>0.003639</td><td>0.34594</td><td>[[32.886089, -49.148533, 9.61658], [32.981071, -49.22015, 9.58485], … [33.797012, -50.329666, 9.61644]]</td></tr><tr><td>0.355521</td><td>1887</td><td>0.002221</td><td>0.3533</td><td>[[233.796463, 61.979149, 9.905149], [232.980453, 62.945393, 9.63107], … [232.743515, 62.638016, 9.83884]]</td></tr><tr><td>0.355952</td><td>1887</td><td>0.002652</td><td>0.3533</td><td>[[233.796463, 61.979149, 9.905149], [232.980453, 62.945393, 9.63107], … [232.804596, 62.900513, 9.8073]]</td></tr><tr><td>0.392541</td><td>0</td><td>0.005122</td><td>0.387419</td><td>[[0.636689, -61.391762, 9.67557], [0.891542, -61.773109, 9.992459], … [0.732144, -62.872242, 9.605041]]</td></tr><tr><td>0.392541</td><td>0</td><td>0.005122</td><td>0.387419</td><td>[[0.636689, -61.391762, 9.67557], [0.891542, -61.773109, 9.992459], … [0.732144, -62.872242, 9.605041]]</td></tr></tbody></table></div>"
      ],
      "text/plain": [
       "shape: (10, 5)\n",
       "┌──────────┬────────┬──────────┬──────────┬───────────────────────────────────┐\n",
       "│ score    ┆ region ┆ score1   ┆ score2   ┆ stars                             │\n",
       "│ ---      ┆ ---    ┆ ---      ┆ ---      ┆ ---                               │\n",
       "│ f64      ┆ i64    ┆ f64      ┆ f64      ┆ list[list[f64]]                   │\n",
       "╞══════════╪════════╪══════════╪══════════╪═══════════════════════════════════╡\n",
       "│ 0.157113 ┆ 1311   ┆ 0.005203 ┆ 0.15191  ┆ [[161.826111, 61.594357, 9.51511… │\n",
       "│ 0.265164 ┆ 2432   ┆ 0.001203 ┆ 0.263961 ┆ [[305.321442, -61.406387, 9.5057… │\n",
       "│ 0.348274 ┆ 1308   ┆ 0.003825 ┆ 0.34445  ┆ [[161.003189, 49.424229, 9.70694… │\n",
       "│ 0.348494 ┆ 1308   ┆ 0.004044 ┆ 0.34445  ┆ [[161.003189, 49.424229, 9.70694… │\n",
       "│ …        ┆ …      ┆ …        ┆ …        ┆ …                                 │\n",
       "│ 0.355521 ┆ 1887   ┆ 0.002221 ┆ 0.3533   ┆ [[233.796463, 61.979149, 9.90514… │\n",
       "│ 0.355952 ┆ 1887   ┆ 0.002652 ┆ 0.3533   ┆ [[233.796463, 61.979149, 9.90514… │\n",
       "│ 0.392541 ┆ 0      ┆ 0.005122 ┆ 0.387419 ┆ [[0.636689, -61.391762, 9.67557]… │\n",
       "│ 0.392541 ┆ 0      ┆ 0.005122 ┆ 0.387419 ┆ [[0.636689, -61.391762, 9.67557]… │\n",
       "└──────────┴────────┴──────────┴──────────┴───────────────────────────────────┘"
      ]
     },
     "execution_count": 47,
     "metadata": {},
     "output_type": "execute_result"
    }
   ],
   "source": [
    "result_filename = 'resulttest.parquet'\n",
    "df = pl.read_parquet(result_filename)\n",
    "df.sort(\"score\").head(10)"
   ]
  },
  {
   "cell_type": "code",
   "execution_count": 51,
   "id": "7fb4cd62-080b-495d-9ae4-b0c4ba56212a",
   "metadata": {},
   "outputs": [
    {
     "data": {
      "text/html": [
       "<div><style>\n",
       ".dataframe > thead > tr > th,\n",
       ".dataframe > tbody > tr > td {\n",
       "  text-align: right;\n",
       "  white-space: pre-wrap;\n",
       "}\n",
       "</style>\n",
       "<small>shape: (1,)</small><table border=\"1\" class=\"dataframe\"><thead><tr><th>region</th></tr><tr><td>i64</td></tr></thead><tbody><tr><td>1311</td></tr></tbody></table></div>"
      ],
      "text/plain": [
       "shape: (1,)\n",
       "Series: 'region' [i64]\n",
       "[\n",
       "\t1311\n",
       "]"
      ]
     },
     "execution_count": 51,
     "metadata": {},
     "output_type": "execute_result"
    }
   ],
   "source": [
    "region = df.sort(\"score\")[0]['region']\n",
    "region"
   ]
  },
  {
   "cell_type": "code",
   "execution_count": 62,
   "id": "7fe3d4b2-24f6-4dff-b8cd-aa8169afce82",
   "metadata": {},
   "outputs": [],
   "source": [
    "def stars_for_point_and_radius(df, point, radius, max_mag):\n",
    "    \"\"\" point is in the corner, not the center \"\"\"\n",
    "    ra, dec = point\n",
    "    minra = ra\n",
    "    maxra = ra + radius\n",
    "    mindec = dec\n",
    "    maxdec = dec + radius\n",
    "    return df.filter((pl.col(\"RAmdeg\") < maxra) & (pl.col(\"RAmdeg\") > minra) & (pl.col(\"DEmdeg\") < maxdec) & (pl.col(\"DEmdeg\") > mindec) & (pl.col(\"Vmag\") <= max_mag))\n",
    "\n",
    "def get_grid_points(min_dec=-90, max_dec=90):\n",
    "    RA_values = [ra for ra in range(0, 361, 4)]  # Increment by 4 for a 2-degree radius\n",
    "    Dec_values = [dec for dec in range(min_dec, max_dec+1, 4)]  # Increment by 4 for a 2-degree radius\n",
    "    grid_points = [(ra, dec) for ra in RA_values for dec in Dec_values]\n",
    "    return grid_points\n",
    "\n",
    "def get_grid_point_by_idx(idx):\n",
    "    gp = get_grid_points()\n",
    "    return gp[idx]\n",
    "\n",
    "def get_region(df, idx, radius, max_mag):\n",
    "    point = get_grid_point_by_idx(idx)\n",
    "    return stars_for_point_and_radius(df, point, radius, max_mag)\n",
    "\n",
    "import sys\n",
    "sys.path.insert(0, './star-charts')\n",
    "import sky_area\n",
    "from star_data import StarData, StarDataList\n",
    "from input_file import InputFile\n",
    "from diagram import Diagram\n",
    "from coord_calc import CoordCalc\n",
    "\n",
    "def draw_region(region, focusstars, label):\n",
    "    area  = sky_area.SkyArea(region['RAmdeg'].min(),region['RAmdeg'].max(), region['DEmdeg'].min(), region['DEmdeg'].max(), region['Vmag'].min())\n",
    "    print(str(area))\n",
    "    star_data_list = [StarData(x[0], x[1], x[2]) for x in region.rows()]\n",
    "    star_data_list = StarDataList(star_data_list)\n",
    "    \n",
    "    cc = CoordCalc(star_data_list, area, 500)    \n",
    "    cc.process()\n",
    "    d = Diagram('My Star Map', area, star_data_list)\n",
    "    list(map(d.add_curve, cc.calc_curves()))                \n",
    "    d.render_svg(f'region_{label}.svg')"
   ]
  },
  {
   "cell_type": "code",
   "execution_count": 63,
   "id": "8b7eaa65-8974-4af3-8b6b-e7057c1d57f8",
   "metadata": {},
   "outputs": [],
   "source": [
    "dftycho = pl.read_parquet('./support/tyc2-3.parquet')\n",
    "region = get_region(dftycho,1311, 2, 10)"
   ]
  },
  {
   "cell_type": "code",
   "execution_count": 66,
   "id": "b5c9f662-3237-434a-8327-b08d7bc89031",
   "metadata": {},
   "outputs": [
    {
     "name": "stdout",
     "output_type": "stream",
     "text": [
      "SkyArea: ra_min=112.005768 ra_max=113.946823 dec_min=2.170300 dec_max=3.998432 mag_min=5.579590\n"
     ]
    }
   ],
   "source": [
    "draw_region(get_region(dftycho, 1311, 2,10), f\"{1311}\")"
   ]
  },
  {
   "cell_type": "code",
   "execution_count": null,
   "id": "99beb150-e274-48d7-92ed-af8b40a73345",
   "metadata": {},
   "outputs": [],
   "source": []
  }
 ],
 "metadata": {
  "kernelspec": {
   "display_name": "Python 3 (ipykernel)",
   "language": "python",
   "name": "python3"
  },
  "language_info": {
   "codemirror_mode": {
    "name": "ipython",
    "version": 3
   },
   "file_extension": ".py",
   "mimetype": "text/x-python",
   "name": "python",
   "nbconvert_exporter": "python",
   "pygments_lexer": "ipython3",
   "version": "3.11.5"
  }
 },
 "nbformat": 4,
 "nbformat_minor": 5
}
