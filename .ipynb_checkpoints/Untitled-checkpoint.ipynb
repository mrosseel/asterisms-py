{
 "cells": [
  {
   "cell_type": "code",
   "execution_count": 1,
   "id": "324ec3d7",
   "metadata": {},
   "outputs": [
    {
     "ename": "ModuleNotFoundError",
     "evalue": "No module named 'torch'",
     "output_type": "error",
     "traceback": [
      "\u001b[0;31m---------------------------------------------------------------------------\u001b[0m",
      "\u001b[0;31mModuleNotFoundError\u001b[0m                       Traceback (most recent call last)",
      "\u001b[0;32m/var/folders/3q/4503_wnn2jj31yqhly2_6jbm0000gn/T/ipykernel_46049/1739942709.py\u001b[0m in \u001b[0;36m<module>\u001b[0;34m\u001b[0m\n\u001b[0;32m----> 1\u001b[0;31m \u001b[0;32mimport\u001b[0m \u001b[0mtorch\u001b[0m\u001b[0;34m\u001b[0m\u001b[0;34m\u001b[0m\u001b[0m\n\u001b[0m\u001b[1;32m      2\u001b[0m \u001b[0;32mimport\u001b[0m \u001b[0mmath\u001b[0m\u001b[0;34m\u001b[0m\u001b[0;34m\u001b[0m\u001b[0m\n\u001b[1;32m      3\u001b[0m \u001b[0;34m\u001b[0m\u001b[0m\n\u001b[1;32m      4\u001b[0m \u001b[0;32mdef\u001b[0m \u001b[0mconvert_to_cartesian\u001b[0m\u001b[0;34m(\u001b[0m\u001b[0mdistances\u001b[0m\u001b[0;34m,\u001b[0m \u001b[0mra\u001b[0m\u001b[0;34m,\u001b[0m \u001b[0mdec\u001b[0m\u001b[0;34m)\u001b[0m\u001b[0;34m:\u001b[0m\u001b[0;34m\u001b[0m\u001b[0;34m\u001b[0m\u001b[0m\n\u001b[1;32m      5\u001b[0m     \u001b[0mx\u001b[0m \u001b[0;34m=\u001b[0m \u001b[0mdistances\u001b[0m \u001b[0;34m*\u001b[0m \u001b[0mtorch\u001b[0m\u001b[0;34m.\u001b[0m\u001b[0mcos\u001b[0m\u001b[0;34m(\u001b[0m\u001b[0mdec\u001b[0m\u001b[0;34m)\u001b[0m \u001b[0;34m*\u001b[0m \u001b[0mtorch\u001b[0m\u001b[0;34m.\u001b[0m\u001b[0mcos\u001b[0m\u001b[0;34m(\u001b[0m\u001b[0mra\u001b[0m\u001b[0;34m)\u001b[0m\u001b[0;34m\u001b[0m\u001b[0;34m\u001b[0m\u001b[0m\n",
      "\u001b[0;31mModuleNotFoundError\u001b[0m: No module named 'torch'"
     ]
    }
   ],
   "source": [
    "import torch\n",
    "import math\n",
    "\n",
    "def convert_to_cartesian(distances, ra, dec):\n",
    "    x = distances * torch.cos(dec) * torch.cos(ra)\n",
    "    y = distances * torch.cos(dec) * torch.sin(ra)\n",
    "    z = distances * torch.sin(dec)\n",
    "    return torch.stack((x, y, z), dim=1)\n",
    "\n",
    "def calculate_distances(coords):\n",
    "    dist_matrix = torch.cdist(coords, coords)\n",
    "    unique_distances = torch.unique(dist_matrix)\n",
    "    return unique_distances[unique_distances > 0]\n",
    "\n",
    "def tetrahedron_score(coords):\n",
    "    distances = calculate_distances(coords)\n",
    "    if len(distances) != 2:\n",
    "        return 0\n",
    "\n",
    "    a, b = distances\n",
    "    if a > b:\n",
    "        a, b = b, a\n",
    "\n",
    "    ratio = b / a\n",
    "    ideal_ratio = math.sqrt(2)\n",
    "    \n",
    "    score = 1 - abs(ratio.item() - ideal_ratio) / ideal_ratio\n",
    "    return score\n",
    "\n",
    "# Define your input data\n",
    "distances = torch.tensor([10, 15, 20, 25], dtype=torch.float32)\n",
    "ra = torch.tensor([0.5, 1.0, 1.5, 2.0], dtype=torch.float32)\n",
    "dec = torch.tensor([0.3, 0.6, 0.9, 1.2], dtype=torch.float32)\n",
    "\n",
    "coords = convert_to_cartesian(distances, ra, dec)\n",
    "score = tetrahedron_score(coords)\n",
    "\n",
    "print(\"Tetrahedron score:\", score)"
   ]
  },
  {
   "cell_type": "code",
   "execution_count": null,
   "id": "7d3578b5",
   "metadata": {},
   "outputs": [],
   "source": []
  }
 ],
 "metadata": {
  "kernelspec": {
   "display_name": "Python 3 (ipykernel)",
   "language": "python",
   "name": "python3"
  },
  "language_info": {
   "codemirror_mode": {
    "name": "ipython",
    "version": 3
   },
   "file_extension": ".py",
   "mimetype": "text/x-python",
   "name": "python",
   "nbconvert_exporter": "python",
   "pygments_lexer": "ipython3",
   "version": "3.11.3"
  }
 },
 "nbformat": 4,
 "nbformat_minor": 5
}
