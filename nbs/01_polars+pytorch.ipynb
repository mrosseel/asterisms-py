{
 "cells": [
  {
   "cell_type": "code",
   "execution_count": null,
   "id": "c43d2ffb-6c78-440b-8374-5207a0e7603e",
   "metadata": {},
   "outputs": [],
   "source": [
    "#| default_exp tycho2_main"
   ]
  },
  {
   "cell_type": "markdown",
   "id": "4b1d4374-a52f-4659-ae76-cfabe171889f",
   "metadata": {},
   "source": [
    "importing dependencies"
   ]
  },
  {
   "cell_type": "code",
   "execution_count": null,
   "id": "8cd31262-e12d-454f-8bfc-9fed23eedeee",
   "metadata": {},
   "outputs": [],
   "source": [
    "#| export\n",
    "import polars as pl\n",
    "import numpy as np\n",
    "import torch\n",
    "import math\n",
    "import time\n",
    "import heapq\n",
    "from typing import List, Any\n",
    "import tqdm\n",
    "import pickle\n",
    "import pyarrow as pa\n",
    "from dataclasses import dataclass, field"
   ]
  },
  {
   "cell_type": "markdown",
   "id": "0b45e209-bb35-48a3-8988-dbd8299aac7f",
   "metadata": {},
   "source": [
    "read the simplified tycho2 catalog"
   ]
  },
  {
   "cell_type": "code",
   "execution_count": null,
   "id": "ef0cdd84-4ae5-40b5-b94d-a746ad9dd6b1",
   "metadata": {},
   "outputs": [
    {
     "name": "stdout",
     "output_type": "stream",
     "text": [
      "shape: (9, 4)\n",
      "┌────────────┬────────────┬────────────┬────────────┐\n",
      "│ describe   ┆ RAmdeg     ┆ DEmdeg     ┆ Vmag       │\n",
      "│ ---        ┆ ---        ┆ ---        ┆ ---        │\n",
      "│ str        ┆ f64        ┆ f64        ┆ f64        │\n",
      "╞════════════╪════════════╪════════════╪════════════╡\n",
      "│ count      ┆ 2.430468e6 ┆ 2.430468e6 ┆ 2.430468e6 │\n",
      "│ null_count ┆ 0.0        ┆ 0.0        ┆ 0.0        │\n",
      "│ mean       ┆ 188.530502 ┆ -3.479685  ┆ 11.071772  │\n",
      "│ std        ┆ 100.340485 ┆ 41.43108   ┆ 1.108483   │\n",
      "│ min        ┆ 0.000339   ┆ -89.889664 ┆ 1.89558    │\n",
      "│ 25%        ┆ 105.471535 ┆ -39.00515  ┆ 10.54628   │\n",
      "│ 50%        ┆ 186.052124 ┆ -4.889748  ┆ 11.292219  │\n",
      "│ 75%        ┆ 280.987732 ┆ 31.3225    ┆ 11.82646   │\n",
      "│ max        ┆ 359.999878 ┆ 89.832336  ┆ 15.37354   │\n",
      "└────────────┴────────────┴────────────┴────────────┘\n"
     ]
    }
   ],
   "source": [
    "df = pl.read_parquet('../support/tyc2-3.parquet')\n",
    "print(df.describe())"
   ]
  },
  {
   "cell_type": "code",
   "execution_count": null,
   "id": "24fbdb70-865c-4d1e-80a9-27c7b7478f5d",
   "metadata": {},
   "outputs": [],
   "source": [
    "#| export\n",
    "\n",
    "@dataclass(order=True)\n",
    "class ScoreItem:\n",
    "    score: float\n",
    "    region: int=field(compare=False)\n",
    "    item: Any=field(compare=False)\n",
    "    \n",
    "@dataclass(order=True)\n",
    "class Points:\n",
    "    points: Any=field(compare=False)\n",
    "    \n",
    "\n",
    "def convert_to_cartesian(distances, ra, dec):\n",
    "    x = distances * torch.cos(dec) * torch.cos(ra)\n",
    "    y = distances * torch.cos(dec) * torch.sin(ra)\n",
    "    z = distances * torch.sin(dec)\n",
    "    return torch.stack((x, y, z), dim=1)\n",
    "\n",
    "def calculate_distances(coords):\n",
    "    dist_matrix = torch.cdist(coords, coords)\n",
    "    unique_distances = torch.unique(dist_matrix)\n",
    "    return unique_distances[unique_distances > 0]\n",
    "\n",
    "def distance_from_magnitude(m, M):\n",
    "    return 10**((m - M + 5) / 5)\n",
    "\n",
    "def distance_from_magnitude_tensor(m: torch.Tensor, M: torch.Tensor) -> torch.Tensor:\n",
    "    return 10**((m - M + 5) / 5)\n",
    "\n",
    "# one of the possibilities\n",
    "def tetrahedron_score(coords):\n",
    "    distances = calculate_distances(coords)\n",
    "    print(distances)\n",
    "    mean_distance = torch.mean(distances)\n",
    "    std_dev = torch.std(distances)\n",
    "\n",
    "    # Assuming std_dev is small enough, the score will be close to 1\n",
    "    # Otherwise, it will be closer to 0\n",
    "    score = math.exp(-std_dev.item() / mean_distance.item())\n",
    "    return score\n",
    "\n",
    "def square_score(tensor):\n",
    "    \"\"\"Return a measure of how close the points in a tensor are to forming a square,\n",
    "    as well as the standard deviation of their brightness.\"\"\"\n",
    "    \n",
    "    # Calculate pairwise distances based on the x and y coordinates (first two dimensions)\n",
    "    spatial_distances = torch.pdist(tensor, p=2)\n",
    "    print(spatial_distances)\n",
    "    \n",
    "    # Sort the distances\n",
    "    sorted_distances = torch.sort(spatial_distances)[0]\n",
    "    \n",
    "    # Take the 4 smallest distances and compute their standard deviation\n",
    "    std_of_smallest_4 = sorted_distances[:4].std().item()\n",
    "    \n",
    "    # # Calculate the standard deviation of the brightness (third dimension)\n",
    "    # brightness_std = tensor[:, 2].std().item()\n",
    "    \n",
    "    return std_of_smallest_4\n",
    "\n",
    "def measure_squareness_old(tensor):\n",
    "    \"\"\"\n",
    "    :param points: A tensor of shape (4, 2) representing the 4 2D points\n",
    "    :return: A float indicating the squareness. Closer to 1 means more square.\n",
    "    \"\"\"\n",
    "    \n",
    "    # Calculate pairwise distances based on the x and y coordinates (first two dimensions)\n",
    "    spatial_distances = torch.pdist(tensor, p=2)\n",
    "\n",
    "    # Sort the distances\n",
    "    distances = torch.sort(spatial_distances)[0]\n",
    "    \n",
    "    # Mean of sides and diagonals\n",
    "    mean_sides = torch.mean(distances[:4])\n",
    "    mean_diagonal = torch.mean(distances[4:])\n",
    "    \n",
    "    # Squareness measure\n",
    "    squareness = mean_diagonal / mean_sides\n",
    "    \n",
    "    # Normalize with sqrt(2) to get values closer to 1 for squares\n",
    "    return abs(1 - (squareness / torch.sqrt(torch.tensor(2.0)).item()))\n",
    "\n",
    "def measure_squareness(tensor):\n",
    "    # Calculate pairwise distances based on the x and y coordinates (first two dimensions)\n",
    "    spatial_distances = torch.pdist(tensor, p=2)\n",
    "\n",
    "    # Sort the distances\n",
    "    distances = torch.sort(spatial_distances)[0]\n",
    "   \n",
    "    # Compute the standard deviation for the four shortest distances and the two longest distances\n",
    "    std_sides = torch.std(distances[:4])\n",
    "    std_diagonal = torch.std(distances[4:])\n",
    "    \n",
    "    # Ideally, for a perfect square, the standard deviations would be 0\n",
    "    # We use exp(-x) as a measure to get values close to 1 for low standard deviations\n",
    "    side_uniformity = torch.exp(-std_sides)\n",
    "    diagonal_uniformity = torch.exp(-std_diagonal)\n",
    "    \n",
    "    # Mean of sides and diagonals\n",
    "    mean_sides = torch.mean(distances[:4])\n",
    "    mean_diagonal = torch.mean(distances[4:])\n",
    "    \n",
    "    # Squareness measure based on side to diagonal ratio\n",
    "    squareness_ratio = mean_sides / mean_diagonal\n",
    "    \n",
    "    # Combine all the measures\n",
    "    # Normalize with sqrt(2) to get values closer to 1 for squares\n",
    "    final_squareness = (squareness_ratio / torch.sqrt(torch.tensor(2.0)).item()) * side_uniformity * diagonal_uniformity\n",
    "    \n",
    "    return abs(1 - final_squareness.item())\n",
    "\n",
    "def mass_score_triangle_torch(points_tensor, device='cpu'):\n",
    "    points_tensor = points_tensor.to(device)  # Transfer tensor to GPU if available\n",
    "    idx_combinations = torch.combinations(torch.arange(points_tensor.shape[0]), r=3)\n",
    "    print(f\"There are {len(idx_combinations)} combinations\")\n",
    "                                          \n",
    "    p1, p2, p3 = points_tensor[idx_combinations[:, 0]], points_tensor[idx_combinations[:, 1]], points_tensor[idx_combinations[:, 2]]\n",
    "\n",
    "    a = torch.linalg.norm(p2 - p1, dim=1)\n",
    "    b = torch.linalg.norm(p3 - p2, dim=1)\n",
    "    c = torch.linalg.norm(p1 - p3, dim=1)\n",
    "    \n",
    "    mean = (a + b + c) / 3\n",
    "    std_dev = torch.sqrt(((a - mean)**2 + (b - mean)**2 + (c - mean)**2) / 3)\n",
    "    \n",
    "    scores = torch.where(mean != 0, std_dev / mean, torch.tensor([1.], device=mean.device))\n",
    "    \n",
    "     # Stack the points instead of flattening them\n",
    "    points_combined = torch.stack([p1, p2, p3], dim=1)\n",
    "    \n",
    "    return scores, points_combined\n",
    "\n",
    "# go from tycho2 to xyz coords\n",
    "def transform_radecmag_from_numpy(stars):\n",
    "    torch_tensors = [torch.from_numpy(star) for star in stars]\n",
    "    zeroes = torch.zeros(len(torch_tensors[2]))\n",
    "    print(\"one \", torch_tensors)\n",
    "    torch_tensors[2] = distance_from_magnitude_tensor(torch_tensors[2], zeroes)\n",
    "    print(\"two\", torch_tensors)\n",
    "    coords = convert_to_cartesian(*torch_tensors)\n",
    "    return coords\n",
    "\n",
    "def global_normalize_tensor(tensor):\n",
    "    \"\"\"Normalize a tensor based on its global min and max values. Also works for multiple tensors\"\"\"\n",
    "    global_min = torch.min(tensor)\n",
    "    global_max = torch.max(tensor)\n",
    "    \n",
    "    normalized = (tensor - global_min) / (global_max - global_min)\n",
    "    return normalized\n",
    "    \n",
    "def radec_normalize_tensor(tensors):\n",
    "    \"\"\"Normalize tensors based on their global min and max values, excluding the 3rd column.\"\"\"\n",
    "\n",
    "    # Concatenate tensors while excluding the 3rd column\n",
    "    # Drop the 3rd column from each tensor\n",
    "    tensor = tensors[:, :2]\n",
    "\n",
    "    # Compute global min and max excluding the 3rd column\n",
    "    global_min = torch.min(tensor)\n",
    "    global_max = torch.max(tensor)\n",
    "\n",
    "    # Normalize tensors using the computed global min and max\n",
    "    normalized = (tensor - global_min) / (global_max - global_min)\n",
    "    return normalized\n",
    "\n",
    "def mag_score(tensor):\n",
    "    # Computing the standard deviation\n",
    "    # stdev = t[:, 2].std()\n",
    "    max = tensor[:, 2].max()\n",
    "    min = tensor[:, 2].min()\n",
    "    return max - min\n",
    "\n",
    "def score_triangle(tensor):    \n",
    "    # Calculate pairwise distances based on the x and y coordinates (first two dimensions)\n",
    "    spatial_distances = torch.pdist(tensor, p=2)\n",
    "    \n",
    "    # Normalize with sqrt(2) to get values closer to 1 for squares\n",
    "    return torch.std(spatial_distances)\n",
    "\n",
    "def stars_for_point_and_radius(df, point, radius, max_mag):\n",
    "    \"\"\" point is in the corner, not the center \"\"\"\n",
    "    ra, dec = point\n",
    "    minra = ra\n",
    "    maxra = ra + radius\n",
    "    mindec = dec\n",
    "    maxdec = dec + radius\n",
    "    return df.filter((pl.col(\"RAmdeg\") < maxra) & (pl.col(\"RAmdeg\") > minra) & (pl.col(\"DEmdeg\") < maxdec) & (pl.col(\"DEmdeg\") > mindec) & (pl.col(\"Vmag\") <= max_mag))\n",
    "\n",
    "def stars_for_center_and_radius(df, center, radius, max_mag):\n",
    "    ra, dec = center\n",
    "    minra = ra - radius/2\n",
    "    maxra = ra + radius/2\n",
    "    mindec = dec - radius/2\n",
    "    maxdec = dec + radius/2\n",
    "    return df.filter((pl.col(\"RAmdeg\") < maxra) & (pl.col(\"RAmdeg\") > minra) & (pl.col(\"DEmdeg\") < maxdec) & (pl.col(\"DEmdeg\") > mindec) & (pl.col(\"Vmag\") <= max_mag))\n",
    "\n",
    "\n",
    "def get_grid_points(min_dec=-90, max_dec=90):\n",
    "    RA_values = [ra for ra in range(0, 361, 4)]  # Increment by 4 for a 2-degree radius\n",
    "    Dec_values = [dec for dec in range(min_dec, max_dec+1, 4)]  # Increment by 4 for a 2-degree radius\n",
    "    grid_points = [(ra, dec) for ra in RA_values for dec in Dec_values]\n",
    "    return grid_points\n",
    "\n",
    "def get_grid_point_by_idx(idx):\n",
    "    gp = get_grid_points()\n",
    "    return gp[idx]\n",
    "\n",
    "def get_region(df, idx, radius, max_mag, min_dec=-90, max_dec=90):\n",
    "    center = get_grid_points(min_dec, max_dec)[idx]\n",
    "    return stars_for_center_and_radius(df, center, radius, max_mag)\n",
    "\n",
    "def get_center(dftycho, center, radius, max_mag):\n",
    "    return stars_for_point_and_radius(dftycho, center, radius, max_mag)\n",
    "\n",
    "def ra_to_hms(ra):\n",
    "    if ra < 0.0:\n",
    "        ra = ra + 360\n",
    "    mm, hh = math.modf(ra / 15.0)\n",
    "    _, mm = math.modf(mm * 60.0)\n",
    "    ss = round(_ * 60.0)\n",
    "    return hh, mm, ss\n",
    "\n",
    "resultdf = pl.DataFrame({\n",
    "    \"score\": pl.Float64,\n",
    "    \"region\": pl.Int64,\n",
    "    \"item\": []\n",
    "})\n",
    "\n",
    "\n",
    "    \n"
   ]
  },
  {
   "cell_type": "markdown",
   "id": "d14af751-acc8-4e2d-90c2-a2d2e43d17c6",
   "metadata": {},
   "source": [
    "## Code to process each region"
   ]
  },
  {
   "cell_type": "code",
   "execution_count": null,
   "id": "50309a63-c828-47f0-90f3-bb1d6fa4add7",
   "metadata": {},
   "outputs": [],
   "source": [
    "from itertools import combinations\n",
    "from heapq import heappush, heappushpop"
   ]
  },
  {
   "cell_type": "code",
   "execution_count": null,
   "id": "727cc6cb-9d58-406a-acaa-7d8247a21369",
   "metadata": {},
   "outputs": [],
   "source": [
    "\n",
    "first = lambda h: 2**h - 1      # H stands for level height\n",
    "last = lambda h: first(h + 1)\n",
    "level = lambda heap, h: heap[first(h):last(h)]\n",
    "prepare = lambda e, field: str(e).center(field)\n",
    "        \n",
    "def process(stars, region, point, nr_stars) -> List[ScoreItem]:\n",
    "    scores, points = mass_score_triangle_torch(torch.tensor(stars), device='mps')\n",
    "    resultdf = pl.DataFrame({\n",
    "    \"score\": scores.cpu().numpy(), \n",
    "    \"region\": [region] * len(scores),\n",
    "    \"points\": points.cpu().numpy()})\n",
    "    final_result_df = resultdf.top_k(5, by=\"score\", descending=True)\n",
    "    print(f\"Processed {region=} - {point} for length {len(stars)} with {len(scores)=}\")\n",
    "    return final_result_df\n",
    "        "
   ]
  },
  {
   "cell_type": "markdown",
   "id": "135fe785-7203-4af0-83f2-eb46e48d9d0e",
   "metadata": {},
   "source": [
    "## Code to save progress"
   ]
  },
  {
   "cell_type": "code",
   "execution_count": null,
   "id": "6df6adf7-cea5-4464-a70c-2a1cca7a7377",
   "metadata": {},
   "outputs": [],
   "source": [
    "def add_to_result_and_save(resultdf, df: pl.DataFrame, filename):\n",
    "    print(\"Saving result to\", filename)\n",
    "    for entry in df.rows():\n",
    "        thisdf = pl.DataFrame({\n",
    "            \"score\": entry[0], \n",
    "            \"region\": entry[1], \n",
    "            \"stars\": [entry[2].tolist()],\n",
    "        })\n",
    "        if resultdf.is_empty():\n",
    "            resultdf = thisdf\n",
    "        else:\n",
    "            resultdf = pl.concat([resultdf, thisdf])\n",
    "    resultdf.write_parquet(filename)\n",
    "    return resultdf\n",
    "# Define the schema\n",
    "# Define the schema\n",
    "schema = {\n",
    "    \"score\": pl.Float64,\n",
    "    \"region\": pl.Float64,\n",
    "    \"stars\": pl.List(pl.List(pl.Float64))  # Nested list type\n",
    "}"
   ]
  },
  {
   "cell_type": "markdown",
   "id": "eeeec4d6-a7a4-4a57-9554-c26435a49e76",
   "metadata": {},
   "source": [
    "## Generate a grid of regions and process each region"
   ]
  },
  {
   "cell_type": "code",
   "execution_count": null,
   "id": "c44094d2-35ad-472a-8495-59680666e8e6",
   "metadata": {},
   "outputs": [
    {
     "name": "stdout",
     "output_type": "stream",
     "text": [
      "Total grid points is: 2912\n"
     ]
    },
    {
     "name": "stderr",
     "output_type": "stream",
     "text": [
      "  0%|                                                                                                                                                           | 0/2912 [00:00<?, ?it/s]"
     ]
    },
    {
     "name": "stdout",
     "output_type": "stream",
     "text": [
      "There are 18424 combinations\n",
      "Processed region=0 - (0, -63) for length 49 with len(scores)=18424\n",
      "************************\n",
      "There are 16215 combinations\n",
      "Processed region=1 - (0, -59) for length 47 with len(scores)=16215\n",
      "************************\n",
      "There are 13244 combinations\n",
      "Processed region=2 - (0, -55) for length 44 with len(scores)=13244\n",
      "************************\n",
      "There are 23426 combinations\n",
      "Processed region=3 - (0, -51) for length 53 with len(scores)=23426\n",
      "************************\n",
      "There are 45760 combinations\n",
      "Processed region=4 - (0, -47) for length 66 with len(scores)=45760\n",
      "************************\n",
      "There are 70300 combinations\n"
     ]
    },
    {
     "name": "stderr",
     "output_type": "stream",
     "text": [
      "  0%|▍                                                                                                                                                  | 9/2912 [00:00<03:30, 13.79it/s]"
     ]
    },
    {
     "name": "stdout",
     "output_type": "stream",
     "text": [
      "Processed region=5 - (0, -43) for length 76 with len(scores)=70300\n",
      "************************\n",
      "There are 32509 combinations\n",
      "Processed region=6 - (0, -39) for length 59 with len(scores)=32509\n",
      "************************\n",
      "There are 37820 combinations\n",
      "Processed region=7 - (0, -35) for length 62 with len(scores)=37820\n",
      "************************\n",
      "There are 204156 combinations\n",
      "Processed region=8 - (0, -31) for length 108 with len(scores)=204156\n",
      "************************\n",
      "There are 70300 combinations\n",
      "Processed region=9 - (0, -27) for length 76 with len(scores)=70300\n",
      "************************\n",
      "There are 70300 combinations\n",
      "Processed region=10 - (0, -23) for length 76 with len(scores)=70300\n",
      "************************\n",
      "There are 62196 combinations\n",
      "Processed region=11 - (0, -19) for length 73 with len(scores)=62196\n",
      "************************\n",
      "There are 43680 combinations\n",
      "Processed region=12 - (0, -15) for length 65 with len(scores)=43680\n",
      "************************\n",
      "There are 85320 combinations\n"
     ]
    },
    {
     "name": "stderr",
     "output_type": "stream",
     "text": [
      "  1%|▉                                                                                                                                                 | 18/2912 [00:00<02:04, 23.23it/s]"
     ]
    },
    {
     "name": "stdout",
     "output_type": "stream",
     "text": [
      "Processed region=13 - (0, -11) for length 81 with len(scores)=85320\n",
      "************************\n",
      "There are 134044 combinations\n",
      "Processed region=14 - (0, -7) for length 94 with len(scores)=134044\n",
      "************************\n",
      "There are 98770 combinations\n",
      "Processed region=15 - (0, -3) for length 85 with len(scores)=98770\n",
      "************************\n",
      "There are 138415 combinations\n",
      "Processed region=16 - (0, 1) for length 95 with len(scores)=138415\n",
      "************************\n",
      "There are 156849 combinations\n",
      "Processed region=17 - (0, 5) for length 99 with len(scores)=156849\n",
      "************************\n",
      "There are 76076 combinations\n",
      "Processed region=18 - (0, 9) for length 78 with len(scores)=76076\n",
      "************************\n",
      "There are 142880 combinations\n",
      "Processed region=19 - (0, 13) for length 96 with len(scores)=142880\n",
      "************************\n"
     ]
    },
    {
     "name": "stderr",
     "output_type": "stream",
     "text": [
      "  1%|█                                                                                                                                                 | 22/2912 [00:01<02:03, 23.38it/s]"
     ]
    },
    {
     "name": "stdout",
     "output_type": "stream",
     "text": [
      "There are 152096 combinations\n",
      "Processed region=20 - (0, 17) for length 98 with len(scores)=152096\n",
      "************************\n",
      "There are 280840 combinations\n",
      "Processed region=21 - (0, 21) for length 120 with len(scores)=280840\n",
      "************************\n",
      "There are 234136 combinations\n",
      "Processed region=22 - (0, 25) for length 113 with len(scores)=234136\n",
      "************************\n",
      "There are 596904 combinations\n",
      "Processed region=23 - (0, 29) for length 154 with len(scores)=596904\n",
      "************************\n",
      "There are 682640 combinations\n"
     ]
    },
    {
     "name": "stderr",
     "output_type": "stream",
     "text": [
      "  1%|█▎                                                                                                                                                | 25/2912 [00:01<03:22, 14.28it/s]"
     ]
    },
    {
     "name": "stdout",
     "output_type": "stream",
     "text": [
      "Processed region=24 - (0, 33) for length 161 with len(scores)=682640\n",
      "************************\n",
      "There are 467180 combinations\n",
      "Processed region=25 - (0, 37) for length 142 with len(scores)=467180\n",
      "************************\n",
      "There are 632710 combinations\n",
      "Processed region=26 - (0, 41) for length 157 with len(scores)=632710\n",
      "************************\n",
      "There are 1293699 combinations\n"
     ]
    },
    {
     "name": "stderr",
     "output_type": "stream",
     "text": [
      "  1%|█▍                                                                                                                                                | 28/2912 [00:02<05:08,  9.35it/s]"
     ]
    },
    {
     "name": "stdout",
     "output_type": "stream",
     "text": [
      "Processed region=27 - (0, 45) for length 199 with len(scores)=1293699\n",
      "************************\n",
      "There are 1823471 combinations\n",
      "Processed region=28 - (0, 49) for length 223 with len(scores)=1823471\n",
      "************************\n",
      "There are 2481115 combinations\n"
     ]
    },
    {
     "name": "stderr",
     "output_type": "stream",
     "text": [
      "  1%|█▌                                                                                                                                                | 30/2912 [00:03<09:03,  5.30it/s]"
     ]
    },
    {
     "name": "stdout",
     "output_type": "stream",
     "text": [
      "Processed region=29 - (0, 53) for length 247 with len(scores)=2481115\n",
      "************************\n",
      "There are 1949476 combinations\n",
      "Processed region=30 - (0, 57) for length 228 with len(scores)=1949476\n",
      "************************\n",
      "There are 1565620 combinations\n"
     ]
    },
    {
     "name": "stderr",
     "output_type": "stream",
     "text": [
      "  1%|██                                                                                                                                                | 40/2912 [00:04<05:09,  9.27it/s]"
     ]
    },
    {
     "name": "stdout",
     "output_type": "stream",
     "text": [
      "Processed region=31 - (0, 61) for length 212 with len(scores)=1565620\n",
      "************************\n",
      "There are 30856 combinations\n",
      "Processed region=32 - (4, -63) for length 58 with len(scores)=30856\n",
      "************************\n",
      "There are 13244 combinations\n",
      "Processed region=33 - (4, -59) for length 44 with len(scores)=13244\n",
      "************************\n",
      "There are 57155 combinations\n",
      "Processed region=34 - (4, -55) for length 71 with len(scores)=57155\n",
      "************************\n",
      "There are 26235 combinations\n",
      "Processed region=35 - (4, -51) for length 55 with len(scores)=26235\n",
      "************************\n",
      "There are 29260 combinations\n",
      "Processed region=36 - (4, -47) for length 57 with len(scores)=29260\n",
      "************************\n",
      "There are 26235 combinations\n",
      "Processed region=37 - (4, -43) for length 55 with len(scores)=26235\n",
      "************************\n",
      "There are 64824 combinations\n",
      "Processed region=38 - (4, -39) for length 74 with len(scores)=64824\n",
      "************************\n",
      "There are 39711 combinations\n",
      "Processed region=39 - (4, -35) for length 63 with len(scores)=39711\n",
      "************************\n",
      "There are 45760 combinations\n",
      "Processed region=40 - (4, -31) for length 66 with len(scores)=45760\n",
      "************************\n",
      "There are 73150 combinations\n",
      "Processed region=41 - (4, -27) for length 77 with len(scores)=73150\n",
      "************************\n",
      "There are 76076 combinations\n",
      "Processed region=42 - (4, -23) for length 78 with len(scores)=76076\n",
      "************************\n"
     ]
    },
    {
     "name": "stderr",
     "output_type": "stream",
     "text": [
      "  2%|██▌                                                                                                                                               | 50/2912 [00:04<02:58, 16.08it/s]"
     ]
    },
    {
     "name": "stdout",
     "output_type": "stream",
     "text": [
      "There are 37820 combinations\n",
      "Processed region=43 - (4, -19) for length 62 with len(scores)=37820\n",
      "************************\n",
      "There are 105995 combinations\n",
      "Processed region=44 - (4, -15) for length 87 with len(scores)=105995\n",
      "************************\n",
      "There are 59640 combinations\n",
      "Processed region=45 - (4, -11) for length 72 with len(scores)=59640\n",
      "************************\n",
      "There are 79079 combinations\n",
      "Processed region=46 - (4, -7) for length 79 with len(scores)=79079\n",
      "************************\n",
      "There are 102340 combinations\n",
      "Processed region=47 - (4, -3) for length 86 with len(scores)=102340\n",
      "************************\n",
      "There are 113564 combinations\n",
      "Processed region=48 - (4, 1) for length 89 with len(scores)=113564\n",
      "************************\n",
      "There are 113564 combinations\n",
      "Processed region=49 - (4, 5) for length 89 with len(scores)=113564\n",
      "************************\n",
      "There are 125580 combinations\n",
      "Processed region=50 - (4, 9) for length 92 with len(scores)=125580\n",
      "************************\n"
     ]
    },
    {
     "name": "stderr",
     "output_type": "stream",
     "text": [
      "  2%|██▋                                                                                                                                               | 54/2912 [00:04<02:39, 17.90it/s]"
     ]
    },
    {
     "name": "stdout",
     "output_type": "stream",
     "text": [
      "There are 59640 combinations\n",
      "Processed region=51 - (4, 13) for length 72 with len(scores)=59640\n",
      "************************\n",
      "There are 138415 combinations\n",
      "Processed region=52 - (4, 17) for length 95 with len(scores)=138415\n",
      "************************\n",
      "There are 317750 combinations\n",
      "Processed region=53 - (4, 21) for length 125 with len(scores)=317750\n",
      "************************\n",
      "There are 383306 combinations\n",
      "Processed region=54 - (4, 25) for length 133 with len(scores)=383306\n",
      "************************\n",
      "There are 341376 combinations\n",
      "Processed region=55 - (4, 29) for length 128 with len(scores)=341376\n",
      "************************\n",
      "There are 349504 combinations\n",
      "Processed region=56 - (4, 33) for length 129 with len(scores)=349504\n",
      "************************\n"
     ]
    },
    {
     "name": "stderr",
     "output_type": "stream",
     "text": [
      "  2%|██▉                                                                                                                                               | 58/2912 [00:04<03:23, 14.06it/s]"
     ]
    },
    {
     "name": "stdout",
     "output_type": "stream",
     "text": [
      "There are 762355 combinations\n",
      "Processed region=57 - (4, 37) for length 167 with len(scores)=762355\n",
      "************************\n",
      "There are 573800 combinations\n",
      "Processed region=58 - (4, 41) for length 152 with len(scores)=573800\n",
      "************************\n",
      "There are 1198144 combinations\n",
      "Processed region=59 - (4, 45) for length 194 with len(scores)=1198144\n",
      "************************\n",
      "There are 1543465 combinations\n"
     ]
    },
    {
     "name": "stderr",
     "output_type": "stream",
     "text": [
      "  2%|███                                                                                                                                               | 61/2912 [00:05<05:27,  8.70it/s]"
     ]
    },
    {
     "name": "stdout",
     "output_type": "stream",
     "text": [
      "Processed region=60 - (4, 49) for length 211 with len(scores)=1543465\n",
      "************************\n",
      "There are 3317040 combinations\n",
      "Processed region=61 - (4, 53) for length 272 with len(scores)=3317040\n",
      "************************\n",
      "There are 2001460 combinations\n"
     ]
    },
    {
     "name": "stderr",
     "output_type": "stream",
     "text": [
      "  2%|███▏                                                                                                                                              | 63/2912 [00:06<10:07,  4.69it/s]"
     ]
    },
    {
     "name": "stdout",
     "output_type": "stream",
     "text": [
      "Processed region=62 - (4, 57) for length 230 with len(scores)=2001460\n",
      "************************\n",
      "There are 2604125 combinations\n"
     ]
    },
    {
     "name": "stderr",
     "output_type": "stream",
     "text": [
      "  2%|███▌                                                                                                                                              | 72/2912 [00:07<05:53,  8.04it/s]"
     ]
    },
    {
     "name": "stdout",
     "output_type": "stream",
     "text": [
      "Processed region=63 - (4, 61) for length 251 with len(scores)=2604125\n",
      "************************\n",
      "There are 11480 combinations\n",
      "Processed region=64 - (8, -63) for length 42 with len(scores)=11480\n",
      "************************\n",
      "There are 35990 combinations\n",
      "Processed region=65 - (8, -59) for length 61 with len(scores)=35990\n",
      "************************\n",
      "There are 29260 combinations\n",
      "Processed region=66 - (8, -55) for length 57 with len(scores)=29260\n",
      "************************\n",
      "There are 57155 combinations\n",
      "Processed region=67 - (8, -51) for length 71 with len(scores)=57155\n",
      "************************\n",
      "There are 14190 combinations\n",
      "Processed region=68 - (8, -47) for length 45 with len(scores)=14190\n",
      "************************\n",
      "There are 34220 combinations\n",
      "Processed region=69 - (8, -43) for length 60 with len(scores)=34220\n",
      "************************\n",
      "There are 50116 combinations\n",
      "Processed region=70 - (8, -39) for length 68 with len(scores)=50116\n",
      "************************\n",
      "There are 30856 combinations\n",
      "Processed region=71 - (8, -35) for length 58 with len(scores)=30856\n",
      "************************\n",
      "There are 52394 combinations\n",
      "Processed region=72 - (8, -31) for length 69 with len(scores)=52394\n",
      "************************\n",
      "There are 88560 combinations\n",
      "Processed region=73 - (8, -27) for length 82 with len(scores)=88560\n",
      "************************\n",
      "There are 67525 combinations\n",
      "Processed region=74 - (8, -23) for length 75 with len(scores)=67525\n",
      "************************\n",
      "There are 95284 combinations\n",
      "Processed region=75 - (8, -19) for length 84 with len(scores)=95284\n",
      "************************\n"
     ]
    },
    {
     "name": "stderr",
     "output_type": "stream",
     "text": [
      "  3%|████                                                                                                                                              | 82/2912 [00:07<03:17, 14.33it/s]"
     ]
    },
    {
     "name": "stdout",
     "output_type": "stream",
     "text": [
      "There are 98770 combinations\n",
      "Processed region=76 - (8, -15) for length 85 with len(scores)=98770\n",
      "************************\n",
      "There are 102340 combinations\n",
      "Processed region=77 - (8, -11) for length 86 with len(scores)=102340\n",
      "************************\n",
      "There are 47905 combinations\n",
      "Processed region=78 - (8, -7) for length 67 with len(scores)=47905\n",
      "************************\n",
      "There are 35990 combinations\n",
      "Processed region=79 - (8, -3) for length 61 with len(scores)=35990\n",
      "************************\n",
      "There are 166650 combinations\n",
      "Processed region=80 - (8, 1) for length 101 with len(scores)=166650\n",
      "************************\n",
      "There are 166650 combinations\n",
      "Processed region=81 - (8, 5) for length 101 with len(scores)=166650\n",
      "************************\n",
      "There are 64824 combinations\n",
      "Processed region=82 - (8, 9) for length 74 with len(scores)=64824\n",
      "************************\n",
      "There are 125580 combinations\n"
     ]
    },
    {
     "name": "stderr",
     "output_type": "stream",
     "text": [
      "  3%|████▎                                                                                                                                             | 86/2912 [00:08<02:58, 15.83it/s]"
     ]
    },
    {
     "name": "stdout",
     "output_type": "stream",
     "text": [
      "Processed region=83 - (8, 13) for length 92 with len(scores)=125580\n",
      "************************\n",
      "There are 176851 combinations\n",
      "Processed region=84 - (8, 17) for length 103 with len(scores)=176851\n",
      "************************\n",
      "There are 325500 combinations\n",
      "Processed region=85 - (8, 21) for length 126 with len(scores)=325500\n",
      "************************\n",
      "There are 287980 combinations\n",
      "Processed region=86 - (8, 25) for length 121 with len(scores)=287980\n"
     ]
    },
    {
     "name": "stderr",
     "output_type": "stream",
     "text": [
      "  3%|████▍                                                                                                                                             | 89/2912 [00:08<03:12, 14.69it/s]"
     ]
    },
    {
     "name": "stdout",
     "output_type": "stream",
     "text": [
      "************************\n",
      "There are 310124 combinations\n",
      "Processed region=87 - (8, 29) for length 124 with len(scores)=310124\n",
      "************************\n",
      "There are 400995 combinations\n",
      "Processed region=88 - (8, 33) for length 135 with len(scores)=400995\n",
      "************************\n",
      "There are 748660 combinations\n",
      "Processed region=89 - (8, 37) for length 166 with len(scores)=748660\n",
      "************************\n",
      "There are 657359 combinations\n",
      "Processed region=90 - (8, 41) for length 159 with len(scores)=657359\n",
      "************************\n",
      "There are 1143135 combinations\n"
     ]
    },
    {
     "name": "stderr",
     "output_type": "stream",
     "text": [
      "  3%|████▌                                                                                                                                             | 92/2912 [00:09<04:50,  9.72it/s]"
     ]
    },
    {
     "name": "stdout",
     "output_type": "stream",
     "text": [
      "Processed region=91 - (8, 45) for length 191 with len(scores)=1143135\n",
      "************************\n",
      "There are 1478256 combinations\n",
      "Processed region=92 - (8, 49) for length 208 with len(scores)=1478256\n",
      "************************\n",
      "There are 1435820 combinations\n"
     ]
    },
    {
     "name": "stderr",
     "output_type": "stream",
     "text": [
      "  3%|████▋                                                                                                                                             | 94/2912 [00:09<07:07,  6.59it/s]"
     ]
    },
    {
     "name": "stdout",
     "output_type": "stream",
     "text": [
      "Processed region=93 - (8, 53) for length 206 with len(scores)=1435820\n",
      "************************\n",
      "There are 3066580 combinations\n",
      "Processed region=94 - (8, 57) for length 265 with len(scores)=3066580\n",
      "************************\n",
      "There are 1823471 combinations\n"
     ]
    },
    {
     "name": "stderr",
     "output_type": "stream",
     "text": [
      "  4%|█████▏                                                                                                                                           | 103/2912 [00:11<06:09,  7.61it/s]"
     ]
    },
    {
     "name": "stdout",
     "output_type": "stream",
     "text": [
      "Processed region=95 - (8, 61) for length 223 with len(scores)=1823471\n",
      "************************\n",
      "There are 19600 combinations\n",
      "Processed region=96 - (12, -63) for length 50 with len(scores)=19600\n",
      "************************\n",
      "There are 37820 combinations\n",
      "Processed region=97 - (12, -59) for length 62 with len(scores)=37820\n",
      "************************\n",
      "There are 16215 combinations\n",
      "Processed region=98 - (12, -55) for length 47 with len(scores)=16215\n",
      "************************\n",
      "There are 62196 combinations\n",
      "Processed region=99 - (12, -51) for length 73 with len(scores)=62196\n",
      "************************\n",
      "There are 19600 combinations\n",
      "Processed region=100 - (12, -47) for length 50 with len(scores)=19600\n",
      "************************\n",
      "There are 41664 combinations\n",
      "Processed region=101 - (12, -43) for length 64 with len(scores)=41664\n",
      "************************\n",
      "There are 85320 combinations\n",
      "Processed region=102 - (12, -39) for length 81 with len(scores)=85320\n",
      "************************\n",
      "There are 39711 combinations\n",
      "Processed region=103 - (12, -35) for length 63 with len(scores)=39711\n",
      "************************\n",
      "There are 35990 combinations\n",
      "Processed region=104 - (12, -31) for length 61 with len(scores)=35990\n",
      "************************\n",
      "There are 24804 combinations\n",
      "Processed region=105 - (12, -27) for length 54 with len(scores)=24804\n",
      "************************\n",
      "There are 76076 combinations\n",
      "Processed region=106 - (12, -23) for length 78 with len(scores)=76076\n",
      "************************\n"
     ]
    },
    {
     "name": "stderr",
     "output_type": "stream",
     "text": [
      "  4%|█████▋                                                                                                                                           | 114/2912 [00:11<03:09, 14.77it/s]"
     ]
    },
    {
     "name": "stdout",
     "output_type": "stream",
     "text": [
      "There are 59640 combinations\n",
      "Processed region=107 - (12, -19) for length 72 with len(scores)=59640\n",
      "************************\n",
      "There are 57155 combinations\n",
      "Processed region=108 - (12, -15) for length 71 with len(scores)=57155\n",
      "************************\n",
      "There are 82160 combinations\n",
      "Processed region=109 - (12, -11) for length 80 with len(scores)=82160\n",
      "************************\n",
      "There are 47905 combinations\n",
      "Processed region=110 - (12, -7) for length 67 with len(scores)=47905\n",
      "************************\n",
      "There are 67525 combinations\n",
      "Processed region=111 - (12, -3) for length 75 with len(scores)=67525\n",
      "************************\n",
      "There are 82160 combinations\n",
      "Processed region=112 - (12, 1) for length 80 with len(scores)=82160\n",
      "************************\n",
      "There are 82160 combinations\n",
      "Processed region=113 - (12, 5) for length 80 with len(scores)=82160\n",
      "************************\n",
      "There are 113564 combinations\n",
      "Processed region=114 - (12, 9) for length 89 with len(scores)=113564\n",
      "************************\n",
      "There are 88560 combinations\n"
     ]
    },
    {
     "name": "stderr",
     "output_type": "stream",
     "text": [
      "  4%|█████▉                                                                                                                                           | 118/2912 [00:11<02:47, 16.65it/s]"
     ]
    },
    {
     "name": "stdout",
     "output_type": "stream",
     "text": [
      "Processed region=115 - (12, 13) for length 82 with len(scores)=88560\n",
      "************************\n",
      "There are 182104 combinations\n",
      "Processed region=116 - (12, 17) for length 104 with len(scores)=182104\n",
      "************************\n",
      "There are 198485 combinations\n",
      "Processed region=117 - (12, 21) for length 107 with len(scores)=198485\n",
      "************************\n",
      "There are 221815 combinations\n",
      "Processed region=118 - (12, 25) for length 111 with len(scores)=221815\n",
      "************************\n",
      "There are 428536 combinations\n",
      "Processed region=119 - (12, 29) for length 138 with len(scores)=428536\n",
      "************************\n",
      "There are 419220 combinations\n",
      "Processed region=120 - (12, 33) for length 137 with len(scores)=419220\n",
      "************************\n"
     ]
    },
    {
     "name": "stderr",
     "output_type": "stream",
     "text": [
      "  4%|██████                                                                                                                                           | 122/2912 [00:12<03:45, 12.36it/s]"
     ]
    },
    {
     "name": "stdout",
     "output_type": "stream",
     "text": [
      "There are 804440 combinations\n",
      "Processed region=121 - (12, 37) for length 170 with len(scores)=804440\n",
      "************************\n",
      "There are 818805 combinations\n",
      "Processed region=122 - (12, 41) for length 171 with len(scores)=818805\n",
      "************************\n",
      "There are 924176 combinations\n",
      "Processed region=123 - (12, 45) for length 178 with len(scores)=924176\n",
      "************************\n",
      "There are 2162940 combinations\n"
     ]
    },
    {
     "name": "stderr",
     "output_type": "stream",
     "text": [
      "  4%|██████▏                                                                                                                                          | 125/2912 [00:13<06:25,  7.23it/s]"
     ]
    },
    {
     "name": "stdout",
     "output_type": "stream",
     "text": [
      "Processed region=124 - (12, 49) for length 236 with len(scores)=2162940\n",
      "************************\n",
      "There are 2001460 combinations\n",
      "Processed region=125 - (12, 53) for length 230 with len(scores)=2001460\n",
      "************************\n",
      "There are 2421090 combinations\n"
     ]
    },
    {
     "name": "stderr",
     "output_type": "stream",
     "text": [
      "  4%|██████▎                                                                                                                                          | 127/2912 [00:14<09:28,  4.89it/s]"
     ]
    },
    {
     "name": "stdout",
     "output_type": "stream",
     "text": [
      "Processed region=126 - (12, 57) for length 245 with len(scores)=2421090\n",
      "************************\n",
      "There are 939929 combinations\n"
     ]
    },
    {
     "name": "stderr",
     "output_type": "stream",
     "text": [
      "  4%|██████▍                                                                                                                                          | 129/2912 [00:14<08:59,  5.16it/s]"
     ]
    },
    {
     "name": "stdout",
     "output_type": "stream",
     "text": [
      "Processed region=127 - (12, 61) for length 179 with len(scores)=939929\n",
      "************************\n",
      "There are 9139 combinations\n",
      "Processed region=128 - (16, -63) for length 39 with len(scores)=9139\n",
      "************************\n",
      "There are 39711 combinations\n",
      "Processed region=129 - (16, -59) for length 63 with len(scores)=39711\n",
      "************************\n",
      "There are 22100 combinations\n",
      "Processed region=130 - (16, -55) for length 52 with len(scores)=22100\n",
      "************************\n",
      "There are 30856 combinations\n",
      "Processed region=131 - (16, -51) for length 58 with len(scores)=30856\n",
      "************************\n",
      "There are 20825 combinations\n"
     ]
    },
    {
     "name": "stderr",
     "output_type": "stream",
     "text": [
      "  5%|██████▉                                                                                                                                          | 139/2912 [00:14<03:52, 11.91it/s]"
     ]
    },
    {
     "name": "stdout",
     "output_type": "stream",
     "text": [
      "Processed region=132 - (16, -47) for length 51 with len(scores)=20825\n",
      "************************\n",
      "There are 57155 combinations\n",
      "Processed region=133 - (16, -43) for length 71 with len(scores)=57155\n",
      "************************\n",
      "There are 57155 combinations\n",
      "Processed region=134 - (16, -39) for length 71 with len(scores)=57155\n",
      "************************\n",
      "There are 43680 combinations\n",
      "Processed region=135 - (16, -35) for length 65 with len(scores)=43680\n",
      "************************\n",
      "There are 29260 combinations\n",
      "Processed region=136 - (16, -31) for length 57 with len(scores)=29260\n",
      "************************\n",
      "There are 70300 combinations\n",
      "Processed region=137 - (16, -27) for length 76 with len(scores)=70300\n",
      "************************\n",
      "There are 59640 combinations\n",
      "Processed region=138 - (16, -23) for length 72 with len(scores)=59640\n",
      "************************\n",
      "There are 82160 combinations\n",
      "Processed region=139 - (16, -19) for length 80 with len(scores)=82160\n",
      "************************\n",
      "There are 70300 combinations\n",
      "Processed region=140 - (16, -15) for length 76 with len(scores)=70300\n",
      "************************\n",
      "There are 59640 combinations\n",
      "Processed region=141 - (16, -11) for length 72 with len(scores)=59640\n",
      "************************\n",
      "There are 50116 combinations\n"
     ]
    },
    {
     "name": "stderr",
     "output_type": "stream",
     "text": [
      "  5%|███████                                                                                                                                          | 143/2912 [00:14<03:05, 14.97it/s]"
     ]
    },
    {
     "name": "stdout",
     "output_type": "stream",
     "text": [
      "Processed region=142 - (16, -7) for length 68 with len(scores)=50116\n",
      "************************\n",
      "There are 52394 combinations\n",
      "Processed region=143 - (16, -3) for length 69 with len(scores)=52394\n",
      "************************\n",
      "There are 209934 combinations\n",
      "Processed region=144 - (16, 1) for length 109 with len(scores)=209934\n",
      "************************\n",
      "There are 109736 combinations\n",
      "Processed region=145 - (16, 5) for length 88 with len(scores)=109736\n",
      "************************\n",
      "There are 91881 combinations\n"
     ]
    },
    {
     "name": "stderr",
     "output_type": "stream",
     "text": [
      "  5%|███████▍                                                                                                                                         | 150/2912 [00:15<03:00, 15.33it/s]"
     ]
    },
    {
     "name": "stdout",
     "output_type": "stream",
     "text": [
      "Processed region=146 - (16, 9) for length 83 with len(scores)=91881\n",
      "************************\n",
      "There are 98770 combinations\n",
      "Processed region=147 - (16, 13) for length 85 with len(scores)=98770\n",
      "************************\n",
      "There are 204156 combinations\n",
      "Processed region=148 - (16, 17) for length 108 with len(scores)=204156\n",
      "************************\n",
      "There are 246905 combinations\n",
      "Processed region=149 - (16, 21) for length 115 with len(scores)=246905\n",
      "************************\n",
      "There are 187460 combinations\n",
      "Processed region=150 - (16, 25) for length 105 with len(scores)=187460\n",
      "************************\n",
      "There are 280840 combinations\n",
      "Processed region=151 - (16, 29) for length 120 with len(scores)=280840\n",
      "************************\n"
     ]
    },
    {
     "name": "stderr",
     "output_type": "stream",
     "text": [
      "  5%|███████▌                                                                                                                                         | 153/2912 [00:15<03:43, 12.36it/s]"
     ]
    },
    {
     "name": "stdout",
     "output_type": "stream",
     "text": [
      "There are 620620 combinations\n",
      "Processed region=152 - (16, 33) for length 156 with len(scores)=620620\n",
      "************************\n",
      "There are 955860 combinations\n",
      "Processed region=153 - (16, 37) for length 180 with len(scores)=955860\n",
      "************************\n"
     ]
    },
    {
     "name": "stderr",
     "output_type": "stream",
     "text": [
      "  5%|███████▋                                                                                                                                         | 155/2912 [00:16<05:18,  8.66it/s]"
     ]
    },
    {
     "name": "stdout",
     "output_type": "stream",
     "text": [
      "There are 721764 combinations\n",
      "Processed region=154 - (16, 41) for length 164 with len(scores)=721764\n",
      "************************\n",
      "There are 1125180 combinations\n",
      "Processed region=155 - (16, 45) for length 190 with len(scores)=1125180\n",
      "************************\n",
      "There are 1456935 combinations\n"
     ]
    },
    {
     "name": "stderr",
     "output_type": "stream",
     "text": [
      "  5%|███████▊                                                                                                                                         | 157/2912 [00:16<08:08,  5.64it/s]"
     ]
    },
    {
     "name": "stdout",
     "output_type": "stream",
     "text": [
      "Processed region=156 - (16, 49) for length 207 with len(scores)=1456935\n",
      "************************\n",
      "There are 1072445 combinations\n",
      "Processed region=157 - (16, 53) for length 187 with len(scores)=1072445\n",
      "************************\n",
      "There are 1679580 combinations\n"
     ]
    },
    {
     "name": "stderr",
     "output_type": "stream",
     "text": [
      "  5%|███████▉                                                                                                                                         | 159/2912 [00:17<10:20,  4.43it/s]"
     ]
    },
    {
     "name": "stdout",
     "output_type": "stream",
     "text": [
      "Processed region=158 - (16, 57) for length 217 with len(scores)=1679580\n",
      "************************\n",
      "There are 762355 combinations\n"
     ]
    },
    {
     "name": "stderr",
     "output_type": "stream",
     "text": [
      "  6%|████████▏                                                                                                                                        | 164/2912 [00:17<06:19,  7.24it/s]"
     ]
    },
    {
     "name": "stdout",
     "output_type": "stream",
     "text": [
      "Processed region=159 - (16, 61) for length 167 with len(scores)=762355\n",
      "************************\n",
      "There are 20825 combinations\n",
      "Processed region=160 - (20, -63) for length 51 with len(scores)=20825\n",
      "************************\n",
      "There are 14190 combinations\n",
      "Processed region=161 - (20, -59) for length 45 with len(scores)=14190\n",
      "************************\n",
      "There are 24804 combinations\n",
      "Processed region=162 - (20, -55) for length 54 with len(scores)=24804\n",
      "************************\n",
      "There are 27720 combinations\n",
      "Processed region=163 - (20, -51) for length 56 with len(scores)=27720\n",
      "************************\n",
      "There are 39711 combinations\n",
      "Processed region=164 - (20, -47) for length 63 with len(scores)=39711\n",
      "************************\n",
      "There are 64824 combinations\n",
      "Processed region=165 - (20, -43) for length 74 with len(scores)=64824\n",
      "************************\n",
      "There are 24804 combinations\n",
      "Processed region=166 - (20, -39) for length 54 with len(scores)=24804\n",
      "************************\n",
      "There are 52394 combinations\n"
     ]
    },
    {
     "name": "stderr",
     "output_type": "stream",
     "text": [
      "  6%|████████▋                                                                                                                                        | 175/2912 [00:18<02:37, 17.38it/s]"
     ]
    },
    {
     "name": "stdout",
     "output_type": "stream",
     "text": [
      "Processed region=167 - (20, -35) for length 69 with len(scores)=52394\n",
      "************************\n",
      "There are 37820 combinations\n",
      "Processed region=168 - (20, -31) for length 62 with len(scores)=37820\n",
      "************************\n",
      "There are 43680 combinations\n",
      "Processed region=169 - (20, -27) for length 65 with len(scores)=43680\n",
      "************************\n",
      "There are 30856 combinations\n",
      "Processed region=170 - (20, -23) for length 58 with len(scores)=30856\n",
      "************************\n",
      "There are 113564 combinations\n",
      "Processed region=171 - (20, -19) for length 89 with len(scores)=113564\n",
      "************************\n",
      "There are 91881 combinations\n",
      "Processed region=172 - (20, -15) for length 83 with len(scores)=91881\n",
      "************************\n",
      "There are 67525 combinations\n",
      "Processed region=173 - (20, -11) for length 75 with len(scores)=67525\n",
      "************************\n",
      "There are 47905 combinations\n",
      "Processed region=174 - (20, -7) for length 67 with len(scores)=47905\n",
      "************************\n",
      "There are 138415 combinations\n",
      "Processed region=175 - (20, -3) for length 95 with len(scores)=138415\n",
      "************************\n",
      "There are 102340 combinations\n"
     ]
    },
    {
     "name": "stderr",
     "output_type": "stream",
     "text": [
      "  6%|████████▉                                                                                                                                        | 179/2912 [00:18<02:33, 17.76it/s]"
     ]
    },
    {
     "name": "stdout",
     "output_type": "stream",
     "text": [
      "Processed region=176 - (20, 1) for length 86 with len(scores)=102340\n",
      "************************\n",
      "There are 156849 combinations\n",
      "Processed region=177 - (20, 5) for length 99 with len(scores)=156849\n",
      "************************\n",
      "There are 192920 combinations\n",
      "Processed region=178 - (20, 9) for length 106 with len(scores)=192920\n",
      "************************\n",
      "There are 117480 combinations\n"
     ]
    },
    {
     "name": "stderr",
     "output_type": "stream",
     "text": [
      "  6%|█████████                                                                                                                                        | 182/2912 [00:18<02:33, 17.75it/s]"
     ]
    },
    {
     "name": "stdout",
     "output_type": "stream",
     "text": [
      "Processed region=179 - (20, 13) for length 90 with len(scores)=117480\n",
      "************************\n",
      "There are 113564 combinations\n",
      "Processed region=180 - (20, 17) for length 89 with len(scores)=113564\n",
      "************************\n",
      "There are 182104 combinations\n",
      "Processed region=181 - (20, 21) for length 104 with len(scores)=182104\n",
      "************************\n",
      "There are 209934 combinations\n",
      "Processed region=182 - (20, 25) for length 109 with len(scores)=209934\n",
      "************************\n",
      "There are 366145 combinations\n"
     ]
    },
    {
     "name": "stderr",
     "output_type": "stream",
     "text": [
      "  6%|█████████▏                                                                                                                                       | 185/2912 [00:18<03:24, 13.36it/s]"
     ]
    },
    {
     "name": "stdout",
     "output_type": "stream",
     "text": [
      "Processed region=183 - (20, 29) for length 131 with len(scores)=366145\n",
      "************************\n",
      "There are 508080 combinations\n",
      "Processed region=184 - (20, 33) for length 146 with len(scores)=508080\n",
      "************************\n",
      "There are 1038220 combinations\n",
      "Processed region=185 - (20, 37) for length 185 with len(scores)=1038220\n",
      "************************\n",
      "There are 971970 combinations\n",
      "Processed region=186 - (20, 41) for length 181 with len(scores)=971970\n",
      "************************\n",
      "There are 1125180 combinations\n"
     ]
    },
    {
     "name": "stderr",
     "output_type": "stream",
     "text": [
      "  6%|█████████▎                                                                                                                                       | 188/2912 [00:19<06:13,  7.28it/s]"
     ]
    },
    {
     "name": "stdout",
     "output_type": "stream",
     "text": [
      "Processed region=187 - (20, 45) for length 190 with len(scores)=1125180\n",
      "************************\n",
      "There are 848046 combinations\n",
      "Processed region=188 - (20, 49) for length 173 with len(scores)=848046\n",
      "************************\n",
      "There are 939929 combinations\n"
     ]
    },
    {
     "name": "stderr",
     "output_type": "stream",
     "text": [
      "  7%|█████████▍                                                                                                                                       | 190/2912 [00:20<07:15,  6.25it/s]"
     ]
    },
    {
     "name": "stdout",
     "output_type": "stream",
     "text": [
      "Processed region=189 - (20, 53) for length 179 with len(scores)=939929\n",
      "************************\n",
      "There are 2027795 combinations\n",
      "Processed region=190 - (20, 57) for length 231 with len(scores)=2027795\n",
      "************************\n",
      "There are 804440 combinations\n"
     ]
    },
    {
     "name": "stderr",
     "output_type": "stream",
     "text": [
      "  7%|█████████▋                                                                                                                                       | 194/2912 [00:21<07:51,  5.77it/s]"
     ]
    },
    {
     "name": "stdout",
     "output_type": "stream",
     "text": [
      "Processed region=191 - (20, 61) for length 170 with len(scores)=804440\n",
      "************************\n",
      "There are 7140 combinations\n",
      "Processed region=192 - (24, -63) for length 36 with len(scores)=7140\n",
      "************************\n",
      "There are 14190 combinations\n",
      "Processed region=193 - (24, -59) for length 45 with len(scores)=14190\n",
      "************************\n",
      "There are 19600 combinations\n",
      "Processed region=194 - (24, -55) for length 50 with len(scores)=19600\n",
      "************************\n",
      "There are 32509 combinations\n",
      "Processed region=195 - (24, -51) for length 59 with len(scores)=32509\n",
      "************************\n",
      "There are 26235 combinations\n",
      "Processed region=196 - (24, -47) for length 55 with len(scores)=26235\n",
      "************************\n",
      "There are 41664 combinations\n",
      "Processed region=197 - (24, -43) for length 64 with len(scores)=41664\n",
      "************************\n",
      "There are 98770 combinations\n",
      "Processed region=198 - (24, -39) for length 85 with len(scores)=98770\n",
      "************************\n",
      "There are 47905 combinations\n"
     ]
    },
    {
     "name": "stderr",
     "output_type": "stream",
     "text": [
      "  7%|██████████▏                                                                                                                                      | 205/2912 [00:21<03:01, 14.95it/s]"
     ]
    },
    {
     "name": "stdout",
     "output_type": "stream",
     "text": [
      "Processed region=199 - (24, -35) for length 67 with len(scores)=47905\n",
      "************************\n",
      "There are 45760 combinations\n",
      "Processed region=200 - (24, -31) for length 66 with len(scores)=45760\n",
      "************************\n",
      "There are 91881 combinations\n",
      "Processed region=201 - (24, -27) for length 83 with len(scores)=91881\n",
      "************************\n",
      "There are 79079 combinations\n",
      "Processed region=202 - (24, -23) for length 79 with len(scores)=79079\n",
      "************************\n",
      "There are 91881 combinations\n",
      "Processed region=203 - (24, -19) for length 83 with len(scores)=91881\n",
      "************************\n",
      "There are 79079 combinations\n",
      "Processed region=204 - (24, -15) for length 79 with len(scores)=79079\n",
      "************************\n",
      "There are 59640 combinations\n",
      "Processed region=205 - (24, -11) for length 72 with len(scores)=59640\n",
      "************************\n",
      "There are 79079 combinations\n",
      "Processed region=206 - (24, -7) for length 79 with len(scores)=79079\n",
      "************************\n",
      "There are 109736 combinations\n",
      "Processed region=207 - (24, -3) for length 88 with len(scores)=109736\n",
      "************************\n",
      "There are 102340 combinations\n"
     ]
    },
    {
     "name": "stderr",
     "output_type": "stream",
     "text": [
      "  7%|██████████▍                                                                                                                                      | 210/2912 [00:21<02:22, 18.98it/s]"
     ]
    },
    {
     "name": "stdout",
     "output_type": "stream",
     "text": [
      "Processed region=208 - (24, 1) for length 86 with len(scores)=102340\n",
      "************************\n",
      "There are 156849 combinations\n",
      "Processed region=209 - (24, 5) for length 99 with len(scores)=156849\n",
      "************************\n",
      "There are 147440 combinations\n",
      "Processed region=210 - (24, 9) for length 97 with len(scores)=147440\n",
      "************************\n",
      "There are 156849 combinations\n",
      "Processed region=211 - (24, 13) for length 99 with len(scores)=156849\n",
      "************************\n",
      "There are 187460 combinations\n"
     ]
    },
    {
     "name": "stderr",
     "output_type": "stream",
     "text": [
      "  7%|██████████▋                                                                                                                                      | 214/2912 [00:21<02:38, 17.05it/s]"
     ]
    },
    {
     "name": "stdout",
     "output_type": "stream",
     "text": [
      "Processed region=212 - (24, 17) for length 105 with len(scores)=187460\n",
      "************************\n",
      "There are 171700 combinations\n",
      "Processed region=213 - (24, 21) for length 102 with len(scores)=171700\n",
      "************************\n",
      "There are 117480 combinations\n",
      "Processed region=214 - (24, 25) for length 90 with len(scores)=117480\n",
      "************************\n",
      "There are 400995 combinations\n"
     ]
    },
    {
     "name": "stderr",
     "output_type": "stream",
     "text": [
      "  7%|██████████▊                                                                                                                                      | 217/2912 [00:22<03:10, 14.17it/s]"
     ]
    },
    {
     "name": "stdout",
     "output_type": "stream",
     "text": [
      "Processed region=215 - (24, 29) for length 135 with len(scores)=400995\n",
      "************************\n",
      "There are 748660 combinations\n",
      "Processed region=216 - (24, 33) for length 166 with len(scores)=748660\n",
      "************************\n",
      "There are 988260 combinations\n",
      "Processed region=217 - (24, 37) for length 182 with len(scores)=988260\n",
      "************************\n",
      "There are 776216 combinations\n",
      "Processed region=218 - (24, 41) for length 168 with len(scores)=776216\n",
      "************************\n",
      "There are 1414910 combinations\n"
     ]
    },
    {
     "name": "stderr",
     "output_type": "stream",
     "text": [
      "  8%|██████████▉                                                                                                                                      | 220/2912 [00:23<06:10,  7.27it/s]"
     ]
    },
    {
     "name": "stdout",
     "output_type": "stream",
     "text": [
      "Processed region=219 - (24, 45) for length 205 with len(scores)=1414910\n",
      "************************\n",
      "There are 632710 combinations\n",
      "Processed region=220 - (24, 49) for length 157 with len(scores)=632710\n",
      "************************\n",
      "There are 1610564 combinations\n"
     ]
    },
    {
     "name": "stderr",
     "output_type": "stream",
     "text": [
      "  8%|███████████                                                                                                                                      | 222/2912 [00:23<07:41,  5.82it/s]"
     ]
    },
    {
     "name": "stdout",
     "output_type": "stream",
     "text": [
      "Processed region=221 - (24, 53) for length 214 with len(scores)=1610564\n",
      "************************\n",
      "There are 2604125 combinations\n",
      "Processed region=222 - (24, 57) for length 251 with len(scores)=2604125\n",
      "************************\n",
      "There are 1333300 combinations\n"
     ]
    },
    {
     "name": "stderr",
     "output_type": "stream",
     "text": [
      "  8%|███████████▌                                                                                                                                     | 231/2912 [00:25<05:55,  7.53it/s]"
     ]
    },
    {
     "name": "stdout",
     "output_type": "stream",
     "text": [
      "Processed region=223 - (24, 61) for length 201 with len(scores)=1333300\n",
      "************************\n",
      "There are 14190 combinations\n",
      "Processed region=224 - (28, -63) for length 45 with len(scores)=14190\n",
      "************************\n",
      "There are 29260 combinations\n",
      "Processed region=225 - (28, -59) for length 57 with len(scores)=29260\n",
      "************************\n",
      "There are 16215 combinations\n",
      "Processed region=226 - (28, -55) for length 47 with len(scores)=16215\n",
      "************************\n",
      "There are 32509 combinations\n",
      "Processed region=227 - (28, -51) for length 59 with len(scores)=32509\n",
      "************************\n",
      "There are 27720 combinations\n",
      "Processed region=228 - (28, -47) for length 56 with len(scores)=27720\n",
      "************************\n",
      "There are 20825 combinations\n",
      "Processed region=229 - (28, -43) for length 51 with len(scores)=20825\n",
      "************************\n",
      "There are 59640 combinations\n",
      "Processed region=230 - (28, -39) for length 72 with len(scores)=59640\n",
      "************************\n",
      "There are 82160 combinations\n",
      "Processed region=231 - (28, -35) for length 80 with len(scores)=82160\n",
      "************************\n",
      "There are 47905 combinations\n",
      "Processed region=232 - (28, -31) for length 67 with len(scores)=47905\n",
      "************************\n",
      "There are 73150 combinations\n"
     ]
    },
    {
     "name": "stderr",
     "output_type": "stream",
     "text": [
      "  8%|████████████                                                                                                                                     | 241/2912 [00:25<03:08, 14.15it/s]"
     ]
    },
    {
     "name": "stdout",
     "output_type": "stream",
     "text": [
      "Processed region=233 - (28, -27) for length 77 with len(scores)=73150\n",
      "************************\n",
      "There are 73150 combinations\n",
      "Processed region=234 - (28, -23) for length 77 with len(scores)=73150\n",
      "************************\n",
      "There are 52394 combinations\n",
      "Processed region=235 - (28, -19) for length 69 with len(scores)=52394\n",
      "************************\n",
      "There are 73150 combinations\n",
      "Processed region=236 - (28, -15) for length 77 with len(scores)=73150\n",
      "************************\n",
      "There are 95284 combinations\n",
      "Processed region=237 - (28, -11) for length 84 with len(scores)=95284\n",
      "************************\n",
      "There are 67525 combinations\n",
      "Processed region=238 - (28, -7) for length 75 with len(scores)=67525\n",
      "************************\n",
      "There are 85320 combinations\n",
      "Processed region=239 - (28, -3) for length 81 with len(scores)=85320\n",
      "************************\n",
      "There are 102340 combinations\n",
      "Processed region=240 - (28, 1) for length 86 with len(scores)=102340\n",
      "************************\n",
      "There are 95284 combinations\n",
      "Processed region=241 - (28, 5) for length 84 with len(scores)=95284\n",
      "************************\n",
      "There are 82160 combinations\n",
      "Processed region=242 - (28, 9) for length 80 with len(scores)=82160\n",
      "************************\n"
     ]
    },
    {
     "name": "stderr",
     "output_type": "stream",
     "text": [
      "  8%|████████████▏                                                                                                                                    | 245/2912 [00:25<02:39, 16.71it/s]"
     ]
    },
    {
     "name": "stdout",
     "output_type": "stream",
     "text": [
      "There are 109736 combinations\n",
      "Processed region=243 - (28, 13) for length 88 with len(scores)=109736\n",
      "************************\n",
      "There are 204156 combinations\n",
      "Processed region=244 - (28, 17) for length 108 with len(scores)=204156\n",
      "************************\n",
      "There are 152096 combinations\n",
      "Processed region=245 - (28, 21) for length 98 with len(scores)=152096\n",
      "************************\n",
      "There are 234136 combinations\n",
      "Processed region=246 - (28, 25) for length 113 with len(scores)=234136\n",
      "************************\n",
      "There are 349504 combinations\n",
      "Processed region=247 - (28, 29) for length 129 with len(scores)=349504\n",
      "************************\n",
      "There are 487344 combinations\n"
     ]
    },
    {
     "name": "stderr",
     "output_type": "stream",
     "text": [
      "  9%|████████████▍                                                                                                                                    | 249/2912 [00:25<03:10, 14.00it/s]"
     ]
    },
    {
     "name": "stdout",
     "output_type": "stream",
     "text": [
      "Processed region=248 - (28, 33) for length 144 with len(scores)=487344\n",
      "************************\n",
      "There are 3317040 combinations\n",
      "Processed region=249 - (28, 37) for length 272 with len(scores)=3317040\n",
      "************************\n",
      "There are 1143135 combinations\n",
      "Processed region=250 - (28, 41) for length 191 with len(scores)=1143135\n",
      "************************\n",
      "There are 1949476 combinations\n"
     ]
    },
    {
     "name": "stderr",
     "output_type": "stream",
     "text": [
      "  9%|████████████▌                                                                                                                                    | 252/2912 [00:27<08:21,  5.30it/s]"
     ]
    },
    {
     "name": "stdout",
     "output_type": "stream",
     "text": [
      "Processed region=251 - (28, 45) for length 228 with len(scores)=1949476\n",
      "************************\n",
      "There are 735130 combinations\n",
      "Processed region=252 - (28, 49) for length 165 with len(scores)=735130\n",
      "************************\n",
      "There are 3172316 combinations\n"
     ]
    },
    {
     "name": "stderr",
     "output_type": "stream",
     "text": [
      "  9%|████████████▋                                                                                                                                    | 254/2912 [00:28<11:30,  3.85it/s]"
     ]
    },
    {
     "name": "stdout",
     "output_type": "stream",
     "text": [
      "Processed region=253 - (28, 53) for length 268 with len(scores)=3172316\n",
      "************************\n",
      "There are 3619560 combinations\n",
      "Processed region=254 - (28, 57) for length 280 with len(scores)=3619560\n",
      "************************\n",
      "There are 862924 combinations\n"
     ]
    },
    {
     "name": "stderr",
     "output_type": "stream",
     "text": [
      "  9%|████████████▊                                                                                                                                    | 258/2912 [00:30<13:47,  3.21it/s]"
     ]
    },
    {
     "name": "stdout",
     "output_type": "stream",
     "text": [
      "Processed region=255 - (28, 61) for length 174 with len(scores)=862924\n",
      "************************\n",
      "There are 7770 combinations\n",
      "Processed region=256 - (32, -63) for length 37 with len(scores)=7770\n",
      "************************\n",
      "There are 22100 combinations\n",
      "Processed region=257 - (32, -59) for length 52 with len(scores)=22100\n",
      "************************\n",
      "There are 27720 combinations\n",
      "Processed region=258 - (32, -55) for length 56 with len(scores)=27720\n",
      "************************\n",
      "There are 26235 combinations\n",
      "Processed region=259 - (32, -51) for length 55 with len(scores)=26235\n",
      "************************\n",
      "There are 47905 combinations\n",
      "Processed region=260 - (32, -47) for length 67 with len(scores)=47905\n",
      "************************\n",
      "There are 64824 combinations\n"
     ]
    },
    {
     "name": "stderr",
     "output_type": "stream",
     "text": [
      "  9%|█████████████▍                                                                                                                                   | 269/2912 [00:30<04:53,  9.02it/s]"
     ]
    },
    {
     "name": "stdout",
     "output_type": "stream",
     "text": [
      "Processed region=261 - (32, -43) for length 74 with len(scores)=64824\n",
      "************************\n",
      "There are 88560 combinations\n",
      "Processed region=262 - (32, -39) for length 82 with len(scores)=88560\n",
      "************************\n",
      "There are 32509 combinations\n",
      "Processed region=263 - (32, -35) for length 59 with len(scores)=32509\n",
      "************************\n",
      "There are 102340 combinations\n",
      "Processed region=264 - (32, -31) for length 86 with len(scores)=102340\n",
      "************************\n",
      "There are 59640 combinations\n",
      "Processed region=265 - (32, -27) for length 72 with len(scores)=59640\n",
      "************************\n",
      "There are 50116 combinations\n",
      "Processed region=266 - (32, -23) for length 68 with len(scores)=50116\n",
      "************************\n",
      "There are 57155 combinations\n",
      "Processed region=267 - (32, -19) for length 71 with len(scores)=57155\n",
      "************************\n",
      "There are 45760 combinations\n",
      "Processed region=268 - (32, -15) for length 66 with len(scores)=45760\n",
      "************************\n",
      "There are 105995 combinations\n",
      "Processed region=269 - (32, -11) for length 87 with len(scores)=105995\n",
      "************************\n",
      "There are 121485 combinations\n"
     ]
    },
    {
     "name": "stderr",
     "output_type": "stream",
     "text": [
      " 10%|█████████████▊                                                                                                                                   | 277/2912 [00:31<03:17, 13.35it/s]"
     ]
    },
    {
     "name": "stdout",
     "output_type": "stream",
     "text": [
      "Processed region=270 - (32, -7) for length 91 with len(scores)=121485\n",
      "************************\n",
      "There are 79079 combinations\n",
      "Processed region=271 - (32, -3) for length 79 with len(scores)=79079\n",
      "************************\n",
      "There are 105995 combinations\n",
      "Processed region=272 - (32, 1) for length 87 with len(scores)=105995\n",
      "************************\n",
      "There are 91881 combinations\n",
      "Processed region=273 - (32, 5) for length 83 with len(scores)=91881\n",
      "************************\n",
      "There are 105995 combinations\n",
      "Processed region=274 - (32, 9) for length 87 with len(scores)=105995\n",
      "************************\n",
      "There are 121485 combinations\n",
      "Processed region=275 - (32, 13) for length 91 with len(scores)=121485\n",
      "************************\n",
      "There are 121485 combinations\n",
      "Processed region=276 - (32, 17) for length 91 with len(scores)=121485\n",
      "************************\n",
      "There are 129766 combinations\n"
     ]
    },
    {
     "name": "stderr",
     "output_type": "stream",
     "text": [
      " 10%|█████████████▉                                                                                                                                   | 280/2912 [00:31<03:27, 12.71it/s]"
     ]
    },
    {
     "name": "stdout",
     "output_type": "stream",
     "text": [
      "Processed region=277 - (32, 21) for length 93 with len(scores)=129766\n",
      "************************\n",
      "There are 317750 combinations\n",
      "Processed region=278 - (32, 25) for length 125 with len(scores)=317750\n",
      "************************\n",
      "There are 204156 combinations\n",
      "Processed region=279 - (32, 29) for length 108 with len(scores)=204156\n",
      "************************\n",
      "There are 585276 combinations\n",
      "Processed region=280 - (32, 33) for length 153 with len(scores)=585276\n",
      "************************\n",
      "There are 1038220 combinations\n",
      "Processed region=281 - (32, 37) for length 185 with len(scores)=1038220\n",
      "************************\n",
      "There are 1004731 combinations\n"
     ]
    },
    {
     "name": "stderr",
     "output_type": "stream",
     "text": [
      " 10%|██████████████                                                                                                                                   | 283/2912 [00:32<05:44,  7.63it/s]"
     ]
    },
    {
     "name": "stdout",
     "output_type": "stream",
     "text": [
      "Processed region=282 - (32, 41) for length 183 with len(scores)=1004731\n",
      "************************\n",
      "There are 1750540 combinations\n",
      "Processed region=283 - (32, 45) for length 220 with len(scores)=1750540\n",
      "************************\n",
      "There are 1414910 combinations\n"
     ]
    },
    {
     "name": "stderr",
     "output_type": "stream",
     "text": [
      " 10%|██████████████▏                                                                                                                                  | 285/2912 [00:33<08:04,  5.42it/s]"
     ]
    },
    {
     "name": "stdout",
     "output_type": "stream",
     "text": [
      "Processed region=284 - (32, 49) for length 205 with len(scores)=1414910\n",
      "************************\n",
      "There are 2929290 combinations\n",
      "Processed region=285 - (32, 53) for length 261 with len(scores)=2929290\n",
      "************************\n",
      "There are 3817670 combinations\n"
     ]
    },
    {
     "name": "stderr",
     "output_type": "stream",
     "text": [
      " 10%|██████████████▎                                                                                                                                  | 287/2912 [00:35<17:02,  2.57it/s]"
     ]
    },
    {
     "name": "stdout",
     "output_type": "stream",
     "text": [
      "Processed region=286 - (32, 57) for length 285 with len(scores)=3817670\n",
      "************************\n",
      "There are 287980 combinations\n"
     ]
    },
    {
     "name": "stderr",
     "output_type": "stream",
     "text": [
      " 10%|██████████████▍                                                                                                                                  | 289/2912 [00:35<13:55,  3.14it/s]"
     ]
    },
    {
     "name": "stdout",
     "output_type": "stream",
     "text": [
      "Processed region=287 - (32, 61) for length 121 with len(scores)=287980\n",
      "************************\n",
      "There are 15180 combinations\n",
      "Processed region=288 - (36, -63) for length 46 with len(scores)=15180\n",
      "************************\n",
      "There are 43680 combinations\n",
      "Processed region=289 - (36, -59) for length 65 with len(scores)=43680\n",
      "************************\n",
      "There are 19600 combinations\n",
      "Processed region=290 - (36, -55) for length 50 with len(scores)=19600\n",
      "************************\n",
      "There are 18424 combinations\n",
      "Processed region=291 - (36, -51) for length 49 with len(scores)=18424\n",
      "************************\n",
      "There are 22100 combinations\n",
      "Processed region=292 - (36, -47) for length 52 with len(scores)=22100\n",
      "************************\n",
      "There are 54740 combinations\n"
     ]
    },
    {
     "name": "stderr",
     "output_type": "stream",
     "text": [
      " 10%|██████████████▉                                                                                                                                  | 299/2912 [00:35<05:15,  8.27it/s]"
     ]
    },
    {
     "name": "stdout",
     "output_type": "stream",
     "text": [
      "Processed region=293 - (36, -43) for length 70 with len(scores)=54740\n",
      "************************\n",
      "There are 57155 combinations\n",
      "Processed region=294 - (36, -39) for length 71 with len(scores)=57155\n",
      "************************\n",
      "There are 47905 combinations\n",
      "Processed region=295 - (36, -35) for length 67 with len(scores)=47905\n",
      "************************\n",
      "There are 67525 combinations\n",
      "Processed region=296 - (36, -31) for length 75 with len(scores)=67525\n",
      "************************\n",
      "There are 70300 combinations\n",
      "Processed region=297 - (36, -27) for length 76 with len(scores)=70300\n",
      "************************\n",
      "There are 59640 combinations\n",
      "Processed region=298 - (36, -23) for length 72 with len(scores)=59640\n",
      "************************\n",
      "There are 23426 combinations\n",
      "Processed region=299 - (36, -19) for length 53 with len(scores)=23426\n",
      "************************\n",
      "There are 59640 combinations\n",
      "Processed region=300 - (36, -15) for length 72 with len(scores)=59640\n",
      "************************\n",
      "There are 113564 combinations\n",
      "Processed region=301 - (36, -11) for length 89 with len(scores)=113564\n",
      "************************\n",
      "There are 113564 combinations\n"
     ]
    },
    {
     "name": "stderr",
     "output_type": "stream",
     "text": [
      " 11%|███████████████▎                                                                                                                                 | 307/2912 [00:36<03:05, 14.07it/s]"
     ]
    },
    {
     "name": "stdout",
     "output_type": "stream",
     "text": [
      "Processed region=302 - (36, -7) for length 89 with len(scores)=113564\n",
      "************************\n",
      "There are 37820 combinations\n",
      "Processed region=303 - (36, -3) for length 62 with len(scores)=37820\n",
      "************************\n",
      "There are 88560 combinations\n",
      "Processed region=304 - (36, 1) for length 82 with len(scores)=88560\n",
      "************************\n",
      "There are 129766 combinations\n",
      "Processed region=305 - (36, 5) for length 93 with len(scores)=129766\n",
      "************************\n",
      "There are 88560 combinations\n",
      "Processed region=306 - (36, 9) for length 82 with len(scores)=88560\n",
      "************************\n",
      "There are 76076 combinations\n",
      "Processed region=307 - (36, 13) for length 78 with len(scores)=76076\n",
      "************************\n",
      "There are 109736 combinations\n",
      "Processed region=308 - (36, 17) for length 88 with len(scores)=109736\n",
      "************************\n",
      "There are 125580 combinations\n",
      "Processed region=309 - (36, 21) for length 92 with len(scores)=125580\n",
      "************************\n"
     ]
    },
    {
     "name": "stderr",
     "output_type": "stream",
     "text": [
      " 11%|███████████████▍                                                                                                                                 | 311/2912 [00:36<02:40, 16.21it/s]"
     ]
    },
    {
     "name": "stdout",
     "output_type": "stream",
     "text": [
      "There are 280840 combinations\n",
      "Processed region=310 - (36, 25) for length 120 with len(scores)=280840\n",
      "************************\n",
      "There are 457310 combinations\n",
      "Processed region=311 - (36, 29) for length 141 with len(scores)=457310\n",
      "************************\n",
      "There are 596904 combinations\n",
      "Processed region=312 - (36, 33) for length 154 with len(scores)=596904\n",
      "************************\n",
      "There are 1004731 combinations\n",
      "Processed region=313 - (36, 37) for length 183 with len(scores)=1004731\n",
      "************************\n",
      "There are 1774630 combinations\n"
     ]
    },
    {
     "name": "stderr",
     "output_type": "stream",
     "text": [
      " 11%|███████████████▋                                                                                                                                 | 315/2912 [00:37<05:19,  8.14it/s]"
     ]
    },
    {
     "name": "stdout",
     "output_type": "stream",
     "text": [
      "Processed region=314 - (36, 41) for length 221 with len(scores)=1774630\n",
      "************************\n",
      "There are 1633355 combinations\n",
      "Processed region=315 - (36, 45) for length 215 with len(scores)=1633355\n",
      "************************\n",
      "There are 1161280 combinations\n",
      "Processed region=316 - (36, 49) for length 192 with len(scores)=1161280\n",
      "************************\n",
      "There are 1898400 combinations\n"
     ]
    },
    {
     "name": "stderr",
     "output_type": "stream",
     "text": [
      " 11%|███████████████▊                                                                                                                                 | 318/2912 [00:38<09:50,  4.39it/s]"
     ]
    },
    {
     "name": "stdout",
     "output_type": "stream",
     "text": [
      "Processed region=317 - (36, 53) for length 226 with len(scores)=1898400\n",
      "************************\n",
      "There are 3466100 combinations\n",
      "Processed region=318 - (36, 57) for length 276 with len(scores)=3466100\n",
      "************************\n",
      "There are 518665 combinations\n"
     ]
    },
    {
     "name": "stderr",
     "output_type": "stream",
     "text": [
      " 11%|████████████████▏                                                                                                                                | 326/2912 [00:40<07:27,  5.78it/s]"
     ]
    },
    {
     "name": "stdout",
     "output_type": "stream",
     "text": [
      "Processed region=319 - (36, 61) for length 147 with len(scores)=518665\n",
      "************************\n",
      "There are 41664 combinations\n",
      "Processed region=320 - (40, -63) for length 64 with len(scores)=41664\n",
      "************************\n",
      "There are 26235 combinations\n",
      "Processed region=321 - (40, -59) for length 55 with len(scores)=26235\n",
      "************************\n",
      "There are 24804 combinations\n",
      "Processed region=322 - (40, -55) for length 54 with len(scores)=24804\n",
      "************************\n",
      "There are 32509 combinations\n",
      "Processed region=323 - (40, -51) for length 59 with len(scores)=32509\n",
      "************************\n",
      "There are 23426 combinations\n",
      "Processed region=324 - (40, -47) for length 53 with len(scores)=23426\n",
      "************************\n",
      "There are 79079 combinations\n",
      "Processed region=325 - (40, -43) for length 79 with len(scores)=79079\n",
      "************************\n",
      "There are 62196 combinations\n",
      "Processed region=326 - (40, -39) for length 73 with len(scores)=62196\n",
      "************************\n",
      "There are 88560 combinations\n",
      "Processed region=327 - (40, -35) for length 82 with len(scores)=88560\n",
      "************************\n",
      "There are 82160 combinations\n"
     ]
    },
    {
     "name": "stderr",
     "output_type": "stream",
     "text": [
      " 11%|████████████████▌                                                                                                                                | 333/2912 [00:40<04:37,  9.31it/s]"
     ]
    },
    {
     "name": "stdout",
     "output_type": "stream",
     "text": [
      "Processed region=328 - (40, -31) for length 80 with len(scores)=82160\n",
      "************************\n",
      "There are 129766 combinations\n",
      "Processed region=329 - (40, -27) for length 93 with len(scores)=129766\n",
      "************************\n",
      "There are 105995 combinations\n",
      "Processed region=330 - (40, -23) for length 87 with len(scores)=105995\n",
      "************************\n",
      "There are 129766 combinations\n",
      "Processed region=331 - (40, -19) for length 93 with len(scores)=129766\n",
      "************************\n",
      "There are 85320 combinations\n",
      "Processed region=332 - (40, -15) for length 81 with len(scores)=85320\n",
      "************************\n",
      "There are 182104 combinations\n"
     ]
    },
    {
     "name": "stderr",
     "output_type": "stream",
     "text": [
      " 12%|████████████████▋                                                                                                                                | 336/2912 [00:40<04:07, 10.39it/s]"
     ]
    },
    {
     "name": "stdout",
     "output_type": "stream",
     "text": [
      "Processed region=333 - (40, -11) for length 104 with len(scores)=182104\n",
      "************************\n",
      "There are 161700 combinations\n",
      "Processed region=334 - (40, -7) for length 100 with len(scores)=161700\n",
      "************************\n",
      "There are 88560 combinations\n",
      "Processed region=335 - (40, -3) for length 82 with len(scores)=88560\n",
      "************************\n",
      "There are 187460 combinations\n",
      "Processed region=336 - (40, 1) for length 105 with len(scores)=187460\n",
      "************************\n"
     ]
    },
    {
     "name": "stderr",
     "output_type": "stream",
     "text": [
      " 12%|████████████████▉                                                                                                                                | 339/2912 [00:40<03:26, 12.49it/s]"
     ]
    },
    {
     "name": "stdout",
     "output_type": "stream",
     "text": [
      "There are 102340 combinations\n",
      "Processed region=337 - (40, 5) for length 86 with len(scores)=102340\n",
      "************************\n",
      "There are 39711 combinations\n",
      "Processed region=338 - (40, 9) for length 63 with len(scores)=39711\n",
      "************************\n",
      "There are 138415 combinations\n",
      "Processed region=339 - (40, 13) for length 95 with len(scores)=138415\n",
      "************************\n",
      "There are 253460 combinations\n"
     ]
    },
    {
     "name": "stderr",
     "output_type": "stream",
     "text": [
      " 12%|█████████████████                                                                                                                                | 342/2912 [00:40<03:16, 13.11it/s]"
     ]
    },
    {
     "name": "stdout",
     "output_type": "stream",
     "text": [
      "Processed region=340 - (40, 17) for length 116 with len(scores)=253460\n",
      "************************\n",
      "There are 85320 combinations\n",
      "Processed region=341 - (40, 21) for length 81 with len(scores)=85320\n",
      "************************\n",
      "There are 273819 combinations\n",
      "Processed region=342 - (40, 25) for length 119 with len(scores)=273819\n",
      "************************\n",
      "There are 187460 combinations\n"
     ]
    },
    {
     "name": "stderr",
     "output_type": "stream",
     "text": [
      " 12%|█████████████████▏                                                                                                                               | 345/2912 [00:41<03:39, 11.68it/s]"
     ]
    },
    {
     "name": "stdout",
     "output_type": "stream",
     "text": [
      "Processed region=343 - (40, 29) for length 105 with len(scores)=187460\n",
      "************************\n",
      "There are 428536 combinations\n",
      "Processed region=344 - (40, 33) for length 138 with len(scores)=428536\n",
      "************************\n",
      "There are 1587986 combinations\n",
      "Processed region=345 - (40, 37) for length 213 with len(scores)=1587986\n",
      "************************\n",
      "There are 3172316 combinations\n"
     ]
    },
    {
     "name": "stderr",
     "output_type": "stream",
     "text": [
      " 12%|█████████████████▎                                                                                                                               | 347/2912 [00:42<10:19,  4.14it/s]"
     ]
    },
    {
     "name": "stdout",
     "output_type": "stream",
     "text": [
      "Processed region=346 - (40, 41) for length 268 with len(scores)=3172316\n",
      "************************\n",
      "There are 1353400 combinations\n",
      "Processed region=347 - (40, 45) for length 202 with len(scores)=1353400\n",
      "************************\n",
      "There are 1274196 combinations\n"
     ]
    },
    {
     "name": "stderr",
     "output_type": "stream",
     "text": [
      " 12%|█████████████████▍                                                                                                                               | 349/2912 [00:43<12:13,  3.49it/s]"
     ]
    },
    {
     "name": "stdout",
     "output_type": "stream",
     "text": [
      "Processed region=348 - (40, 49) for length 198 with len(scores)=1274196\n",
      "************************\n",
      "There are 657359 combinations\n",
      "Processed region=349 - (40, 53) for length 159 with len(scores)=657359\n",
      "************************\n"
     ]
    },
    {
     "name": "stderr",
     "output_type": "stream",
     "text": [
      " 12%|█████████████████▍                                                                                                                               | 350/2912 [00:43<11:29,  3.71it/s]"
     ]
    },
    {
     "name": "stdout",
     "output_type": "stream",
     "text": [
      "There are 1161280 combinations\n"
     ]
    },
    {
     "name": "stderr",
     "output_type": "stream",
     "text": [
      " 12%|█████████████████▍                                                                                                                               | 351/2912 [00:44<12:12,  3.49it/s]"
     ]
    },
    {
     "name": "stdout",
     "output_type": "stream",
     "text": [
      "Processed region=350 - (40, 57) for length 192 with len(scores)=1161280\n",
      "************************\n",
      "There are 1254890 combinations\n"
     ]
    },
    {
     "name": "stderr",
     "output_type": "stream",
     "text": [
      " 12%|█████████████████▋                                                                                                                               | 356/2912 [00:44<06:44,  6.31it/s]"
     ]
    },
    {
     "name": "stdout",
     "output_type": "stream",
     "text": [
      "Processed region=351 - (40, 61) for length 197 with len(scores)=1254890\n",
      "************************\n",
      "There are 20825 combinations\n",
      "Processed region=352 - (44, -63) for length 51 with len(scores)=20825\n",
      "************************\n",
      "There are 18424 combinations\n",
      "Processed region=353 - (44, -59) for length 49 with len(scores)=18424\n",
      "************************\n",
      "There are 19600 combinations\n",
      "Processed region=354 - (44, -55) for length 50 with len(scores)=19600\n",
      "************************\n",
      "There are 8436 combinations\n",
      "Processed region=355 - (44, -51) for length 38 with len(scores)=8436\n",
      "************************\n",
      "There are 62196 combinations\n",
      "Processed region=356 - (44, -47) for length 73 with len(scores)=62196\n",
      "************************\n",
      "There are 47905 combinations\n"
     ]
    },
    {
     "name": "stderr",
     "output_type": "stream",
     "text": [
      " 13%|██████████████████▏                                                                                                                              | 365/2912 [00:45<02:57, 14.31it/s]"
     ]
    },
    {
     "name": "stdout",
     "output_type": "stream",
     "text": [
      "Processed region=357 - (44, -43) for length 67 with len(scores)=47905\n",
      "************************\n",
      "There are 70300 combinations\n",
      "Processed region=358 - (44, -39) for length 76 with len(scores)=70300\n",
      "************************\n",
      "There are 41664 combinations\n",
      "Processed region=359 - (44, -35) for length 64 with len(scores)=41664\n",
      "************************\n",
      "There are 57155 combinations\n",
      "Processed region=360 - (44, -31) for length 71 with len(scores)=57155\n",
      "************************\n",
      "There are 88560 combinations\n",
      "Processed region=361 - (44, -27) for length 82 with len(scores)=88560\n",
      "************************\n",
      "There are 70300 combinations\n",
      "Processed region=362 - (44, -23) for length 76 with len(scores)=70300\n",
      "************************\n",
      "There are 79079 combinations\n",
      "Processed region=363 - (44, -19) for length 79 with len(scores)=79079\n",
      "************************\n",
      "There are 125580 combinations\n",
      "Processed region=364 - (44, -15) for length 92 with len(scores)=125580\n",
      "************************\n",
      "There are 156849 combinations\n"
     ]
    },
    {
     "name": "stderr",
     "output_type": "stream",
     "text": [
      " 13%|██████████████████▌                                                                                                                              | 372/2912 [00:45<02:09, 19.66it/s]"
     ]
    },
    {
     "name": "stdout",
     "output_type": "stream",
     "text": [
      "Processed region=365 - (44, -11) for length 99 with len(scores)=156849\n",
      "************************\n",
      "There are 73150 combinations\n",
      "Processed region=366 - (44, -7) for length 77 with len(scores)=73150\n",
      "************************\n",
      "There are 34220 combinations\n",
      "Processed region=367 - (44, -3) for length 60 with len(scores)=34220\n",
      "************************\n",
      "There are 82160 combinations\n",
      "Processed region=368 - (44, 1) for length 80 with len(scores)=82160\n",
      "************************\n",
      "There are 147440 combinations\n",
      "Processed region=369 - (44, 5) for length 97 with len(scores)=147440\n",
      "************************\n",
      "There are 52394 combinations\n",
      "Processed region=370 - (44, 9) for length 69 with len(scores)=52394\n",
      "************************\n",
      "There are 85320 combinations\n",
      "Processed region=371 - (44, 13) for length 81 with len(scores)=85320\n",
      "************************\n",
      "There are 156849 combinations\n"
     ]
    },
    {
     "name": "stderr",
     "output_type": "stream",
     "text": [
      " 13%|██████████████████▋                                                                                                                              | 375/2912 [00:45<02:24, 17.52it/s]"
     ]
    },
    {
     "name": "stdout",
     "output_type": "stream",
     "text": [
      "Processed region=372 - (44, 17) for length 99 with len(scores)=156849\n",
      "************************\n",
      "There are 109736 combinations\n",
      "Processed region=373 - (44, 21) for length 88 with len(scores)=109736\n",
      "************************\n",
      "There are 240464 combinations\n",
      "Processed region=374 - (44, 25) for length 114 with len(scores)=240464\n",
      "************************\n",
      "There are 152096 combinations\n",
      "Processed region=375 - (44, 29) for length 98 with len(scores)=152096\n",
      "************************\n",
      "There are 266916 combinations\n",
      "Processed region=376 - (44, 33) for length 118 with len(scores)=266916\n",
      "************************\n",
      "There are 1021384 combinations\n"
     ]
    },
    {
     "name": "stderr",
     "output_type": "stream",
     "text": [
      " 13%|██████████████████▊                                                                                                                              | 378/2912 [00:46<03:55, 10.74it/s]"
     ]
    },
    {
     "name": "stdout",
     "output_type": "stream",
     "text": [
      "Processed region=377 - (44, 37) for length 184 with len(scores)=1021384\n",
      "************************\n",
      "There are 1975354 combinations\n",
      "Processed region=378 - (44, 41) for length 229 with len(scores)=1975354\n",
      "************************\n",
      "There are 410040 combinations\n"
     ]
    },
    {
     "name": "stderr",
     "output_type": "stream",
     "text": [
      " 13%|███████████████████                                                                                                                              | 382/2912 [00:46<05:42,  7.39it/s]"
     ]
    },
    {
     "name": "stdout",
     "output_type": "stream",
     "text": [
      "Processed region=379 - (44, 45) for length 136 with len(scores)=410040\n",
      "************************\n",
      "There are 508080 combinations\n",
      "Processed region=380 - (44, 49) for length 146 with len(scores)=508080\n",
      "************************\n",
      "There are 105995 combinations\n",
      "Processed region=381 - (44, 53) for length 87 with len(scores)=105995\n",
      "************************\n",
      "There are 447580 combinations\n"
     ]
    },
    {
     "name": "stderr",
     "output_type": "stream",
     "text": [
      " 13%|███████████████████                                                                                                                              | 384/2912 [00:47<05:46,  7.30it/s]"
     ]
    },
    {
     "name": "stdout",
     "output_type": "stream",
     "text": [
      "Processed region=382 - (44, 57) for length 140 with len(scores)=447580\n",
      "************************\n",
      "There are 400995 combinations\n",
      "Processed region=383 - (44, 61) for length 135 with len(scores)=400995\n",
      "************************\n",
      "There are 22100 combinations\n",
      "Processed region=384 - (48, -63) for length 52 with len(scores)=22100\n",
      "************************\n",
      "There are 32509 combinations\n",
      "Processed region=385 - (48, -59) for length 59 with len(scores)=32509\n",
      "************************\n",
      "There are 15180 combinations\n",
      "Processed region=386 - (48, -55) for length 46 with len(scores)=15180\n",
      "************************\n",
      "There are 29260 combinations\n",
      "Processed region=387 - (48, -51) for length 57 with len(scores)=29260\n",
      "************************\n",
      "There are 52394 combinations\n",
      "Processed region=388 - (48, -47) for length 69 with len(scores)=52394\n",
      "************************\n",
      "There are 82160 combinations\n",
      "Processed region=389 - (48, -43) for length 80 with len(scores)=82160\n",
      "************************\n",
      "There are 64824 combinations\n"
     ]
    },
    {
     "name": "stderr",
     "output_type": "stream",
     "text": [
      " 14%|███████████████████▋                                                                                                                             | 396/2912 [00:47<02:16, 18.47it/s]"
     ]
    },
    {
     "name": "stdout",
     "output_type": "stream",
     "text": [
      "Processed region=390 - (48, -39) for length 74 with len(scores)=64824\n",
      "************************\n",
      "There are 47905 combinations\n",
      "Processed region=391 - (48, -35) for length 67 with len(scores)=47905\n",
      "************************\n",
      "There are 95284 combinations\n",
      "Processed region=392 - (48, -31) for length 84 with len(scores)=95284\n",
      "************************\n",
      "There are 79079 combinations\n",
      "Processed region=393 - (48, -27) for length 79 with len(scores)=79079\n",
      "************************\n",
      "There are 102340 combinations\n",
      "Processed region=394 - (48, -23) for length 86 with len(scores)=102340\n",
      "************************\n",
      "There are 138415 combinations\n",
      "Processed region=395 - (48, -19) for length 95 with len(scores)=138415\n",
      "************************\n",
      "There are 64824 combinations\n",
      "Processed region=396 - (48, -15) for length 74 with len(scores)=64824\n",
      "************************\n",
      "There are 117480 combinations\n",
      "Processed region=397 - (48, -11) for length 90 with len(scores)=117480\n",
      "************************\n",
      "There are 109736 combinations\n"
     ]
    },
    {
     "name": "stderr",
     "output_type": "stream",
     "text": [
      " 14%|████████████████████                                                                                                                             | 404/2912 [00:47<01:42, 24.48it/s]"
     ]
    },
    {
     "name": "stdout",
     "output_type": "stream",
     "text": [
      "Processed region=398 - (48, -7) for length 88 with len(scores)=109736\n",
      "************************\n",
      "There are 142880 combinations\n",
      "Processed region=399 - (48, -3) for length 96 with len(scores)=142880\n",
      "************************\n",
      "There are 161700 combinations\n",
      "Processed region=400 - (48, 1) for length 100 with len(scores)=161700\n",
      "************************\n",
      "There are 91881 combinations\n",
      "Processed region=401 - (48, 5) for length 83 with len(scores)=91881\n",
      "************************\n",
      "There are 35990 combinations\n",
      "Processed region=402 - (48, 9) for length 61 with len(scores)=35990\n",
      "************************\n",
      "There are 52394 combinations\n",
      "Processed region=403 - (48, 13) for length 69 with len(scores)=52394\n",
      "************************\n",
      "There are 273819 combinations\n",
      "Processed region=404 - (48, 17) for length 119 with len(scores)=273819\n",
      "************************\n"
     ]
    },
    {
     "name": "stderr",
     "output_type": "stream",
     "text": [
      " 14%|████████████████████▎                                                                                                                            | 408/2912 [00:47<01:44, 23.90it/s]"
     ]
    },
    {
     "name": "stdout",
     "output_type": "stream",
     "text": [
      "There are 105995 combinations\n",
      "Processed region=405 - (48, 21) for length 87 with len(scores)=105995\n",
      "************************\n",
      "There are 246905 combinations\n",
      "Processed region=406 - (48, 25) for length 115 with len(scores)=246905\n",
      "************************\n",
      "There are 57155 combinations\n",
      "Processed region=407 - (48, 29) for length 71 with len(scores)=57155\n",
      "************************\n",
      "There are 325500 combinations\n",
      "Processed region=408 - (48, 33) for length 126 with len(scores)=325500\n",
      "************************\n",
      "There are 1333300 combinations\n",
      "Processed region=409 - (48, 37) for length 201 with len(scores)=1333300\n",
      "************************\n",
      "There are 862924 combinations\n",
      "Processed region=410 - (48, 41) for length 174 with len(scores)=862924\n",
      "************************\n",
      "There are 877975 combinations\n"
     ]
    },
    {
     "name": "stderr",
     "output_type": "stream",
     "text": [
      " 14%|████████████████████▋                                                                                                                            | 415/2912 [00:49<04:31,  9.20it/s]"
     ]
    },
    {
     "name": "stdout",
     "output_type": "stream",
     "text": [
      "Processed region=411 - (48, 45) for length 175 with len(scores)=877975\n",
      "************************\n",
      "There are 204156 combinations\n",
      "Processed region=412 - (48, 49) for length 108 with len(scores)=204156\n",
      "************************\n",
      "There are 113564 combinations\n",
      "Processed region=413 - (48, 53) for length 89 with len(scores)=113564\n",
      "************************\n",
      "There are 138415 combinations\n",
      "Processed region=414 - (48, 57) for length 95 with len(scores)=138415\n",
      "************************\n",
      "There are 529396 combinations\n"
     ]
    },
    {
     "name": "stderr",
     "output_type": "stream",
     "text": [
      " 15%|█████████████████████                                                                                                                            | 423/2912 [00:49<02:55, 14.15it/s]"
     ]
    },
    {
     "name": "stdout",
     "output_type": "stream",
     "text": [
      "Processed region=415 - (48, 61) for length 148 with len(scores)=529396\n",
      "************************\n",
      "There are 20825 combinations\n",
      "Processed region=416 - (52, -63) for length 51 with len(scores)=20825\n",
      "************************\n",
      "There are 29260 combinations\n",
      "Processed region=417 - (52, -59) for length 57 with len(scores)=29260\n",
      "************************\n",
      "There are 45760 combinations\n",
      "Processed region=418 - (52, -55) for length 66 with len(scores)=45760\n",
      "************************\n",
      "There are 34220 combinations\n",
      "Processed region=419 - (52, -51) for length 60 with len(scores)=34220\n",
      "************************\n",
      "There are 39711 combinations\n",
      "Processed region=420 - (52, -47) for length 63 with len(scores)=39711\n",
      "************************\n",
      "There are 54740 combinations\n",
      "Processed region=421 - (52, -43) for length 70 with len(scores)=54740\n",
      "************************\n",
      "There are 30856 combinations\n",
      "Processed region=422 - (52, -39) for length 58 with len(scores)=30856\n",
      "************************\n",
      "There are 35990 combinations\n",
      "Processed region=423 - (52, -35) for length 61 with len(scores)=35990\n",
      "************************\n",
      "There are 198485 combinations\n"
     ]
    },
    {
     "name": "stderr",
     "output_type": "stream",
     "text": [
      " 15%|█████████████████████▍                                                                                                                           | 430/2912 [00:49<02:14, 18.51it/s]"
     ]
    },
    {
     "name": "stdout",
     "output_type": "stream",
     "text": [
      "Processed region=424 - (52, -31) for length 107 with len(scores)=198485\n",
      "************************\n",
      "There are 98770 combinations\n",
      "Processed region=425 - (52, -27) for length 85 with len(scores)=98770\n",
      "************************\n",
      "There are 59640 combinations\n",
      "Processed region=426 - (52, -23) for length 72 with len(scores)=59640\n",
      "************************\n",
      "There are 88560 combinations\n",
      "Processed region=427 - (52, -19) for length 82 with len(scores)=88560\n",
      "************************\n",
      "There are 156849 combinations\n",
      "Processed region=428 - (52, -15) for length 99 with len(scores)=156849\n",
      "************************\n",
      "There are 142880 combinations\n",
      "Processed region=429 - (52, -11) for length 96 with len(scores)=142880\n",
      "************************\n",
      "There are 176851 combinations\n"
     ]
    },
    {
     "name": "stderr",
     "output_type": "stream",
     "text": [
      " 15%|█████████████████████▌                                                                                                                           | 433/2912 [00:50<02:14, 18.38it/s]"
     ]
    },
    {
     "name": "stdout",
     "output_type": "stream",
     "text": [
      "Processed region=430 - (52, -7) for length 103 with len(scores)=176851\n",
      "************************\n",
      "There are 209934 combinations\n",
      "Processed region=431 - (52, -3) for length 109 with len(scores)=209934\n",
      "************************\n",
      "There are 192920 combinations\n",
      "Processed region=432 - (52, 1) for length 106 with len(scores)=192920\n",
      "************************\n",
      "There are 121485 combinations\n",
      "Processed region=433 - (52, 5) for length 91 with len(scores)=121485\n",
      "************************\n",
      "There are 76076 combinations\n",
      "Processed region=434 - (52, 9) for length 78 with len(scores)=76076\n",
      "************************\n",
      "There are 52394 combinations\n",
      "Processed region=435 - (52, 13) for length 69 with len(scores)=52394\n",
      "************************\n"
     ]
    },
    {
     "name": "stderr",
     "output_type": "stream",
     "text": [
      " 15%|█████████████████████▊                                                                                                                           | 437/2912 [00:50<02:16, 18.12it/s]"
     ]
    },
    {
     "name": "stdout",
     "output_type": "stream",
     "text": [
      "There are 260130 combinations\n",
      "Processed region=436 - (52, 17) for length 117 with len(scores)=260130\n",
      "************************\n",
      "There are 204156 combinations\n",
      "Processed region=437 - (52, 21) for length 108 with len(scores)=204156\n",
      "************************\n"
     ]
    },
    {
     "name": "stderr",
     "output_type": "stream",
     "text": [
      " 15%|█████████████████████▉                                                                                                                           | 440/2912 [00:50<02:39, 15.52it/s]"
     ]
    },
    {
     "name": "stdout",
     "output_type": "stream",
     "text": [
      "There are 437989 combinations\n",
      "Processed region=438 - (52, 25) for length 139 with len(scores)=437989\n",
      "************************\n",
      "There are 67525 combinations\n",
      "Processed region=439 - (52, 29) for length 75 with len(scores)=67525\n",
      "************************\n",
      "There are 325500 combinations\n"
     ]
    },
    {
     "name": "stderr",
     "output_type": "stream",
     "text": [
      " 15%|██████████████████████                                                                                                                           | 442/2912 [00:50<03:03, 13.49it/s]"
     ]
    },
    {
     "name": "stdout",
     "output_type": "stream",
     "text": [
      "Processed region=440 - (52, 33) for length 126 with len(scores)=325500\n",
      "************************\n",
      "There are 596904 combinations\n",
      "Processed region=441 - (52, 37) for length 154 with len(scores)=596904\n",
      "************************\n",
      "There are 924176 combinations\n"
     ]
    },
    {
     "name": "stderr",
     "output_type": "stream",
     "text": [
      " 15%|██████████████████████                                                                                                                           | 444/2912 [00:51<05:15,  7.81it/s]"
     ]
    },
    {
     "name": "stdout",
     "output_type": "stream",
     "text": [
      "Processed region=442 - (52, 41) for length 178 with len(scores)=924176\n",
      "************************\n",
      "There are 721764 combinations\n",
      "Processed region=443 - (52, 45) for length 164 with len(scores)=721764\n",
      "************************\n"
     ]
    },
    {
     "name": "stderr",
     "output_type": "stream",
     "text": [
      " 15%|██████████████████████▏                                                                                                                          | 446/2912 [00:51<05:08,  7.98it/s]"
     ]
    },
    {
     "name": "stdout",
     "output_type": "stream",
     "text": [
      "There are 735130 combinations\n",
      "Processed region=444 - (52, 49) for length 165 with len(scores)=735130\n",
      "************************\n",
      "There are 76076 combinations\n",
      "Processed region=445 - (52, 53) for length 78 with len(scores)=76076\n",
      "************************\n",
      "There are 134044 combinations\n"
     ]
    },
    {
     "name": "stderr",
     "output_type": "stream",
     "text": [
      " 15%|██████████████████████▎                                                                                                                          | 448/2912 [00:51<04:42,  8.73it/s]"
     ]
    },
    {
     "name": "stdout",
     "output_type": "stream",
     "text": [
      "Processed region=446 - (52, 57) for length 94 with len(scores)=134044\n",
      "************************\n",
      "There are 437989 combinations\n",
      "Processed region=447 - (52, 61) for length 139 with len(scores)=437989\n",
      "************************\n",
      "There are 3654 combinations\n"
     ]
    },
    {
     "name": "stderr",
     "output_type": "stream",
     "text": [
      " 16%|██████████████████████▋                                                                                                                          | 455/2912 [00:52<02:48, 14.61it/s]"
     ]
    },
    {
     "name": "stdout",
     "output_type": "stream",
     "text": [
      "Processed region=448 - (56, -63) for length 29 with len(scores)=3654\n",
      "************************\n",
      "There are 24804 combinations\n",
      "Processed region=449 - (56, -59) for length 54 with len(scores)=24804\n",
      "************************\n",
      "There are 30856 combinations\n",
      "Processed region=450 - (56, -55) for length 58 with len(scores)=30856\n",
      "************************\n",
      "There are 62196 combinations\n",
      "Processed region=451 - (56, -51) for length 73 with len(scores)=62196\n",
      "************************\n",
      "There are 82160 combinations\n",
      "Processed region=452 - (56, -47) for length 80 with len(scores)=82160\n",
      "************************\n",
      "There are 76076 combinations\n",
      "Processed region=453 - (56, -43) for length 78 with len(scores)=76076\n",
      "************************\n",
      "There are 113564 combinations\n",
      "Processed region=454 - (56, -39) for length 89 with len(scores)=113564\n",
      "************************\n",
      "There are 121485 combinations\n",
      "Processed region=455 - (56, -35) for length 91 with len(scores)=121485\n",
      "************************\n",
      "There are 121485 combinations\n"
     ]
    },
    {
     "name": "stderr",
     "output_type": "stream",
     "text": [
      " 16%|██████████████████████▉                                                                                                                          | 461/2912 [00:52<02:11, 18.64it/s]"
     ]
    },
    {
     "name": "stdout",
     "output_type": "stream",
     "text": [
      "Processed region=456 - (56, -31) for length 91 with len(scores)=121485\n",
      "************************\n",
      "There are 142880 combinations\n",
      "Processed region=457 - (56, -27) for length 96 with len(scores)=142880\n",
      "************************\n",
      "There are 171700 combinations\n",
      "Processed region=458 - (56, -23) for length 102 with len(scores)=171700\n",
      "************************\n",
      "There are 54740 combinations\n",
      "Processed region=459 - (56, -19) for length 70 with len(scores)=54740\n",
      "************************\n",
      "There are 134044 combinations\n",
      "Processed region=460 - (56, -15) for length 94 with len(scores)=134044\n",
      "************************\n",
      "There are 156849 combinations\n"
     ]
    },
    {
     "name": "stderr",
     "output_type": "stream",
     "text": [
      " 16%|███████████████████████                                                                                                                          | 464/2912 [00:52<02:08, 19.09it/s]"
     ]
    },
    {
     "name": "stdout",
     "output_type": "stream",
     "text": [
      "Processed region=461 - (56, -11) for length 99 with len(scores)=156849\n",
      "************************\n",
      "There are 142880 combinations\n",
      "Processed region=462 - (56, -7) for length 96 with len(scores)=142880\n",
      "************************\n",
      "There are 192920 combinations\n",
      "Processed region=463 - (56, -3) for length 106 with len(scores)=192920\n",
      "************************\n",
      "There are 88560 combinations\n",
      "Processed region=464 - (56, 1) for length 82 with len(scores)=88560\n",
      "************************\n",
      "There are 88560 combinations\n",
      "Processed region=465 - (56, 5) for length 82 with len(scores)=88560\n",
      "************************\n",
      "There are 260130 combinations\n"
     ]
    },
    {
     "name": "stderr",
     "output_type": "stream",
     "text": [
      " 16%|███████████████████████▍                                                                                                                         | 470/2912 [00:52<02:07, 19.10it/s]"
     ]
    },
    {
     "name": "stdout",
     "output_type": "stream",
     "text": [
      "Processed region=466 - (56, 9) for length 117 with len(scores)=260130\n",
      "************************\n",
      "There are 82160 combinations\n",
      "Processed region=467 - (56, 13) for length 80 with len(scores)=82160\n",
      "************************\n",
      "There are 156849 combinations\n",
      "Processed region=468 - (56, 17) for length 99 with len(scores)=156849\n",
      "************************\n",
      "There are 467180 combinations\n",
      "Processed region=469 - (56, 21) for length 142 with len(scores)=467180\n",
      "************************\n",
      "There are 939929 combinations\n",
      "Processed region=470 - (56, 25) for length 179 with len(scores)=939929\n",
      "************************\n",
      "There are 529396 combinations\n",
      "Processed region=471 - (56, 29) for length 148 with len(scores)=529396\n",
      "************************\n"
     ]
    },
    {
     "name": "stderr",
     "output_type": "stream",
     "text": [
      " 16%|███████████████████████▌                                                                                                                         | 473/2912 [00:53<04:12,  9.68it/s]"
     ]
    },
    {
     "name": "stdout",
     "output_type": "stream",
     "text": [
      "There are 447580 combinations\n",
      "Processed region=472 - (56, 33) for length 140 with len(scores)=447580\n",
      "************************\n",
      "There are 477191 combinations\n"
     ]
    },
    {
     "name": "stderr",
     "output_type": "stream",
     "text": [
      " 16%|███████████████████████▋                                                                                                                         | 475/2912 [00:53<04:39,  8.71it/s]"
     ]
    },
    {
     "name": "stdout",
     "output_type": "stream",
     "text": [
      "Processed region=473 - (56, 37) for length 143 with len(scores)=477191\n",
      "************************\n",
      "There are 325500 combinations\n",
      "Processed region=474 - (56, 41) for length 126 with len(scores)=325500\n",
      "************************\n",
      "There are 644956 combinations\n"
     ]
    },
    {
     "name": "stderr",
     "output_type": "stream",
     "text": [
      " 16%|███████████████████████▊                                                                                                                         | 477/2912 [00:54<05:27,  7.43it/s]"
     ]
    },
    {
     "name": "stdout",
     "output_type": "stream",
     "text": [
      "Processed region=475 - (56, 45) for length 158 with len(scores)=644956\n",
      "************************\n",
      "There are 477191 combinations\n",
      "Processed region=476 - (56, 49) for length 143 with len(scores)=477191\n",
      "************************\n",
      "There are 32509 combinations\n",
      "Processed region=477 - (56, 53) for length 59 with len(scores)=32509\n",
      "************************\n",
      "There are 357760 combinations\n"
     ]
    },
    {
     "name": "stderr",
     "output_type": "stream",
     "text": [
      " 16%|███████████████████████▊                                                                                                                         | 479/2912 [00:54<05:01,  8.06it/s]"
     ]
    },
    {
     "name": "stdout",
     "output_type": "stream",
     "text": [
      "Processed region=478 - (56, 57) for length 130 with len(scores)=357760\n",
      "************************\n",
      "There are 357760 combinations\n",
      "Processed region=479 - (56, 61) for length 130 with len(scores)=357760\n",
      "************************\n",
      "There are 17296 combinations\n"
     ]
    },
    {
     "name": "stderr",
     "output_type": "stream",
     "text": [
      " 17%|████████████████████████▏                                                                                                                        | 486/2912 [00:54<02:57, 13.69it/s]"
     ]
    },
    {
     "name": "stdout",
     "output_type": "stream",
     "text": [
      "Processed region=480 - (60, -63) for length 48 with len(scores)=17296\n",
      "************************\n",
      "There are 67525 combinations\n",
      "Processed region=481 - (60, -59) for length 75 with len(scores)=67525\n",
      "************************\n",
      "There are 32509 combinations\n",
      "Processed region=482 - (60, -55) for length 59 with len(scores)=32509\n",
      "************************\n",
      "There are 73150 combinations\n",
      "Processed region=483 - (60, -51) for length 77 with len(scores)=73150\n",
      "************************\n",
      "There are 52394 combinations\n",
      "Processed region=484 - (60, -47) for length 69 with len(scores)=52394\n",
      "************************\n",
      "There are 142880 combinations\n",
      "Processed region=485 - (60, -43) for length 96 with len(scores)=142880\n",
      "************************\n",
      "There are 91881 combinations\n",
      "Processed region=486 - (60, -39) for length 83 with len(scores)=91881\n",
      "************************\n",
      "There are 156849 combinations\n",
      "Processed region=487 - (60, -35) for length 99 with len(scores)=156849\n",
      "************************\n"
     ]
    },
    {
     "name": "stderr",
     "output_type": "stream",
     "text": [
      " 17%|████████████████████████▍                                                                                                                        | 492/2912 [00:55<02:19, 17.32it/s]"
     ]
    },
    {
     "name": "stdout",
     "output_type": "stream",
     "text": [
      "There are 152096 combinations\n",
      "Processed region=488 - (60, -31) for length 98 with len(scores)=152096\n",
      "************************\n",
      "There are 171700 combinations\n",
      "Processed region=489 - (60, -27) for length 102 with len(scores)=171700\n",
      "************************\n",
      "There are 121485 combinations\n",
      "Processed region=490 - (60, -23) for length 91 with len(scores)=121485\n",
      "************************\n",
      "There are 234136 combinations\n",
      "Processed region=491 - (60, -19) for length 113 with len(scores)=234136\n",
      "************************\n",
      "There are 161700 combinations\n",
      "Processed region=492 - (60, -15) for length 100 with len(scores)=161700\n",
      "************************\n",
      "There are 374660 combinations\n",
      "Processed region=493 - (60, -11) for length 132 with len(scores)=374660\n",
      "************************\n",
      "There are 176851 combinations\n"
     ]
    },
    {
     "name": "stderr",
     "output_type": "stream",
     "text": [
      " 17%|████████████████████████▊                                                                                                                        | 498/2912 [00:55<02:22, 16.94it/s]"
     ]
    },
    {
     "name": "stdout",
     "output_type": "stream",
     "text": [
      "Processed region=494 - (60, -7) for length 103 with len(scores)=176851\n",
      "************************\n",
      "There are 266916 combinations\n",
      "Processed region=495 - (60, -3) for length 118 with len(scores)=266916\n",
      "************************\n",
      "There are 76076 combinations\n",
      "Processed region=496 - (60, 1) for length 78 with len(scores)=76076\n",
      "************************\n",
      "There are 129766 combinations\n",
      "Processed region=497 - (60, 5) for length 93 with len(scores)=129766\n",
      "************************\n",
      "There are 67525 combinations\n",
      "Processed region=498 - (60, 9) for length 75 with len(scores)=67525\n",
      "************************\n",
      "There are 121485 combinations\n",
      "Processed region=499 - (60, 13) for length 91 with len(scores)=121485\n",
      "************************\n",
      "There are 79079 combinations\n"
     ]
    },
    {
     "name": "stderr",
     "output_type": "stream",
     "text": [
      " 17%|████████████████████████▉                                                                                                                        | 502/2912 [00:55<01:57, 20.56it/s]"
     ]
    },
    {
     "name": "stdout",
     "output_type": "stream",
     "text": [
      "Processed region=500 - (60, 17) for length 79 with len(scores)=79079\n",
      "************************\n",
      "There are 204156 combinations\n",
      "Processed region=501 - (60, 21) for length 108 with len(scores)=204156\n",
      "************************\n",
      "There are 467180 combinations\n",
      "Processed region=502 - (60, 25) for length 142 with len(scores)=467180\n",
      "************************\n",
      "There are 125580 combinations\n",
      "Processed region=503 - (60, 29) for length 92 with len(scores)=125580\n",
      "************************\n",
      "There are 1179616 combinations\n"
     ]
    },
    {
     "name": "stderr",
     "output_type": "stream",
     "text": [
      " 17%|█████████████████████████▏                                                                                                                       | 507/2912 [00:56<04:04,  9.83it/s]"
     ]
    },
    {
     "name": "stdout",
     "output_type": "stream",
     "text": [
      "Processed region=504 - (60, 33) for length 193 with len(scores)=1179616\n",
      "************************\n",
      "There are 273819 combinations\n",
      "Processed region=505 - (60, 37) for length 119 with len(scores)=273819\n",
      "************************\n",
      "There are 129766 combinations\n",
      "Processed region=506 - (60, 41) for length 93 with len(scores)=129766\n",
      "************************\n",
      "There are 400995 combinations\n"
     ]
    },
    {
     "name": "stderr",
     "output_type": "stream",
     "text": [
      " 17%|█████████████████████████▎                                                                                                                       | 509/2912 [00:56<04:22,  9.15it/s]"
     ]
    },
    {
     "name": "stdout",
     "output_type": "stream",
     "text": [
      "Processed region=507 - (60, 45) for length 135 with len(scores)=400995\n",
      "************************\n",
      "There are 457310 combinations\n",
      "Processed region=508 - (60, 49) for length 141 with len(scores)=457310\n",
      "************************\n",
      "There are 410040 combinations\n"
     ]
    },
    {
     "name": "stderr",
     "output_type": "stream",
     "text": [
      " 18%|█████████████████████████▍                                                                                                                       | 511/2912 [00:56<04:31,  8.85it/s]"
     ]
    },
    {
     "name": "stdout",
     "output_type": "stream",
     "text": [
      "Processed region=509 - (60, 53) for length 136 with len(scores)=410040\n",
      "************************\n",
      "There are 467180 combinations\n",
      "Processed region=510 - (60, 57) for length 142 with len(scores)=467180\n",
      "************************\n",
      "There are 253460 combinations\n"
     ]
    },
    {
     "name": "stderr",
     "output_type": "stream",
     "text": [
      " 18%|█████████████████████████▊                                                                                                                       | 518/2912 [00:57<02:36, 15.27it/s]"
     ]
    },
    {
     "name": "stdout",
     "output_type": "stream",
     "text": [
      "Processed region=511 - (60, 61) for length 116 with len(scores)=253460\n",
      "************************\n",
      "There are 24804 combinations\n",
      "Processed region=512 - (64, -63) for length 54 with len(scores)=24804\n",
      "************************\n",
      "There are 95284 combinations\n",
      "Processed region=513 - (64, -59) for length 84 with len(scores)=95284\n",
      "************************\n",
      "There are 45760 combinations\n",
      "Processed region=514 - (64, -55) for length 66 with len(scores)=45760\n",
      "************************\n",
      "There are 85320 combinations\n",
      "Processed region=515 - (64, -51) for length 81 with len(scores)=85320\n",
      "************************\n",
      "There are 125580 combinations\n",
      "Processed region=516 - (64, -47) for length 92 with len(scores)=125580\n",
      "************************\n",
      "There are 134044 combinations\n",
      "Processed region=517 - (64, -43) for length 94 with len(scores)=134044\n",
      "************************\n",
      "There are 102340 combinations\n"
     ]
    },
    {
     "name": "stderr",
     "output_type": "stream",
     "text": [
      " 18%|█████████████████████████▉                                                                                                                       | 521/2912 [00:57<02:15, 17.69it/s]"
     ]
    },
    {
     "name": "stdout",
     "output_type": "stream",
     "text": [
      "Processed region=518 - (64, -39) for length 86 with len(scores)=102340\n",
      "************************\n",
      "There are 113564 combinations\n",
      "Processed region=519 - (64, -35) for length 89 with len(scores)=113564\n",
      "************************\n",
      "There are 102340 combinations\n",
      "Processed region=520 - (64, -31) for length 86 with len(scores)=102340\n",
      "************************\n",
      "There are 134044 combinations\n",
      "Processed region=521 - (64, -27) for length 94 with len(scores)=134044\n",
      "************************\n",
      "There are 198485 combinations\n",
      "Processed region=522 - (64, -23) for length 107 with len(scores)=198485\n",
      "************************\n"
     ]
    },
    {
     "name": "stderr",
     "output_type": "stream",
     "text": [
      " 18%|██████████████████████████                                                                                                                       | 524/2912 [00:57<02:39, 14.98it/s]"
     ]
    },
    {
     "name": "stdout",
     "output_type": "stream",
     "text": [
      "There are 227920 combinations\n",
      "Processed region=523 - (64, -19) for length 112 with len(scores)=227920\n",
      "************************\n",
      "There are 419220 combinations\n"
     ]
    },
    {
     "name": "stderr",
     "output_type": "stream",
     "text": [
      " 18%|██████████████████████████▏                                                                                                                      | 526/2912 [00:57<02:48, 14.18it/s]"
     ]
    },
    {
     "name": "stdout",
     "output_type": "stream",
     "text": [
      "Processed region=524 - (64, -15) for length 137 with len(scores)=419220\n",
      "************************\n",
      "There are 204156 combinations\n",
      "Processed region=525 - (64, -11) for length 108 with len(scores)=204156\n",
      "************************\n",
      "There are 295240 combinations\n",
      "Processed region=526 - (64, -7) for length 122 with len(scores)=295240\n",
      "************************\n"
     ]
    },
    {
     "name": "stderr",
     "output_type": "stream",
     "text": [
      " 18%|██████████████████████████▍                                                                                                                      | 531/2912 [00:58<02:41, 14.74it/s]"
     ]
    },
    {
     "name": "stdout",
     "output_type": "stream",
     "text": [
      "There are 428536 combinations\n",
      "Processed region=527 - (64, -3) for length 138 with len(scores)=428536\n",
      "************************\n",
      "There are 204156 combinations\n",
      "Processed region=528 - (64, 1) for length 108 with len(scores)=204156\n",
      "************************\n",
      "There are 134044 combinations\n",
      "Processed region=529 - (64, 5) for length 94 with len(scores)=134044\n",
      "************************\n",
      "There are 98770 combinations\n",
      "Processed region=530 - (64, 9) for length 85 with len(scores)=98770\n",
      "************************\n",
      "There are 32509 combinations\n",
      "Processed region=531 - (64, 13) for length 59 with len(scores)=32509\n",
      "************************\n"
     ]
    },
    {
     "name": "stderr",
     "output_type": "stream",
     "text": [
      " 18%|██████████████████████████▋                                                                                                                      | 536/2912 [00:58<02:10, 18.25it/s]"
     ]
    },
    {
     "name": "stdout",
     "output_type": "stream",
     "text": [
      "There are 85320 combinations\n",
      "Processed region=532 - (64, 17) for length 81 with len(scores)=85320\n",
      "************************\n",
      "There are 95284 combinations\n",
      "Processed region=533 - (64, 21) for length 84 with len(scores)=95284\n",
      "************************\n",
      "There are 147440 combinations\n",
      "Processed region=534 - (64, 25) for length 97 with len(scores)=147440\n",
      "************************\n",
      "There are 410040 combinations\n",
      "Processed region=535 - (64, 29) for length 136 with len(scores)=410040\n",
      "************************\n",
      "There are 735130 combinations\n",
      "Processed region=536 - (64, 33) for length 165 with len(scores)=735130\n",
      "************************\n",
      "There are 102340 combinations\n",
      "Processed region=537 - (64, 37) for length 86 with len(scores)=102340\n",
      "************************\n",
      "There are 266916 combinations\n"
     ]
    },
    {
     "name": "stderr",
     "output_type": "stream",
     "text": [
      " 19%|██████████████████████████▊                                                                                                                      | 539/2912 [00:58<02:35, 15.28it/s]"
     ]
    },
    {
     "name": "stdout",
     "output_type": "stream",
     "text": [
      "Processed region=538 - (64, 41) for length 118 with len(scores)=266916\n",
      "************************\n",
      "There are 1293699 combinations\n",
      "Processed region=539 - (64, 45) for length 199 with len(scores)=1293699\n",
      "************************\n",
      "There are 695520 combinations\n"
     ]
    },
    {
     "name": "stderr",
     "output_type": "stream",
     "text": [
      " 19%|███████████████████████████▏                                                                                                                     | 545/2912 [00:59<03:08, 12.56it/s]"
     ]
    },
    {
     "name": "stdout",
     "output_type": "stream",
     "text": [
      "Processed region=540 - (64, 49) for length 162 with len(scores)=695520\n",
      "************************\n",
      "There are 45760 combinations\n",
      "Processed region=541 - (64, 53) for length 66 with len(scores)=45760\n",
      "************************\n",
      "There are 176851 combinations\n",
      "Processed region=542 - (64, 57) for length 103 with len(scores)=176851\n",
      "************************\n",
      "There are 134044 combinations\n",
      "Processed region=543 - (64, 61) for length 94 with len(scores)=134044\n",
      "************************\n",
      "There are 26235 combinations\n",
      "Processed region=544 - (68, -63) for length 55 with len(scores)=26235\n",
      "************************\n",
      "There are 59640 combinations\n",
      "Processed region=545 - (68, -59) for length 72 with len(scores)=59640\n",
      "************************\n",
      "There are 52394 combinations\n",
      "Processed region=546 - (68, -55) for length 69 with len(scores)=52394\n",
      "************************\n",
      "There are 47905 combinations\n",
      "Processed region=547 - (68, -51) for length 67 with len(scores)=47905\n",
      "************************\n",
      "There are 43680 combinations\n",
      "Processed region=548 - (68, -47) for length 65 with len(scores)=43680\n",
      "************************\n",
      "There are 142880 combinations\n"
     ]
    },
    {
     "name": "stderr",
     "output_type": "stream",
     "text": [
      " 19%|███████████████████████████▌                                                                                                                     | 553/2912 [00:59<02:06, 18.62it/s]"
     ]
    },
    {
     "name": "stdout",
     "output_type": "stream",
     "text": [
      "Processed region=549 - (68, -43) for length 96 with len(scores)=142880\n",
      "************************\n",
      "There are 166650 combinations\n",
      "Processed region=550 - (68, -39) for length 101 with len(scores)=166650\n",
      "************************\n",
      "There are 156849 combinations\n",
      "Processed region=551 - (68, -35) for length 99 with len(scores)=156849\n",
      "************************\n",
      "There are 142880 combinations\n",
      "Processed region=552 - (68, -31) for length 96 with len(scores)=142880\n",
      "************************\n",
      "There are 246905 combinations\n",
      "Processed region=553 - (68, -27) for length 115 with len(scores)=246905\n",
      "************************\n"
     ]
    },
    {
     "name": "stderr",
     "output_type": "stream",
     "text": [
      " 19%|███████████████████████████▋                                                                                                                     | 556/2912 [00:59<02:25, 16.16it/s]"
     ]
    },
    {
     "name": "stdout",
     "output_type": "stream",
     "text": [
      "There are 260130 combinations\n",
      "Processed region=554 - (68, -23) for length 117 with len(scores)=260130\n",
      "************************\n",
      "There are 428536 combinations\n",
      "Processed region=555 - (68, -19) for length 138 with len(scores)=428536\n",
      "************************\n",
      "There are 52394 combinations\n",
      "Processed region=556 - (68, -15) for length 69 with len(scores)=52394\n",
      "************************\n",
      "There are 497640 combinations\n"
     ]
    },
    {
     "name": "stderr",
     "output_type": "stream",
     "text": [
      " 19%|███████████████████████████▊                                                                                                                     | 559/2912 [01:00<03:33, 11.01it/s]"
     ]
    },
    {
     "name": "stdout",
     "output_type": "stream",
     "text": [
      "Processed region=557 - (68, -11) for length 145 with len(scores)=497640\n",
      "************************\n",
      "There are 529396 combinations\n",
      "Processed region=558 - (68, -7) for length 148 with len(scores)=529396\n",
      "************************\n",
      "There are 657359 combinations\n",
      "Processed region=559 - (68, -3) for length 159 with len(scores)=657359\n",
      "************************\n",
      "There are 410040 combinations\n"
     ]
    },
    {
     "name": "stderr",
     "output_type": "stream",
     "text": [
      " 19%|███████████████████████████▉                                                                                                                     | 561/2912 [01:00<04:03,  9.66it/s]"
     ]
    },
    {
     "name": "stdout",
     "output_type": "stream",
     "text": [
      "Processed region=560 - (68, 1) for length 136 with len(scores)=410040\n",
      "************************\n",
      "There are 302621 combinations\n",
      "Processed region=561 - (68, 5) for length 123 with len(scores)=302621\n",
      "************************\n",
      "There are 253460 combinations\n"
     ]
    },
    {
     "name": "stderr",
     "output_type": "stream",
     "text": [
      " 19%|████████████████████████████▏                                                                                                                    | 566/2912 [01:00<03:18, 11.79it/s]"
     ]
    },
    {
     "name": "stdout",
     "output_type": "stream",
     "text": [
      "Processed region=562 - (68, 9) for length 116 with len(scores)=253460\n",
      "************************\n",
      "There are 43680 combinations\n",
      "Processed region=563 - (68, 13) for length 65 with len(scores)=43680\n",
      "************************\n",
      "There are 109736 combinations\n",
      "Processed region=564 - (68, 17) for length 88 with len(scores)=109736\n",
      "************************\n",
      "There are 227920 combinations\n",
      "Processed region=565 - (68, 21) for length 112 with len(scores)=227920\n",
      "************************\n",
      "There are 1140 combinations\n"
     ]
    },
    {
     "name": "stderr",
     "output_type": "stream",
     "text": [
      " 20%|████████████████████████████▎                                                                                                                    | 568/2912 [01:01<03:06, 12.59it/s]"
     ]
    },
    {
     "name": "stdout",
     "output_type": "stream",
     "text": [
      "Processed region=566 - (68, 25) for length 20 with len(scores)=1140\n",
      "************************\n",
      "There are 142880 combinations\n",
      "Processed region=567 - (68, 29) for length 96 with len(scores)=142880\n",
      "************************\n",
      "There are 113564 combinations\n",
      "Processed region=568 - (68, 33) for length 89 with len(scores)=113564\n",
      "************************\n",
      "There are 105995 combinations\n",
      "Processed region=569 - (68, 37) for length 87 with len(scores)=105995\n",
      "************************\n",
      "There are 632710 combinations\n"
     ]
    },
    {
     "name": "stderr",
     "output_type": "stream",
     "text": [
      " 20%|████████████████████████████▍                                                                                                                    | 571/2912 [01:01<03:07, 12.47it/s]"
     ]
    },
    {
     "name": "stdout",
     "output_type": "stream",
     "text": [
      "Processed region=570 - (68, 41) for length 157 with len(scores)=632710\n",
      "************************\n",
      "There are 134044 combinations\n",
      "Processed region=571 - (68, 45) for length 94 with len(scores)=134044\n",
      "************************\n",
      "There are 67525 combinations\n",
      "Processed region=572 - (68, 49) for length 75 with len(scores)=67525\n",
      "************************\n",
      "There are 98770 combinations\n",
      "Processed region=573 - (68, 53) for length 85 with len(scores)=98770\n",
      "************************\n",
      "There are 657359 combinations\n"
     ]
    },
    {
     "name": "stderr",
     "output_type": "stream",
     "text": [
      " 20%|████████████████████████████▊                                                                                                                    | 579/2912 [01:01<02:11, 17.80it/s]"
     ]
    },
    {
     "name": "stdout",
     "output_type": "stream",
     "text": [
      "Processed region=574 - (68, 57) for length 159 with len(scores)=657359\n",
      "************************\n",
      "There are 156849 combinations\n",
      "Processed region=575 - (68, 61) for length 99 with len(scores)=156849\n",
      "************************\n",
      "There are 27720 combinations\n",
      "Processed region=576 - (72, -63) for length 56 with len(scores)=27720\n",
      "************************\n",
      "There are 50116 combinations\n",
      "Processed region=577 - (72, -59) for length 68 with len(scores)=50116\n",
      "************************\n",
      "There are 82160 combinations\n",
      "Processed region=578 - (72, -55) for length 80 with len(scores)=82160\n",
      "************************\n",
      "There are 67525 combinations\n",
      "Processed region=579 - (72, -51) for length 75 with len(scores)=67525\n",
      "************************\n",
      "There are 91881 combinations\n",
      "Processed region=580 - (72, -47) for length 83 with len(scores)=91881\n",
      "************************\n",
      "There are 215820 combinations\n"
     ]
    },
    {
     "name": "stderr",
     "output_type": "stream",
     "text": [
      " 20%|█████████████████████████████▏                                                                                                                   | 585/2912 [01:01<01:59, 19.41it/s]"
     ]
    },
    {
     "name": "stdout",
     "output_type": "stream",
     "text": [
      "Processed region=581 - (72, -43) for length 110 with len(scores)=215820\n",
      "************************\n",
      "There are 98770 combinations\n",
      "Processed region=582 - (72, -39) for length 85 with len(scores)=98770\n",
      "************************\n",
      "There are 142880 combinations\n",
      "Processed region=583 - (72, -35) for length 96 with len(scores)=142880\n",
      "************************\n",
      "There are 227920 combinations\n",
      "Processed region=584 - (72, -31) for length 112 with len(scores)=227920\n",
      "************************\n",
      "There are 117480 combinations\n",
      "Processed region=585 - (72, -27) for length 90 with len(scores)=117480\n",
      "************************\n",
      "There are 374660 combinations\n"
     ]
    },
    {
     "name": "stderr",
     "output_type": "stream",
     "text": [
      " 20%|█████████████████████████████▎                                                                                                                   | 588/2912 [01:02<02:17, 16.94it/s]"
     ]
    },
    {
     "name": "stdout",
     "output_type": "stream",
     "text": [
      "Processed region=586 - (72, -23) for length 132 with len(scores)=374660\n",
      "************************\n",
      "There are 400995 combinations\n",
      "Processed region=587 - (72, -19) for length 135 with len(scores)=400995\n",
      "************************\n",
      "There are 357760 combinations\n",
      "Processed region=588 - (72, -15) for length 130 with len(scores)=357760\n",
      "************************\n"
     ]
    },
    {
     "name": "stderr",
     "output_type": "stream",
     "text": [
      " 20%|█████████████████████████████▍                                                                                                                   | 590/2912 [01:02<02:43, 14.16it/s]"
     ]
    },
    {
     "name": "stdout",
     "output_type": "stream",
     "text": [
      "There are 518665 combinations\n",
      "Processed region=589 - (72, -11) for length 147 with len(scores)=518665\n",
      "************************\n",
      "There are 804440 combinations\n",
      "Processed region=590 - (72, -7) for length 170 with len(scores)=804440\n",
      "************************\n",
      "There are 988260 combinations\n"
     ]
    },
    {
     "name": "stderr",
     "output_type": "stream",
     "text": [
      " 20%|█████████████████████████████▍                                                                                                                   | 592/2912 [01:02<04:20,  8.90it/s]"
     ]
    },
    {
     "name": "stdout",
     "output_type": "stream",
     "text": [
      "Processed region=591 - (72, -3) for length 182 with len(scores)=988260\n",
      "************************\n",
      "There are 1198144 combinations\n",
      "Processed region=592 - (72, 1) for length 194 with len(scores)=1198144\n",
      "************************\n",
      "There are 1478256 combinations\n"
     ]
    },
    {
     "name": "stderr",
     "output_type": "stream",
     "text": [
      " 20%|█████████████████████████████▋                                                                                                                   | 595/2912 [01:04<07:33,  5.11it/s]"
     ]
    },
    {
     "name": "stdout",
     "output_type": "stream",
     "text": [
      "Processed region=593 - (72, 5) for length 208 with len(scores)=1478256\n",
      "************************\n",
      "There are 457310 combinations\n",
      "Processed region=594 - (72, 9) for length 141 with len(scores)=457310\n",
      "************************\n",
      "There are 161700 combinations\n",
      "Processed region=595 - (72, 13) for length 100 with len(scores)=161700\n",
      "************************\n",
      "There are 171700 combinations\n"
     ]
    },
    {
     "name": "stderr",
     "output_type": "stream",
     "text": [
      " 21%|█████████████████████████████▉                                                                                                                   | 602/2912 [01:04<03:28, 11.09it/s]"
     ]
    },
    {
     "name": "stdout",
     "output_type": "stream",
     "text": [
      "Processed region=596 - (72, 17) for length 102 with len(scores)=171700\n",
      "************************\n",
      "There are 253460 combinations\n",
      "Processed region=597 - (72, 21) for length 116 with len(scores)=253460\n",
      "************************\n",
      "There are 24804 combinations\n",
      "Processed region=598 - (72, 25) for length 54 with len(scores)=24804\n",
      "************************\n",
      "There are 85320 combinations\n",
      "Processed region=599 - (72, 29) for length 81 with len(scores)=85320\n",
      "************************\n",
      "There are 85320 combinations\n",
      "Processed region=600 - (72, 33) for length 81 with len(scores)=85320\n",
      "************************\n",
      "There are 198485 combinations\n",
      "Processed region=601 - (72, 37) for length 107 with len(scores)=198485\n",
      "************************\n",
      "There are 1848224 combinations\n"
     ]
    },
    {
     "name": "stderr",
     "output_type": "stream",
     "text": [
      " 21%|██████████████████████████████                                                                                                                   | 604/2912 [01:04<05:50,  6.59it/s]"
     ]
    },
    {
     "name": "stdout",
     "output_type": "stream",
     "text": [
      "Processed region=602 - (72, 41) for length 224 with len(scores)=1848224\n",
      "************************\n",
      "There are 374660 combinations\n",
      "Processed region=603 - (72, 45) for length 132 with len(scores)=374660\n",
      "************************\n",
      "There are 333375 combinations\n"
     ]
    },
    {
     "name": "stderr",
     "output_type": "stream",
     "text": [
      " 21%|██████████████████████████████▎                                                                                                                  | 610/2912 [01:05<03:34, 10.75it/s]"
     ]
    },
    {
     "name": "stdout",
     "output_type": "stream",
     "text": [
      "Processed region=604 - (72, 49) for length 127 with len(scores)=333375\n",
      "************************\n",
      "There are 240464 combinations\n",
      "Processed region=605 - (72, 53) for length 114 with len(scores)=240464\n",
      "************************\n",
      "There are 57155 combinations\n",
      "Processed region=606 - (72, 57) for length 71 with len(scores)=57155\n",
      "************************\n",
      "There are 147440 combinations\n",
      "Processed region=607 - (72, 61) for length 97 with len(scores)=147440\n",
      "************************\n",
      "There are 52394 combinations\n",
      "Processed region=608 - (76, -63) for length 69 with len(scores)=52394\n",
      "************************\n",
      "There are 70300 combinations\n",
      "Processed region=609 - (76, -59) for length 76 with len(scores)=70300\n",
      "************************\n",
      "There are 138415 combinations\n"
     ]
    },
    {
     "name": "stderr",
     "output_type": "stream",
     "text": [
      " 21%|██████████████████████████████▌                                                                                                                  | 614/2912 [01:05<02:51, 13.41it/s]"
     ]
    },
    {
     "name": "stdout",
     "output_type": "stream",
     "text": [
      "Processed region=610 - (76, -55) for length 95 with len(scores)=138415\n",
      "************************\n",
      "There are 88560 combinations\n",
      "Processed region=611 - (76, -51) for length 82 with len(scores)=88560\n",
      "************************\n",
      "There are 85320 combinations\n",
      "Processed region=612 - (76, -47) for length 81 with len(scores)=85320\n",
      "************************\n",
      "There are 317750 combinations\n",
      "Processed region=613 - (76, -43) for length 125 with len(scores)=317750\n",
      "************************\n",
      "There are 253460 combinations\n",
      "Processed region=614 - (76, -39) for length 116 with len(scores)=253460\n",
      "************************\n"
     ]
    },
    {
     "name": "stderr",
     "output_type": "stream",
     "text": [
      " 21%|██████████████████████████████▋                                                                                                                  | 617/2912 [01:05<03:07, 12.26it/s]"
     ]
    },
    {
     "name": "stdout",
     "output_type": "stream",
     "text": [
      "There are 400995 combinations\n",
      "Processed region=615 - (76, -35) for length 135 with len(scores)=400995\n",
      "************************\n",
      "There are 437989 combinations\n",
      "Processed region=616 - (76, -31) for length 139 with len(scores)=437989\n",
      "************************\n",
      "There are 518665 combinations\n",
      "Processed region=617 - (76, -27) for length 147 with len(scores)=518665\n",
      "************************\n",
      "There are 804440 combinations\n"
     ]
    },
    {
     "name": "stderr",
     "output_type": "stream",
     "text": [
      " 21%|██████████████████████████████▊                                                                                                                  | 619/2912 [01:06<03:58,  9.60it/s]"
     ]
    },
    {
     "name": "stdout",
     "output_type": "stream",
     "text": [
      "Processed region=618 - (76, -23) for length 170 with len(scores)=804440\n",
      "************************\n",
      "There are 487344 combinations\n",
      "Processed region=619 - (76, -19) for length 144 with len(scores)=487344\n",
      "************************\n"
     ]
    },
    {
     "name": "stderr",
     "output_type": "stream",
     "text": [
      " 21%|██████████████████████████████▉                                                                                                                  | 621/2912 [01:06<04:37,  8.27it/s]"
     ]
    },
    {
     "name": "stdout",
     "output_type": "stream",
     "text": [
      "There are 540274 combinations\n",
      "Processed region=620 - (76, -15) for length 149 with len(scores)=540274\n",
      "************************\n",
      "There are 971970 combinations\n",
      "Processed region=621 - (76, -11) for length 181 with len(scores)=971970\n",
      "************************\n",
      "There are 939929 combinations\n"
     ]
    },
    {
     "name": "stderr",
     "output_type": "stream",
     "text": [
      " 21%|███████████████████████████████                                                                                                                  | 623/2912 [01:07<07:17,  5.23it/s]"
     ]
    },
    {
     "name": "stdout",
     "output_type": "stream",
     "text": [
      "Processed region=622 - (76, -7) for length 179 with len(scores)=939929\n",
      "************************\n",
      "There are 1656360 combinations\n"
     ]
    },
    {
     "name": "stderr",
     "output_type": "stream",
     "text": [
      " 21%|███████████████████████████████                                                                                                                  | 624/2912 [01:07<09:29,  4.02it/s]"
     ]
    },
    {
     "name": "stdout",
     "output_type": "stream",
     "text": [
      "Processed region=623 - (76, -3) for length 216 with len(scores)=1656360\n",
      "************************\n",
      "There are 1521520 combinations\n"
     ]
    },
    {
     "name": "stderr",
     "output_type": "stream",
     "text": [
      " 21%|███████████████████████████████                                                                                                                  | 625/2912 [01:08<11:00,  3.46it/s]"
     ]
    },
    {
     "name": "stdout",
     "output_type": "stream",
     "text": [
      "Processed region=624 - (76, 1) for length 210 with len(scores)=1521520\n",
      "************************\n",
      "There are 2135445 combinations\n"
     ]
    },
    {
     "name": "stderr",
     "output_type": "stream",
     "text": [
      " 21%|███████████████████████████████▏                                                                                                                 | 626/2912 [01:08<13:39,  2.79it/s]"
     ]
    },
    {
     "name": "stdout",
     "output_type": "stream",
     "text": [
      "Processed region=625 - (76, 5) for length 235 with len(scores)=2135445\n",
      "************************\n",
      "There are 833340 combinations\n"
     ]
    },
    {
     "name": "stderr",
     "output_type": "stream",
     "text": [
      " 22%|███████████████████████████████▎                                                                                                                 | 628/2912 [01:09<12:30,  3.04it/s]"
     ]
    },
    {
     "name": "stdout",
     "output_type": "stream",
     "text": [
      "Processed region=626 - (76, 9) for length 172 with len(scores)=833340\n",
      "************************\n",
      "There are 682640 combinations\n",
      "Processed region=627 - (76, 13) for length 161 with len(scores)=682640\n",
      "************************\n"
     ]
    },
    {
     "name": "stderr",
     "output_type": "stream",
     "text": [
      " 22%|███████████████████████████████▎                                                                                                                 | 629/2912 [01:09<11:34,  3.28it/s]"
     ]
    },
    {
     "name": "stdout",
     "output_type": "stream",
     "text": [
      "There are 669920 combinations\n",
      "Processed region=628 - (76, 17) for length 160 with len(scores)=669920\n",
      "************************\n"
     ]
    },
    {
     "name": "stderr",
     "output_type": "stream",
     "text": [
      " 22%|███████████████████████████████▎                                                                                                                 | 630/2912 [01:10<10:31,  3.61it/s]"
     ]
    },
    {
     "name": "stdout",
     "output_type": "stream",
     "text": [
      "There are 748660 combinations\n",
      "Processed region=629 - (76, 21) for length 166 with len(scores)=748660\n",
      "************************\n",
      "There are 176851 combinations\n",
      "Processed region=630 - (76, 25) for length 103 with len(scores)=176851\n",
      "************************\n",
      "There are 1373701 combinations\n"
     ]
    },
    {
     "name": "stderr",
     "output_type": "stream",
     "text": [
      " 22%|███████████████████████████████▍                                                                                                                 | 632/2912 [01:10<09:56,  3.82it/s]"
     ]
    },
    {
     "name": "stdout",
     "output_type": "stream",
     "text": [
      "Processed region=631 - (76, 29) for length 203 with len(scores)=1373701\n",
      "************************\n",
      "There are 1587986 combinations\n"
     ]
    },
    {
     "name": "stderr",
     "output_type": "stream",
     "text": [
      " 22%|███████████████████████████████▌                                                                                                                 | 633/2912 [01:10<11:05,  3.42it/s]"
     ]
    },
    {
     "name": "stdout",
     "output_type": "stream",
     "text": [
      "Processed region=632 - (76, 33) for length 213 with len(scores)=1587986\n",
      "************************\n",
      "There are 2246839 combinations\n"
     ]
    },
    {
     "name": "stderr",
     "output_type": "stream",
     "text": [
      " 22%|███████████████████████████████▌                                                                                                                 | 634/2912 [01:11<14:27,  2.63it/s]"
     ]
    },
    {
     "name": "stdout",
     "output_type": "stream",
     "text": [
      "Processed region=633 - (76, 37) for length 239 with len(scores)=2246839\n",
      "************************\n",
      "There are 3244140 combinations\n"
     ]
    },
    {
     "name": "stderr",
     "output_type": "stream",
     "text": [
      " 22%|███████████████████████████████▌                                                                                                                 | 635/2912 [01:13<27:16,  1.39it/s]"
     ]
    },
    {
     "name": "stdout",
     "output_type": "stream",
     "text": [
      "Processed region=634 - (76, 41) for length 270 with len(scores)=3244140\n",
      "************************\n",
      "There are 1179616 combinations\n"
     ]
    },
    {
     "name": "stderr",
     "output_type": "stream",
     "text": [
      " 22%|███████████████████████████████▋                                                                                                                 | 636/2912 [01:13<22:59,  1.65it/s]"
     ]
    },
    {
     "name": "stdout",
     "output_type": "stream",
     "text": [
      "Processed region=635 - (76, 45) for length 193 with len(scores)=1179616\n",
      "************************\n",
      "There are 508080 combinations\n"
     ]
    },
    {
     "name": "stderr",
     "output_type": "stream",
     "text": [
      " 22%|███████████████████████████████▊                                                                                                                 | 639/2912 [01:13<11:31,  3.29it/s]"
     ]
    },
    {
     "name": "stdout",
     "output_type": "stream",
     "text": [
      "Processed region=636 - (76, 49) for length 146 with len(scores)=508080\n",
      "************************\n",
      "There are 182104 combinations\n",
      "Processed region=637 - (76, 53) for length 104 with len(scores)=182104\n",
      "************************\n",
      "There are 227920 combinations\n",
      "Processed region=638 - (76, 57) for length 112 with len(scores)=227920\n",
      "************************\n",
      "There are 176851 combinations\n",
      "Processed region=639 - (76, 61) for length 103 with len(scores)=176851\n",
      "************************\n",
      "There are 54740 combinations\n"
     ]
    },
    {
     "name": "stderr",
     "output_type": "stream",
     "text": [
      " 22%|████████████████████████████████                                                                                                                 | 644/2912 [01:14<05:10,  7.31it/s]"
     ]
    },
    {
     "name": "stdout",
     "output_type": "stream",
     "text": [
      "Processed region=640 - (80, -63) for length 70 with len(scores)=54740\n",
      "************************\n",
      "There are 113564 combinations\n",
      "Processed region=641 - (80, -59) for length 89 with len(scores)=113564\n",
      "************************\n",
      "There are 117480 combinations\n",
      "Processed region=642 - (80, -55) for length 90 with len(scores)=117480\n",
      "************************\n",
      "There are 156849 combinations\n",
      "Processed region=643 - (80, -51) for length 99 with len(scores)=156849\n",
      "************************\n",
      "There are 234136 combinations\n"
     ]
    },
    {
     "name": "stderr",
     "output_type": "stream",
     "text": [
      " 22%|████████████████████████████████▎                                                                                                                | 648/2912 [01:14<03:44, 10.09it/s]"
     ]
    },
    {
     "name": "stdout",
     "output_type": "stream",
     "text": [
      "Processed region=644 - (80, -47) for length 113 with len(scores)=234136\n",
      "************************\n",
      "There are 187460 combinations\n",
      "Processed region=645 - (80, -43) for length 105 with len(scores)=187460\n",
      "************************\n",
      "There are 156849 combinations\n",
      "Processed region=646 - (80, -39) for length 99 with len(scores)=156849\n",
      "************************\n",
      "There are 374660 combinations\n",
      "Processed region=647 - (80, -35) for length 132 with len(scores)=374660\n",
      "************************\n",
      "There are 551300 combinations\n",
      "Processed region=648 - (80, -31) for length 150 with len(scores)=551300\n",
      "************************\n"
     ]
    },
    {
     "name": "stderr",
     "output_type": "stream",
     "text": [
      " 22%|████████████████████████████████▎                                                                                                                | 650/2912 [01:14<04:40,  8.07it/s]"
     ]
    },
    {
     "name": "stdout",
     "output_type": "stream",
     "text": [
      "There are 529396 combinations\n",
      "Processed region=649 - (80, -27) for length 148 with len(scores)=529396\n",
      "************************\n",
      "There are 776216 combinations\n",
      "Processed region=650 - (80, -23) for length 168 with len(scores)=776216\n",
      "************************\n",
      "There are 818805 combinations\n",
      "Processed region=651 - (80, -19) for length 171 with len(scores)=818805\n"
     ]
    },
    {
     "name": "stderr",
     "output_type": "stream",
     "text": [
      " 22%|████████████████████████████████▌                                                                                                                | 653/2912 [01:15<05:40,  6.63it/s]"
     ]
    },
    {
     "name": "stdout",
     "output_type": "stream",
     "text": [
      "************************\n",
      "There are 682640 combinations\n",
      "Processed region=652 - (80, -15) for length 161 with len(scores)=682640\n",
      "************************\n",
      "There are 657359 combinations\n"
     ]
    },
    {
     "name": "stderr",
     "output_type": "stream",
     "text": [
      " 22%|████████████████████████████████▌                                                                                                                | 654/2912 [01:15<05:45,  6.53it/s]"
     ]
    },
    {
     "name": "stdout",
     "output_type": "stream",
     "text": [
      "Processed region=653 - (80, -11) for length 159 with len(scores)=657359\n",
      "************************\n",
      "There are 1216865 combinations\n"
     ]
    },
    {
     "name": "stderr",
     "output_type": "stream",
     "text": [
      " 22%|████████████████████████████████▌                                                                                                                | 655/2912 [01:16<09:36,  3.92it/s]"
     ]
    },
    {
     "name": "stdout",
     "output_type": "stream",
     "text": [
      "Processed region=654 - (80, -7) for length 195 with len(scores)=1216865\n",
      "************************\n",
      "There are 1435820 combinations\n"
     ]
    },
    {
     "name": "stderr",
     "output_type": "stream",
     "text": [
      " 23%|████████████████████████████████▋                                                                                                                | 656/2912 [01:16<10:43,  3.51it/s]"
     ]
    },
    {
     "name": "stdout",
     "output_type": "stream",
     "text": [
      "Processed region=655 - (80, -3) for length 206 with len(scores)=1435820\n",
      "************************\n",
      "There are 4235315 combinations\n"
     ]
    },
    {
     "name": "stderr",
     "output_type": "stream",
     "text": [
      " 23%|████████████████████████████████▋                                                                                                                | 657/2912 [01:17<22:09,  1.70it/s]"
     ]
    },
    {
     "name": "stdout",
     "output_type": "stream",
     "text": [
      "Processed region=656 - (80, 1) for length 295 with len(scores)=4235315\n",
      "************************\n",
      "There are 1235780 combinations\n"
     ]
    },
    {
     "name": "stderr",
     "output_type": "stream",
     "text": [
      " 23%|████████████████████████████████▊                                                                                                                | 659/2912 [01:18<16:07,  2.33it/s]"
     ]
    },
    {
     "name": "stdout",
     "output_type": "stream",
     "text": [
      "Processed region=657 - (80, 5) for length 196 with len(scores)=1235780\n",
      "************************\n",
      "There are 518665 combinations\n",
      "Processed region=658 - (80, 9) for length 147 with len(scores)=518665\n",
      "************************\n"
     ]
    },
    {
     "name": "stderr",
     "output_type": "stream",
     "text": [
      " 23%|████████████████████████████████▊                                                                                                                | 660/2912 [01:18<13:18,  2.82it/s]"
     ]
    },
    {
     "name": "stdout",
     "output_type": "stream",
     "text": [
      "There are 573800 combinations\n",
      "Processed region=659 - (80, 13) for length 152 with len(scores)=573800\n",
      "************************\n",
      "There are 1656360 combinations\n"
     ]
    },
    {
     "name": "stderr",
     "output_type": "stream",
     "text": [
      " 23%|█████████████████████████████████                                                                                                                | 663/2912 [01:19<08:49,  4.25it/s]"
     ]
    },
    {
     "name": "stdout",
     "output_type": "stream",
     "text": [
      "Processed region=660 - (80, 17) for length 216 with len(scores)=1656360\n",
      "************************\n",
      "There are 273819 combinations\n",
      "Processed region=661 - (80, 21) for length 119 with len(scores)=273819\n",
      "************************\n",
      "There are 91881 combinations\n",
      "Processed region=662 - (80, 25) for length 83 with len(scores)=91881\n",
      "************************\n",
      "There are 3428425 combinations\n"
     ]
    },
    {
     "name": "stderr",
     "output_type": "stream",
     "text": [
      " 23%|█████████████████████████████████                                                                                                                | 664/2912 [01:20<17:48,  2.10it/s]"
     ]
    },
    {
     "name": "stdout",
     "output_type": "stream",
     "text": [
      "Processed region=663 - (80, 29) for length 275 with len(scores)=3428425\n",
      "************************\n",
      "There are 7647059 combinations\n",
      "Processed region=664 - (80, 33) for length 359 with len(scores)=7647059\n"
     ]
    },
    {
     "name": "stderr",
     "output_type": "stream",
     "text": [
      " 23%|█████████████████████████████████                                                                                                                | 665/2912 [01:23<43:27,  1.16s/it]"
     ]
    },
    {
     "name": "stdout",
     "output_type": "stream",
     "text": [
      "************************\n",
      "There are 5668650 combinations\n"
     ]
    },
    {
     "name": "stderr",
     "output_type": "stream",
     "text": [
      " 23%|█████████████████████████████████▏                                                                                                               | 666/2912 [01:25<51:14,  1.37s/it]"
     ]
    },
    {
     "name": "stdout",
     "output_type": "stream",
     "text": [
      "Processed region=665 - (80, 37) for length 325 with len(scores)=5668650\n",
      "************************\n",
      "There are 1435820 combinations\n"
     ]
    },
    {
     "name": "stderr",
     "output_type": "stream",
     "text": [
      " 23%|█████████████████████████████████▏                                                                                                               | 667/2912 [01:25<41:12,  1.10s/it]"
     ]
    },
    {
     "name": "stdout",
     "output_type": "stream",
     "text": [
      "Processed region=666 - (80, 41) for length 206 with len(scores)=1435820\n",
      "************************\n",
      "There are 1072445 combinations\n"
     ]
    },
    {
     "name": "stderr",
     "output_type": "stream",
     "text": [
      " 23%|█████████████████████████████████▎                                                                                                               | 670/2912 [01:26<18:53,  1.98it/s]"
     ]
    },
    {
     "name": "stdout",
     "output_type": "stream",
     "text": [
      "Processed region=667 - (80, 45) for length 187 with len(scores)=1072445\n",
      "************************\n",
      "There are 317750 combinations\n",
      "Processed region=668 - (80, 49) for length 125 with len(scores)=317750\n",
      "************************\n",
      "There are 171700 combinations\n",
      "Processed region=669 - (80, 53) for length 102 with len(scores)=171700\n",
      "************************\n",
      "There are 105995 combinations\n",
      "Processed region=670 - (80, 57) for length 87 with len(scores)=105995\n",
      "************************\n"
     ]
    },
    {
     "name": "stderr",
     "output_type": "stream",
     "text": [
      " 23%|█████████████████████████████████▌                                                                                                               | 674/2912 [01:26<08:48,  4.23it/s]"
     ]
    },
    {
     "name": "stdout",
     "output_type": "stream",
     "text": [
      "There are 105995 combinations\n",
      "Processed region=671 - (80, 61) for length 87 with len(scores)=105995\n",
      "************************\n",
      "There are 70300 combinations\n",
      "Processed region=672 - (84, -63) for length 76 with len(scores)=70300\n",
      "************************\n",
      "There are 109736 combinations\n",
      "Processed region=673 - (84, -59) for length 88 with len(scores)=109736\n",
      "************************\n",
      "There are 82160 combinations\n",
      "Processed region=674 - (84, -55) for length 80 with len(scores)=82160\n",
      "************************\n",
      "There are 187460 combinations\n",
      "Processed region=675 - (84, -51) for length 105 with len(scores)=187460\n",
      "************************\n",
      "There are 227920 combinations\n"
     ]
    },
    {
     "name": "stderr",
     "output_type": "stream",
     "text": [
      " 23%|█████████████████████████████████▋                                                                                                               | 677/2912 [01:26<06:10,  6.04it/s]"
     ]
    },
    {
     "name": "stdout",
     "output_type": "stream",
     "text": [
      "Processed region=676 - (84, -47) for length 112 with len(scores)=227920\n",
      "************************\n",
      "There are 400995 combinations\n",
      "Processed region=677 - (84, -43) for length 135 with len(scores)=400995\n",
      "************************\n",
      "There are 383306 combinations\n"
     ]
    },
    {
     "name": "stderr",
     "output_type": "stream",
     "text": [
      " 23%|█████████████████████████████████▊                                                                                                               | 679/2912 [01:26<05:33,  6.70it/s]"
     ]
    },
    {
     "name": "stdout",
     "output_type": "stream",
     "text": [
      "Processed region=678 - (84, -39) for length 133 with len(scores)=383306\n",
      "************************\n",
      "There are 540274 combinations\n",
      "Processed region=679 - (84, -35) for length 149 with len(scores)=540274\n",
      "************************\n",
      "There are 287980 combinations\n"
     ]
    },
    {
     "name": "stderr",
     "output_type": "stream",
     "text": [
      " 23%|█████████████████████████████████▉                                                                                                               | 681/2912 [01:26<05:06,  7.28it/s]"
     ]
    },
    {
     "name": "stdout",
     "output_type": "stream",
     "text": [
      "Processed region=680 - (84, -31) for length 121 with len(scores)=287980\n",
      "************************\n",
      "There are 657359 combinations\n",
      "Processed region=681 - (84, -27) for length 159 with len(scores)=657359\n",
      "************************\n"
     ]
    },
    {
     "name": "stderr",
     "output_type": "stream",
     "text": [
      " 23%|██████████████████████████████████                                                                                                               | 683/2912 [01:27<05:33,  6.69it/s]"
     ]
    },
    {
     "name": "stdout",
     "output_type": "stream",
     "text": [
      "There are 776216 combinations\n",
      "Processed region=682 - (84, -23) for length 168 with len(scores)=776216\n",
      "************************\n",
      "There are 1313400 combinations\n",
      "Processed region=683 - (84, -19) for length 200 with len(scores)=1313400\n",
      "************************\n",
      "There are 939929 combinations\n"
     ]
    },
    {
     "name": "stderr",
     "output_type": "stream",
     "text": [
      " 24%|██████████████████████████████████▏                                                                                                              | 687/2912 [01:28<07:58,  4.65it/s]"
     ]
    },
    {
     "name": "stdout",
     "output_type": "stream",
     "text": [
      "Processed region=684 - (84, -15) for length 179 with len(scores)=939929\n",
      "************************\n",
      "There are 317750 combinations\n",
      "Processed region=685 - (84, -11) for length 125 with len(scores)=317750\n",
      "************************\n",
      "There are 325500 combinations\n",
      "Processed region=686 - (84, -7) for length 126 with len(scores)=325500\n",
      "************************\n"
     ]
    },
    {
     "name": "stderr",
     "output_type": "stream",
     "text": [
      " 24%|██████████████████████████████████▎                                                                                                              | 688/2912 [01:28<08:03,  4.60it/s]"
     ]
    },
    {
     "name": "stdout",
     "output_type": "stream",
     "text": [
      "There are 939929 combinations\n",
      "Processed region=687 - (84, -3) for length 179 with len(scores)=939929\n",
      "************************\n",
      "There are 1293699 combinations\n",
      "Processed region=688 - (84, 1) for length 199 with len(scores)=1293699\n",
      "************************\n"
     ]
    },
    {
     "name": "stderr",
     "output_type": "stream",
     "text": [
      " 24%|██████████████████████████████████▎                                                                                                              | 690/2912 [01:29<08:29,  4.36it/s]"
     ]
    },
    {
     "name": "stdout",
     "output_type": "stream",
     "text": [
      "There are 848046 combinations\n",
      "Processed region=689 - (84, 5) for length 173 with len(scores)=848046\n",
      "************************\n",
      "There are 2391444 combinations\n"
     ]
    },
    {
     "name": "stderr",
     "output_type": "stream",
     "text": [
      " 24%|██████████████████████████████████▍                                                                                                              | 691/2912 [01:29<12:17,  3.01it/s]"
     ]
    },
    {
     "name": "stdout",
     "output_type": "stream",
     "text": [
      "Processed region=690 - (84, 9) for length 244 with len(scores)=2391444\n",
      "************************\n",
      "There are 1198144 combinations\n"
     ]
    },
    {
     "name": "stderr",
     "output_type": "stream",
     "text": [
      " 24%|██████████████████████████████████▍                                                                                                              | 692/2912 [01:30<12:10,  3.04it/s]"
     ]
    },
    {
     "name": "stdout",
     "output_type": "stream",
     "text": [
      "Processed region=691 - (84, 13) for length 194 with len(scores)=1198144\n",
      "************************\n",
      "There are 2246839 combinations\n"
     ]
    },
    {
     "name": "stderr",
     "output_type": "stream",
     "text": [
      " 24%|██████████████████████████████████▌                                                                                                              | 693/2912 [01:30<15:21,  2.41it/s]"
     ]
    },
    {
     "name": "stdout",
     "output_type": "stream",
     "text": [
      "Processed region=692 - (84, 17) for length 239 with len(scores)=2246839\n",
      "************************\n",
      "There are 3580779 combinations\n"
     ]
    },
    {
     "name": "stderr",
     "output_type": "stream",
     "text": [
      " 24%|██████████████████████████████████▌                                                                                                              | 694/2912 [01:32<22:07,  1.67it/s]"
     ]
    },
    {
     "name": "stdout",
     "output_type": "stream",
     "text": [
      "Processed region=693 - (84, 21) for length 279 with len(scores)=3580779\n",
      "************************\n",
      "There are 3697960 combinations\n"
     ]
    },
    {
     "name": "stderr",
     "output_type": "stream",
     "text": [
      " 24%|██████████████████████████████████▌                                                                                                              | 695/2912 [01:33<26:36,  1.39it/s]"
     ]
    },
    {
     "name": "stdout",
     "output_type": "stream",
     "text": [
      "Processed region=694 - (84, 25) for length 282 with len(scores)=3697960\n",
      "************************\n",
      "There are 1333300 combinations\n"
     ]
    },
    {
     "name": "stderr",
     "output_type": "stream",
     "text": [
      " 24%|██████████████████████████████████▋                                                                                                              | 696/2912 [01:33<25:13,  1.46it/s]"
     ]
    },
    {
     "name": "stdout",
     "output_type": "stream",
     "text": [
      "Processed region=695 - (84, 29) for length 201 with len(scores)=1333300\n",
      "************************\n",
      "There are 7023974 combinations\n",
      "Processed region=696 - (84, 33) for length 349 with len(scores)=7023974\n"
     ]
    },
    {
     "name": "stderr",
     "output_type": "stream",
     "text": [
      " 24%|██████████████████████████████████▋                                                                                                              | 697/2912 [01:35<42:38,  1.16s/it]"
     ]
    },
    {
     "name": "stdout",
     "output_type": "stream",
     "text": [
      "************************\n",
      "There are 2796160 combinations\n"
     ]
    },
    {
     "name": "stderr",
     "output_type": "stream",
     "text": [
      " 24%|██████████████████████████████████▊                                                                                                              | 698/2912 [01:36<39:30,  1.07s/it]"
     ]
    },
    {
     "name": "stdout",
     "output_type": "stream",
     "text": [
      "Processed region=697 - (84, 37) for length 257 with len(scores)=2796160\n",
      "************************\n",
      "There are 924176 combinations\n",
      "Processed region=698 - (84, 41) for length 178 with len(scores)=924176\n"
     ]
    },
    {
     "name": "stderr",
     "output_type": "stream",
     "text": [
      " 24%|██████████████████████████████████▉                                                                                                              | 701/2912 [01:37<17:50,  2.07it/s]"
     ]
    },
    {
     "name": "stdout",
     "output_type": "stream",
     "text": [
      "************************\n",
      "There are 192920 combinations\n",
      "Processed region=699 - (84, 45) for length 106 with len(scores)=192920\n",
      "************************\n",
      "There are 437989 combinations\n",
      "Processed region=700 - (84, 49) for length 139 with len(scores)=437989\n",
      "************************\n",
      "There are 215820 combinations\n"
     ]
    },
    {
     "name": "stderr",
     "output_type": "stream",
     "text": [
      " 24%|███████████████████████████████████▏                                                                                                             | 706/2912 [01:37<06:52,  5.35it/s]"
     ]
    },
    {
     "name": "stdout",
     "output_type": "stream",
     "text": [
      "Processed region=701 - (84, 53) for length 110 with len(scores)=215820\n",
      "************************\n",
      "There are 129766 combinations\n",
      "Processed region=702 - (84, 57) for length 93 with len(scores)=129766\n",
      "************************\n",
      "There are 227920 combinations\n",
      "Processed region=703 - (84, 61) for length 112 with len(scores)=227920\n",
      "************************\n",
      "There are 98770 combinations\n",
      "Processed region=704 - (88, -63) for length 85 with len(scores)=98770\n",
      "************************\n",
      "There are 95284 combinations\n",
      "Processed region=705 - (88, -59) for length 84 with len(scores)=95284\n",
      "************************\n",
      "There are 215820 combinations\n",
      "Processed region=706 - (88, -55) for length 110 with len(scores)=215820\n",
      "************************\n"
     ]
    },
    {
     "name": "stderr",
     "output_type": "stream",
     "text": [
      " 24%|███████████████████████████████████▎                                                                                                             | 708/2912 [01:37<05:38,  6.52it/s]"
     ]
    },
    {
     "name": "stdout",
     "output_type": "stream",
     "text": [
      "There are 234136 combinations\n",
      "Processed region=707 - (88, -51) for length 113 with len(scores)=234136\n",
      "************************\n",
      "There are 280840 combinations\n",
      "Processed region=708 - (88, -47) for length 120 with len(scores)=280840\n",
      "************************\n",
      "There are 333375 combinations\n"
     ]
    },
    {
     "name": "stderr",
     "output_type": "stream",
     "text": [
      " 24%|███████████████████████████████████▎                                                                                                             | 710/2912 [01:37<04:57,  7.40it/s]"
     ]
    },
    {
     "name": "stdout",
     "output_type": "stream",
     "text": [
      "Processed region=709 - (88, -43) for length 127 with len(scores)=333375\n",
      "************************\n",
      "There are 392084 combinations\n",
      "Processed region=710 - (88, -39) for length 134 with len(scores)=392084\n",
      "************************\n"
     ]
    },
    {
     "name": "stderr",
     "output_type": "stream",
     "text": [
      " 24%|███████████████████████████████████▍                                                                                                             | 712/2912 [01:38<05:12,  7.03it/s]"
     ]
    },
    {
     "name": "stdout",
     "output_type": "stream",
     "text": [
      "There are 585276 combinations\n",
      "Processed region=711 - (88, -35) for length 153 with len(scores)=585276\n",
      "************************\n",
      "There are 924176 combinations\n",
      "Processed region=712 - (88, -31) for length 178 with len(scores)=924176\n",
      "************************\n",
      "There are 1543465 combinations\n"
     ]
    },
    {
     "name": "stderr",
     "output_type": "stream",
     "text": [
      " 25%|███████████████████████████████████▌                                                                                                             | 714/2912 [01:39<08:46,  4.17it/s]"
     ]
    },
    {
     "name": "stdout",
     "output_type": "stream",
     "text": [
      "Processed region=713 - (88, -27) for length 211 with len(scores)=1543465\n",
      "************************\n",
      "There are 1656360 combinations\n"
     ]
    },
    {
     "name": "stderr",
     "output_type": "stream",
     "text": [
      " 25%|███████████████████████████████████▌                                                                                                             | 715/2912 [01:39<09:59,  3.67it/s]"
     ]
    },
    {
     "name": "stdout",
     "output_type": "stream",
     "text": [
      "Processed region=714 - (88, -23) for length 216 with len(scores)=1656360\n",
      "************************\n",
      "There are 1898400 combinations\n"
     ]
    },
    {
     "name": "stderr",
     "output_type": "stream",
     "text": [
      " 25%|███████████████████████████████████▋                                                                                                             | 716/2912 [01:39<12:02,  3.04it/s]"
     ]
    },
    {
     "name": "stdout",
     "output_type": "stream",
     "text": [
      "Processed region=715 - (88, -19) for length 226 with len(scores)=1898400\n",
      "************************\n",
      "There are 955860 combinations\n"
     ]
    },
    {
     "name": "stderr",
     "output_type": "stream",
     "text": [
      " 25%|███████████████████████████████████▊                                                                                                             | 718/2912 [01:40<09:51,  3.71it/s]"
     ]
    },
    {
     "name": "stdout",
     "output_type": "stream",
     "text": [
      "Processed region=716 - (88, -15) for length 180 with len(scores)=955860\n",
      "************************\n",
      "There are 366145 combinations\n",
      "Processed region=717 - (88, -11) for length 131 with len(scores)=366145\n",
      "************************\n",
      "There are 551300 combinations\n"
     ]
    },
    {
     "name": "stderr",
     "output_type": "stream",
     "text": [
      " 25%|███████████████████████████████████▊                                                                                                             | 719/2912 [01:40<08:48,  4.15it/s]"
     ]
    },
    {
     "name": "stdout",
     "output_type": "stream",
     "text": [
      "Processed region=718 - (88, -7) for length 150 with len(scores)=551300\n",
      "************************\n",
      "There are 1161280 combinations\n"
     ]
    },
    {
     "name": "stderr",
     "output_type": "stream",
     "text": [
      " 25%|███████████████████████████████████▊                                                                                                             | 720/2912 [01:40<09:21,  3.91it/s]"
     ]
    },
    {
     "name": "stdout",
     "output_type": "stream",
     "text": [
      "Processed region=719 - (88, -3) for length 192 with len(scores)=1161280\n",
      "************************\n",
      "There are 266916 combinations\n",
      "Processed region=720 - (88, 1) for length 118 with len(scores)=266916\n",
      "************************\n",
      "There are 862924 combinations\n"
     ]
    },
    {
     "name": "stderr",
     "output_type": "stream",
     "text": [
      " 25%|███████████████████████████████████▉                                                                                                             | 722/2912 [01:41<07:39,  4.77it/s]"
     ]
    },
    {
     "name": "stdout",
     "output_type": "stream",
     "text": [
      "Processed region=721 - (88, 5) for length 174 with len(scores)=862924\n",
      "************************\n",
      "There are 4410549 combinations\n"
     ]
    },
    {
     "name": "stderr",
     "output_type": "stream",
     "text": [
      " 25%|████████████████████████████████████                                                                                                             | 723/2912 [01:42<20:24,  1.79it/s]"
     ]
    },
    {
     "name": "stdout",
     "output_type": "stream",
     "text": [
      "Processed region=722 - (88, 9) for length 299 with len(scores)=4410549\n",
      "************************\n",
      "There are 14197260 combinations\n",
      "Processed region=723 - (88, 13) for length 441 with len(scores)=14197260\n"
     ]
    },
    {
     "name": "stderr",
     "output_type": "stream",
     "text": [
      " 25%|███████████████████████████████████▌                                                                                                           | 724/2912 [01:48<1:06:46,  1.83s/it]"
     ]
    },
    {
     "name": "stdout",
     "output_type": "stream",
     "text": [
      "************************\n",
      "There are 6322120 combinations\n"
     ]
    },
    {
     "name": "stderr",
     "output_type": "stream",
     "text": [
      " 25%|███████████████████████████████████▌                                                                                                           | 725/2912 [01:50<1:12:42,  1.99s/it]"
     ]
    },
    {
     "name": "stdout",
     "output_type": "stream",
     "text": [
      "Processed region=724 - (88, 17) for length 337 with len(scores)=6322120\n",
      "************************\n",
      "There are 7023974 combinations\n",
      "Processed region=725 - (88, 21) for length 349 with len(scores)=7023974\n"
     ]
    },
    {
     "name": "stderr",
     "output_type": "stream",
     "text": [
      " 25%|███████████████████████████████████▋                                                                                                           | 726/2912 [01:53<1:17:59,  2.14s/it]"
     ]
    },
    {
     "name": "stdout",
     "output_type": "stream",
     "text": [
      "************************\n",
      "There are 3858140 combinations\n"
     ]
    },
    {
     "name": "stderr",
     "output_type": "stream",
     "text": [
      " 25%|███████████████████████████████████▋                                                                                                           | 727/2912 [01:54<1:07:49,  1.86s/it]"
     ]
    },
    {
     "name": "stdout",
     "output_type": "stream",
     "text": [
      "Processed region=726 - (88, 25) for length 286 with len(scores)=3858140\n",
      "************************\n",
      "There are 4636304 combinations\n"
     ]
    },
    {
     "name": "stderr",
     "output_type": "stream",
     "text": [
      " 25%|███████████████████████████████████▊                                                                                                           | 728/2912 [01:55<1:01:13,  1.68s/it]"
     ]
    },
    {
     "name": "stdout",
     "output_type": "stream",
     "text": [
      "Processed region=727 - (88, 29) for length 304 with len(scores)=4636304\n",
      "************************\n",
      "There are 1633355 combinations\n"
     ]
    },
    {
     "name": "stderr",
     "output_type": "stream",
     "text": [
      " 25%|████████████████████████████████████▎                                                                                                            | 729/2912 [01:56<47:47,  1.31s/it]"
     ]
    },
    {
     "name": "stdout",
     "output_type": "stream",
     "text": [
      "Processed region=728 - (88, 33) for length 215 with len(scores)=1633355\n",
      "************************\n",
      "There are 1435820 combinations\n"
     ]
    },
    {
     "name": "stderr",
     "output_type": "stream",
     "text": [
      " 25%|████████████████████████████████████▎                                                                                                            | 730/2912 [01:56<37:05,  1.02s/it]"
     ]
    },
    {
     "name": "stdout",
     "output_type": "stream",
     "text": [
      "Processed region=729 - (88, 37) for length 206 with len(scores)=1435820\n",
      "************************\n",
      "There are 988260 combinations\n"
     ]
    },
    {
     "name": "stderr",
     "output_type": "stream",
     "text": [
      " 25%|████████████████████████████████████▍                                                                                                            | 732/2912 [01:57<24:21,  1.49it/s]"
     ]
    },
    {
     "name": "stdout",
     "output_type": "stream",
     "text": [
      "Processed region=730 - (88, 41) for length 182 with len(scores)=988260\n",
      "************************\n",
      "There are 748660 combinations\n",
      "Processed region=731 - (88, 45) for length 166 with len(scores)=748660\n",
      "************************\n"
     ]
    },
    {
     "name": "stderr",
     "output_type": "stream",
     "text": [
      " 25%|████████████████████████████████████▌                                                                                                            | 734/2912 [01:57<14:29,  2.50it/s]"
     ]
    },
    {
     "name": "stdout",
     "output_type": "stream",
     "text": [
      "There are 166650 combinations\n",
      "Processed region=732 - (88, 49) for length 101 with len(scores)=166650\n",
      "************************\n",
      "There are 341376 combinations\n",
      "Processed region=733 - (88, 53) for length 128 with len(scores)=341376\n",
      "************************\n",
      "There are 419220 combinations\n"
     ]
    },
    {
     "name": "stderr",
     "output_type": "stream",
     "text": [
      " 25%|████████████████████████████████████▋                                                                                                            | 737/2912 [01:57<07:56,  4.56it/s]"
     ]
    },
    {
     "name": "stdout",
     "output_type": "stream",
     "text": [
      "Processed region=734 - (88, 57) for length 137 with len(scores)=419220\n",
      "************************\n",
      "There are 117480 combinations\n",
      "Processed region=735 - (88, 61) for length 90 with len(scores)=117480\n",
      "************************\n",
      "There are 125580 combinations\n",
      "Processed region=736 - (92, -63) for length 92 with len(scores)=125580\n",
      "************************\n",
      "There are 113564 combinations\n",
      "Processed region=737 - (92, -59) for length 89 with len(scores)=113564\n",
      "************************\n",
      "There are 227920 combinations\n"
     ]
    },
    {
     "name": "stderr",
     "output_type": "stream",
     "text": [
      " 25%|████████████████████████████████████▊                                                                                                            | 740/2912 [01:57<05:20,  6.77it/s]"
     ]
    },
    {
     "name": "stdout",
     "output_type": "stream",
     "text": [
      "Processed region=738 - (92, -55) for length 112 with len(scores)=227920\n",
      "************************\n",
      "There are 357760 combinations\n",
      "Processed region=739 - (92, -51) for length 130 with len(scores)=357760\n",
      "************************\n",
      "There are 551300 combinations\n"
     ]
    },
    {
     "name": "stderr",
     "output_type": "stream",
     "text": [
      " 25%|████████████████████████████████████▉                                                                                                            | 742/2912 [01:58<05:05,  7.10it/s]"
     ]
    },
    {
     "name": "stdout",
     "output_type": "stream",
     "text": [
      "Processed region=740 - (92, -47) for length 150 with len(scores)=551300\n",
      "************************\n",
      "There are 551300 combinations\n",
      "Processed region=741 - (92, -43) for length 150 with len(scores)=551300\n",
      "************************\n",
      "There are 508080 combinations\n",
      "Processed region=742 - (92, -39) for length 146 with len(scores)=508080\n",
      "************************\n",
      "There are 1703016 combinations\n"
     ]
    },
    {
     "name": "stderr",
     "output_type": "stream",
     "text": [
      " 26%|█████████████████████████████████████                                                                                                            | 744/2912 [01:58<07:56,  4.55it/s]"
     ]
    },
    {
     "name": "stdout",
     "output_type": "stream",
     "text": [
      "Processed region=743 - (92, -35) for length 218 with len(scores)=1703016\n",
      "************************\n",
      "There are 1726669 combinations\n"
     ]
    },
    {
     "name": "stderr",
     "output_type": "stream",
     "text": [
      " 26%|█████████████████████████████████████                                                                                                            | 745/2912 [01:59<09:16,  3.90it/s]"
     ]
    },
    {
     "name": "stdout",
     "output_type": "stream",
     "text": [
      "Processed region=744 - (92, -31) for length 219 with len(scores)=1726669\n",
      "************************\n",
      "There are 2054360 combinations\n"
     ]
    },
    {
     "name": "stderr",
     "output_type": "stream",
     "text": [
      " 26%|█████████████████████████████████████▏                                                                                                           | 746/2912 [01:59<11:29,  3.14it/s]"
     ]
    },
    {
     "name": "stdout",
     "output_type": "stream",
     "text": [
      "Processed region=745 - (92, -27) for length 232 with len(scores)=2054360\n",
      "************************\n",
      "There are 2963220 combinations\n"
     ]
    },
    {
     "name": "stderr",
     "output_type": "stream",
     "text": [
      " 26%|█████████████████████████████████████▏                                                                                                           | 747/2912 [02:00<17:18,  2.08it/s]"
     ]
    },
    {
     "name": "stdout",
     "output_type": "stream",
     "text": [
      "Processed region=746 - (92, -23) for length 262 with len(scores)=2963220\n",
      "************************\n",
      "There are 3697960 combinations\n"
     ]
    },
    {
     "name": "stderr",
     "output_type": "stream",
     "text": [
      " 26%|█████████████████████████████████████▏                                                                                                           | 748/2912 [02:01<21:40,  1.66it/s]"
     ]
    },
    {
     "name": "stdout",
     "output_type": "stream",
     "text": [
      "Processed region=747 - (92, -19) for length 282 with len(scores)=3697960\n",
      "************************\n",
      "There are 2275280 combinations\n"
     ]
    },
    {
     "name": "stderr",
     "output_type": "stream",
     "text": [
      " 26%|█████████████████████████████████████▎                                                                                                           | 749/2912 [02:02<22:59,  1.57it/s]"
     ]
    },
    {
     "name": "stdout",
     "output_type": "stream",
     "text": [
      "Processed region=748 - (92, -15) for length 240 with len(scores)=2275280\n",
      "************************\n",
      "There are 2190670 combinations\n"
     ]
    },
    {
     "name": "stderr",
     "output_type": "stream",
     "text": [
      " 26%|█████████████████████████████████████▎                                                                                                           | 750/2912 [02:03<22:46,  1.58it/s]"
     ]
    },
    {
     "name": "stdout",
     "output_type": "stream",
     "text": [
      "Processed region=749 - (92, -11) for length 237 with len(scores)=2190670\n",
      "************************\n",
      "There are 1949476 combinations\n"
     ]
    },
    {
     "name": "stderr",
     "output_type": "stream",
     "text": [
      " 26%|█████████████████████████████████████▍                                                                                                           | 751/2912 [02:03<23:10,  1.55it/s]"
     ]
    },
    {
     "name": "stdout",
     "output_type": "stream",
     "text": [
      "Processed region=750 - (92, -7) for length 228 with len(scores)=1949476\n",
      "************************\n",
      "There are 5209260 combinations\n"
     ]
    },
    {
     "name": "stderr",
     "output_type": "stream",
     "text": [
      " 26%|█████████████████████████████████████▍                                                                                                           | 752/2912 [02:05<35:29,  1.01it/s]"
     ]
    },
    {
     "name": "stdout",
     "output_type": "stream",
     "text": [
      "Processed region=751 - (92, -3) for length 316 with len(scores)=5209260\n",
      "************************\n",
      "There are 2218636 combinations\n"
     ]
    },
    {
     "name": "stderr",
     "output_type": "stream",
     "text": [
      " 26%|█████████████████████████████████████▍                                                                                                           | 753/2912 [02:06<32:57,  1.09it/s]"
     ]
    },
    {
     "name": "stdout",
     "output_type": "stream",
     "text": [
      "Processed region=752 - (92, 1) for length 238 with len(scores)=2218636\n",
      "************************\n",
      "There are 7583156 combinations\n",
      "Processed region=753 - (92, 5) for length 358 with len(scores)=7583156\n"
     ]
    },
    {
     "name": "stderr",
     "output_type": "stream",
     "text": [
      " 26%|█████████████████████████████████████▌                                                                                                           | 754/2912 [02:09<56:42,  1.58s/it]"
     ]
    },
    {
     "name": "stdout",
     "output_type": "stream",
     "text": [
      "************************\n",
      "There are 15288900 combinations\n",
      "Processed region=754 - (92, 9) for length 452 with len(scores)=15288900\n"
     ]
    },
    {
     "name": "stderr",
     "output_type": "stream",
     "text": [
      " 26%|█████████████████████████████████████                                                                                                          | 755/2912 [02:16<1:48:57,  3.03s/it]"
     ]
    },
    {
     "name": "stdout",
     "output_type": "stream",
     "text": [
      "************************\n",
      "There are 9886435 combinations\n",
      "Processed region=755 - (92, 13) for length 391 with len(scores)=9886435\n"
     ]
    },
    {
     "name": "stderr",
     "output_type": "stream",
     "text": [
      " 26%|█████████████████████████████████████▏                                                                                                         | 756/2912 [02:20<2:07:18,  3.54s/it]"
     ]
    },
    {
     "name": "stdout",
     "output_type": "stream",
     "text": [
      "************************\n",
      "There are 6099006 combinations\n"
     ]
    },
    {
     "name": "stderr",
     "output_type": "stream",
     "text": [
      " 26%|█████████████████████████████████████▏                                                                                                         | 757/2912 [02:24<2:08:49,  3.59s/it]"
     ]
    },
    {
     "name": "stdout",
     "output_type": "stream",
     "text": [
      "Processed region=756 - (92, 17) for length 333 with len(scores)=6099006\n",
      "************************\n",
      "There are 10507399 combinations\n",
      "Processed region=757 - (92, 21) for length 399 with len(scores)=10507399\n"
     ]
    },
    {
     "name": "stderr",
     "output_type": "stream",
     "text": [
      " 26%|█████████████████████████████████████▏                                                                                                         | 758/2912 [02:29<2:22:12,  3.96s/it]"
     ]
    },
    {
     "name": "stdout",
     "output_type": "stream",
     "text": [
      "************************\n",
      "There are 5668650 combinations\n"
     ]
    },
    {
     "name": "stderr",
     "output_type": "stream",
     "text": [
      " 26%|█████████████████████████████████████▎                                                                                                         | 759/2912 [02:32<2:08:01,  3.57s/it]"
     ]
    },
    {
     "name": "stdout",
     "output_type": "stream",
     "text": [
      "Processed region=758 - (92, 25) for length 325 with len(scores)=5668650\n",
      "************************\n",
      "There are 2190670 combinations\n"
     ]
    },
    {
     "name": "stderr",
     "output_type": "stream",
     "text": [
      " 26%|█████████████████████████████████████▎                                                                                                         | 760/2912 [02:33<1:39:52,  2.78s/it]"
     ]
    },
    {
     "name": "stdout",
     "output_type": "stream",
     "text": [
      "Processed region=759 - (92, 29) for length 237 with len(scores)=2190670\n",
      "************************\n",
      "There are 2081156 combinations\n"
     ]
    },
    {
     "name": "stderr",
     "output_type": "stream",
     "text": [
      " 26%|█████████████████████████████████████▎                                                                                                         | 761/2912 [02:33<1:17:20,  2.16s/it]"
     ]
    },
    {
     "name": "stdout",
     "output_type": "stream",
     "text": [
      "Processed region=760 - (92, 33) for length 233 with len(scores)=2081156\n",
      "************************\n",
      "There are 2963220 combinations\n"
     ]
    },
    {
     "name": "stderr",
     "output_type": "stream",
     "text": [
      " 26%|█████████████████████████████████████▍                                                                                                         | 762/2912 [02:34<1:06:19,  1.85s/it]"
     ]
    },
    {
     "name": "stdout",
     "output_type": "stream",
     "text": [
      "Processed region=761 - (92, 37) for length 262 with len(scores)=2963220\n",
      "************************\n",
      "There are 1478256 combinations\n"
     ]
    },
    {
     "name": "stderr",
     "output_type": "stream",
     "text": [
      " 26%|█████████████████████████████████████▉                                                                                                           | 763/2912 [02:35<53:17,  1.49s/it]"
     ]
    },
    {
     "name": "stdout",
     "output_type": "stream",
     "text": [
      "Processed region=762 - (92, 41) for length 208 with len(scores)=1478256\n",
      "************************\n",
      "There are 776216 combinations\n",
      "Processed region=763 - (92, 45) for length 168 with len(scores)=776216\n"
     ]
    },
    {
     "name": "stderr",
     "output_type": "stream",
     "text": [
      " 26%|██████████████████████████████████████                                                                                                           | 765/2912 [02:35<28:48,  1.24it/s]"
     ]
    },
    {
     "name": "stdout",
     "output_type": "stream",
     "text": [
      "************************\n",
      "There are 325500 combinations\n",
      "Processed region=764 - (92, 49) for length 126 with len(scores)=325500\n",
      "************************\n",
      "There are 161700 combinations\n",
      "Processed region=765 - (92, 53) for length 100 with len(scores)=161700\n",
      "************************\n"
     ]
    },
    {
     "name": "stderr",
     "output_type": "stream",
     "text": [
      " 26%|██████████████████████████████████████▏                                                                                                          | 767/2912 [02:36<17:01,  2.10it/s]"
     ]
    },
    {
     "name": "stdout",
     "output_type": "stream",
     "text": [
      "There are 366145 combinations\n",
      "Processed region=766 - (92, 57) for length 131 with len(scores)=366145\n",
      "************************\n",
      "There are 142880 combinations\n",
      "Processed region=767 - (92, 61) for length 96 with len(scores)=142880\n",
      "************************\n",
      "There are 246905 combinations\n"
     ]
    },
    {
     "name": "stderr",
     "output_type": "stream",
     "text": [
      " 26%|██████████████████████████████████████▍                                                                                                          | 771/2912 [02:36<07:58,  4.48it/s]"
     ]
    },
    {
     "name": "stdout",
     "output_type": "stream",
     "text": [
      "Processed region=768 - (96, -63) for length 115 with len(scores)=246905\n",
      "************************\n",
      "There are 166650 combinations\n",
      "Processed region=769 - (96, -59) for length 101 with len(scores)=166650\n",
      "************************\n",
      "There are 221815 combinations\n",
      "Processed region=770 - (96, -55) for length 111 with len(scores)=221815\n",
      "************************\n",
      "There are 325500 combinations\n",
      "Processed region=771 - (96, -51) for length 126 with len(scores)=325500\n",
      "************************\n",
      "There are 877975 combinations\n"
     ]
    },
    {
     "name": "stderr",
     "output_type": "stream",
     "text": [
      " 27%|██████████████████████████████████████▍                                                                                                          | 773/2912 [02:36<08:33,  4.17it/s]"
     ]
    },
    {
     "name": "stdout",
     "output_type": "stream",
     "text": [
      "Processed region=772 - (96, -47) for length 175 with len(scores)=877975\n",
      "************************\n",
      "There are 1235780 combinations\n"
     ]
    },
    {
     "name": "stderr",
     "output_type": "stream",
     "text": [
      " 27%|██████████████████████████████████████▌                                                                                                          | 774/2912 [02:37<09:14,  3.85it/s]"
     ]
    },
    {
     "name": "stdout",
     "output_type": "stream",
     "text": [
      "Processed region=773 - (96, -43) for length 196 with len(scores)=1235780\n",
      "************************\n",
      "There are 804440 combinations\n"
     ]
    },
    {
     "name": "stderr",
     "output_type": "stream",
     "text": [
      " 27%|██████████████████████████████████████▌                                                                                                          | 775/2912 [02:37<09:28,  3.76it/s]"
     ]
    },
    {
     "name": "stdout",
     "output_type": "stream",
     "text": [
      "Processed region=774 - (96, -39) for length 170 with len(scores)=804440\n",
      "************************\n",
      "There are 1235780 combinations\n"
     ]
    },
    {
     "name": "stderr",
     "output_type": "stream",
     "text": [
      " 27%|██████████████████████████████████████▋                                                                                                          | 776/2912 [02:37<09:31,  3.74it/s]"
     ]
    },
    {
     "name": "stdout",
     "output_type": "stream",
     "text": [
      "Processed region=775 - (96, -35) for length 196 with len(scores)=1235780\n",
      "************************\n",
      "There are 1633355 combinations\n"
     ]
    },
    {
     "name": "stderr",
     "output_type": "stream",
     "text": [
      " 27%|██████████████████████████████████████▋                                                                                                          | 777/2912 [02:38<12:52,  2.76it/s]"
     ]
    },
    {
     "name": "stdout",
     "output_type": "stream",
     "text": [
      "Processed region=776 - (96, -31) for length 215 with len(scores)=1633355\n",
      "************************\n",
      "There are 2895620 combinations\n"
     ]
    },
    {
     "name": "stderr",
     "output_type": "stream",
     "text": [
      " 27%|██████████████████████████████████████▋                                                                                                          | 778/2912 [02:39<20:21,  1.75it/s]"
     ]
    },
    {
     "name": "stdout",
     "output_type": "stream",
     "text": [
      "Processed region=777 - (96, -27) for length 260 with len(scores)=2895620\n",
      "************************\n",
      "There are 6550610 combinations\n",
      "Processed region=778 - (96, -23) for length 341 with len(scores)=6550610\n",
      "************************\n"
     ]
    },
    {
     "name": "stderr",
     "output_type": "stream",
     "text": [
      " 27%|██████████████████████████████████████▊                                                                                                          | 779/2912 [02:42<45:20,  1.28s/it]"
     ]
    },
    {
     "name": "stdout",
     "output_type": "stream",
     "text": [
      "There are 3391024 combinations\n"
     ]
    },
    {
     "name": "stderr",
     "output_type": "stream",
     "text": [
      " 27%|██████████████████████████████████████▊                                                                                                          | 780/2912 [02:44<52:01,  1.46s/it]"
     ]
    },
    {
     "name": "stdout",
     "output_type": "stream",
     "text": [
      "Processed region=779 - (96, -19) for length 274 with len(scores)=3391024\n",
      "************************\n",
      "There are 6492980 combinations\n",
      "Processed region=780 - (96, -15) for length 340 with len(scores)=6492980\n"
     ]
    },
    {
     "name": "stderr",
     "output_type": "stream",
     "text": [
      " 27%|██████████████████████████████████████▎                                                                                                        | 781/2912 [02:47<1:04:55,  1.83s/it]"
     ]
    },
    {
     "name": "stdout",
     "output_type": "stream",
     "text": [
      "************************\n",
      "There are 2054360 combinations\n"
     ]
    },
    {
     "name": "stderr",
     "output_type": "stream",
     "text": [
      " 27%|██████████████████████████████████████▉                                                                                                          | 782/2912 [02:48<54:05,  1.52s/it]"
     ]
    },
    {
     "name": "stdout",
     "output_type": "stream",
     "text": [
      "Processed region=781 - (96, -11) for length 232 with len(scores)=2054360\n",
      "************************\n",
      "There are 2635500 combinations\n"
     ]
    },
    {
     "name": "stderr",
     "output_type": "stream",
     "text": [
      " 27%|██████████████████████████████████████▉                                                                                                          | 783/2912 [02:48<46:53,  1.32s/it]"
     ]
    },
    {
     "name": "stdout",
     "output_type": "stream",
     "text": [
      "Processed region=782 - (96, -7) for length 252 with len(scores)=2635500\n",
      "************************\n",
      "There are 3504050 combinations\n"
     ]
    },
    {
     "name": "stderr",
     "output_type": "stream",
     "text": [
      " 27%|███████████████████████████████████████                                                                                                          | 784/2912 [02:50<50:35,  1.43s/it]"
     ]
    },
    {
     "name": "stdout",
     "output_type": "stream",
     "text": [
      "Processed region=783 - (96, -3) for length 277 with len(scores)=3504050\n",
      "************************\n",
      "There are 4455100 combinations\n"
     ]
    },
    {
     "name": "stderr",
     "output_type": "stream",
     "text": [
      " 27%|███████████████████████████████████████                                                                                                          | 785/2912 [02:51<49:16,  1.39s/it]"
     ]
    },
    {
     "name": "stdout",
     "output_type": "stream",
     "text": [
      "Processed region=784 - (96, 1) for length 300 with len(scores)=4455100\n",
      "************************\n",
      "There are 9001629 combinations\n",
      "Processed region=785 - (96, 5) for length 379 with len(scores)=9001629\n"
     ]
    },
    {
     "name": "stderr",
     "output_type": "stream",
     "text": [
      " 27%|██████████████████████████████████████▌                                                                                                        | 786/2912 [03:02<2:22:18,  4.02s/it]"
     ]
    },
    {
     "name": "stdout",
     "output_type": "stream",
     "text": [
      "************************\n",
      "There are 5989445 combinations\n"
     ]
    },
    {
     "name": "stderr",
     "output_type": "stream",
     "text": [
      " 27%|██████████████████████████████████████▋                                                                                                        | 787/2912 [03:04<2:09:38,  3.66s/it]"
     ]
    },
    {
     "name": "stdout",
     "output_type": "stream",
     "text": [
      "Processed region=786 - (96, 9) for length 331 with len(scores)=5989445\n",
      "************************\n",
      "There are 4590551 combinations\n"
     ]
    },
    {
     "name": "stderr",
     "output_type": "stream",
     "text": [
      " 27%|██████████████████████████████████████▋                                                                                                        | 788/2912 [03:06<1:47:32,  3.04s/it]"
     ]
    },
    {
     "name": "stdout",
     "output_type": "stream",
     "text": [
      "Processed region=787 - (96, 13) for length 303 with len(scores)=4590551\n",
      "************************\n",
      "There are 6550610 combinations\n",
      "Processed region=788 - (96, 17) for length 341 with len(scores)=6550610\n"
     ]
    },
    {
     "name": "stderr",
     "output_type": "stream",
     "text": [
      " 27%|██████████████████████████████████████▋                                                                                                        | 789/2912 [03:09<1:49:50,  3.10s/it]"
     ]
    },
    {
     "name": "stdout",
     "output_type": "stream",
     "text": [
      "************************\n",
      "There are 5309116 combinations\n"
     ]
    },
    {
     "name": "stderr",
     "output_type": "stream",
     "text": [
      " 27%|██████████████████████████████████████▊                                                                                                        | 790/2912 [03:13<1:50:49,  3.13s/it]"
     ]
    },
    {
     "name": "stdout",
     "output_type": "stream",
     "text": [
      "Processed region=789 - (96, 21) for length 318 with len(scores)=5309116\n",
      "************************\n",
      "There are 5564321 combinations\n"
     ]
    },
    {
     "name": "stderr",
     "output_type": "stream",
     "text": [
      " 27%|██████████████████████████████████████▊                                                                                                        | 791/2912 [03:16<1:49:42,  3.10s/it]"
     ]
    },
    {
     "name": "stdout",
     "output_type": "stream",
     "text": [
      "Processed region=790 - (96, 25) for length 323 with len(scores)=5564321\n",
      "************************\n",
      "There are 3428425 combinations\n"
     ]
    },
    {
     "name": "stderr",
     "output_type": "stream",
     "text": [
      " 27%|██████████████████████████████████████▉                                                                                                        | 792/2912 [03:17<1:27:32,  2.48s/it]"
     ]
    },
    {
     "name": "stdout",
     "output_type": "stream",
     "text": [
      "Processed region=791 - (96, 29) for length 275 with len(scores)=3428425\n",
      "************************\n",
      "There are 2081156 combinations\n"
     ]
    },
    {
     "name": "stderr",
     "output_type": "stream",
     "text": [
      " 27%|██████████████████████████████████████▉                                                                                                        | 793/2912 [03:18<1:11:17,  2.02s/it]"
     ]
    },
    {
     "name": "stdout",
     "output_type": "stream",
     "text": [
      "Processed region=792 - (96, 33) for length 233 with len(scores)=2081156\n",
      "************************\n",
      "There are 1923825 combinations\n"
     ]
    },
    {
     "name": "stderr",
     "output_type": "stream",
     "text": [
      " 27%|███████████████████████████████████████▌                                                                                                         | 794/2912 [03:18<56:37,  1.60s/it]"
     ]
    },
    {
     "name": "stdout",
     "output_type": "stream",
     "text": [
      "Processed region=793 - (96, 37) for length 227 with len(scores)=1923825\n",
      "************************\n",
      "There are 721764 combinations\n"
     ]
    },
    {
     "name": "stderr",
     "output_type": "stream",
     "text": [
      " 27%|███████████████████████████████████████▋                                                                                                         | 797/2912 [03:19<23:51,  1.48it/s]"
     ]
    },
    {
     "name": "stdout",
     "output_type": "stream",
     "text": [
      "Processed region=794 - (96, 41) for length 164 with len(scores)=721764\n",
      "************************\n",
      "There are 357760 combinations\n",
      "Processed region=795 - (96, 45) for length 130 with len(scores)=357760\n",
      "************************\n",
      "There are 187460 combinations\n",
      "Processed region=796 - (96, 49) for length 105 with len(scores)=187460\n",
      "************************\n",
      "There are 253460 combinations\n"
     ]
    },
    {
     "name": "stderr",
     "output_type": "stream",
     "text": [
      " 28%|███████████████████████████████████████▉                                                                                                         | 801/2912 [03:19<10:31,  3.34it/s]"
     ]
    },
    {
     "name": "stdout",
     "output_type": "stream",
     "text": [
      "Processed region=797 - (96, 53) for length 116 with len(scores)=253460\n",
      "************************\n",
      "There are 192920 combinations\n",
      "Processed region=798 - (96, 57) for length 106 with len(scores)=192920\n",
      "************************\n",
      "There are 152096 combinations\n",
      "Processed region=799 - (96, 61) for length 98 with len(scores)=152096\n",
      "************************\n",
      "There are 88560 combinations\n",
      "Processed region=800 - (100, -63) for length 82 with len(scores)=88560\n",
      "************************\n",
      "There are 204156 combinations\n"
     ]
    },
    {
     "name": "stderr",
     "output_type": "stream",
     "text": [
      " 28%|███████████████████████████████████████▉                                                                                                         | 803/2912 [03:19<08:05,  4.34it/s]"
     ]
    },
    {
     "name": "stdout",
     "output_type": "stream",
     "text": [
      "Processed region=801 - (100, -59) for length 108 with len(scores)=204156\n",
      "************************\n",
      "There are 260130 combinations\n",
      "Processed region=802 - (100, -55) for length 117 with len(scores)=260130\n",
      "************************\n",
      "There are 457310 combinations\n",
      "Processed region=803 - (100, -51) for length 141 with len(scores)=457310\n",
      "************************\n",
      "There are 924176 combinations\n"
     ]
    },
    {
     "name": "stderr",
     "output_type": "stream",
     "text": [
      " 28%|████████████████████████████████████████                                                                                                         | 805/2912 [03:20<08:58,  3.91it/s]"
     ]
    },
    {
     "name": "stdout",
     "output_type": "stream",
     "text": [
      "Processed region=804 - (100, -47) for length 178 with len(scores)=924176\n",
      "************************\n",
      "There are 1089836 combinations\n"
     ]
    },
    {
     "name": "stderr",
     "output_type": "stream",
     "text": [
      " 28%|████████████████████████████████████████▏                                                                                                        | 806/2912 [03:20<11:01,  3.18it/s]"
     ]
    },
    {
     "name": "stdout",
     "output_type": "stream",
     "text": [
      "Processed region=805 - (100, -43) for length 188 with len(scores)=1089836\n",
      "************************\n",
      "There are 1333300 combinations\n"
     ]
    },
    {
     "name": "stderr",
     "output_type": "stream",
     "text": [
      " 28%|████████████████████████████████████████▏                                                                                                        | 807/2912 [03:21<11:25,  3.07it/s]"
     ]
    },
    {
     "name": "stdout",
     "output_type": "stream",
     "text": [
      "Processed region=806 - (100, -39) for length 201 with len(scores)=1333300\n",
      "************************\n",
      "There are 1435820 combinations\n"
     ]
    },
    {
     "name": "stderr",
     "output_type": "stream",
     "text": [
      " 28%|████████████████████████████████████████▏                                                                                                        | 808/2912 [03:21<12:06,  2.90it/s]"
     ]
    },
    {
     "name": "stdout",
     "output_type": "stream",
     "text": [
      "Processed region=807 - (100, -35) for length 206 with len(scores)=1435820\n",
      "************************\n",
      "There are 2895620 combinations\n"
     ]
    },
    {
     "name": "stderr",
     "output_type": "stream",
     "text": [
      " 28%|████████████████████████████████████████▎                                                                                                        | 809/2912 [03:22<18:46,  1.87it/s]"
     ]
    },
    {
     "name": "stdout",
     "output_type": "stream",
     "text": [
      "Processed region=808 - (100, -31) for length 260 with len(scores)=2895620\n",
      "************************\n",
      "There are 7906261 combinations\n",
      "Processed region=809 - (100, -27) for length 363 with len(scores)=7906261\n"
     ]
    },
    {
     "name": "stderr",
     "output_type": "stream",
     "text": [
      " 28%|███████████████████████████████████████▊                                                                                                       | 810/2912 [03:28<1:06:47,  1.91s/it]"
     ]
    },
    {
     "name": "stdout",
     "output_type": "stream",
     "text": [
      "************************\n",
      "There are 8171255 combinations\n",
      "Processed region=810 - (100, -23) for length 367 with len(scores)=8171255\n"
     ]
    },
    {
     "name": "stderr",
     "output_type": "stream",
     "text": [
      " 28%|███████████████████████████████████████▊                                                                                                       | 811/2912 [03:32<1:29:25,  2.55s/it]"
     ]
    },
    {
     "name": "stdout",
     "output_type": "stream",
     "text": [
      "************************\n",
      "There are 3981264 combinations\n"
     ]
    },
    {
     "name": "stderr",
     "output_type": "stream",
     "text": [
      " 28%|███████████████████████████████████████▉                                                                                                       | 812/2912 [03:34<1:19:14,  2.26s/it]"
     ]
    },
    {
     "name": "stdout",
     "output_type": "stream",
     "text": [
      "Processed region=811 - (100, -19) for length 289 with len(scores)=3981264\n",
      "************************\n",
      "There are 4728720 combinations\n"
     ]
    },
    {
     "name": "stderr",
     "output_type": "stream",
     "text": [
      " 28%|███████████████████████████████████████▉                                                                                                       | 813/2912 [03:35<1:12:48,  2.08s/it]"
     ]
    },
    {
     "name": "stdout",
     "output_type": "stream",
     "text": [
      "Processed region=812 - (100, -15) for length 306 with len(scores)=4728720\n",
      "************************\n",
      "There are 7084700 combinations\n",
      "Processed region=813 - (100, -11) for length 350 with len(scores)=7084700\n"
     ]
    },
    {
     "name": "stderr",
     "output_type": "stream",
     "text": [
      " 28%|███████████████████████████████████████▉                                                                                                       | 814/2912 [03:38<1:23:04,  2.38s/it]"
     ]
    },
    {
     "name": "stdout",
     "output_type": "stream",
     "text": [
      "************************\n",
      "There are 18316960 combinations\n",
      "Processed region=814 - (100, -7) for length 480 with len(scores)=18316960\n",
      "************************\n"
     ]
    },
    {
     "name": "stderr",
     "output_type": "stream",
     "text": [
      " 28%|████████████████████████████████████████                                                                                                       | 815/2912 [03:51<3:09:09,  5.41s/it]"
     ]
    },
    {
     "name": "stdout",
     "output_type": "stream",
     "text": [
      "There are 16011909 combinations\n",
      "Processed region=815 - (100, -3) for length 459 with len(scores)=16011909\n",
      "************************\n"
     ]
    },
    {
     "name": "stderr",
     "output_type": "stream",
     "text": [
      " 28%|████████████████████████████████████████                                                                                                       | 816/2912 [03:58<3:24:26,  5.85s/it]"
     ]
    },
    {
     "name": "stdout",
     "output_type": "stream",
     "text": [
      "There are 19728380 combinations\n",
      "Processed region=816 - (100, 1) for length 492 with len(scores)=19728380\n",
      "************************\n"
     ]
    },
    {
     "name": "stderr",
     "output_type": "stream",
     "text": [
      " 28%|████████████████████████████████████████                                                                                                       | 817/2912 [04:07<3:56:20,  6.77s/it]"
     ]
    },
    {
     "name": "stdout",
     "output_type": "stream",
     "text": [
      "There are 14686780 combinations\n",
      "Processed region=817 - (100, 5) for length 446 with len(scores)=14686780\n",
      "************************\n"
     ]
    },
    {
     "name": "stderr",
     "output_type": "stream",
     "text": [
      " 28%|████████████████████████████████████████▏                                                                                                      | 818/2912 [04:19<4:55:40,  8.47s/it]"
     ]
    },
    {
     "name": "stdout",
     "output_type": "stream",
     "text": [
      "There are 7583156 combinations\n",
      "Processed region=818 - (100, 9) for length 358 with len(scores)=7583156\n"
     ]
    },
    {
     "name": "stderr",
     "output_type": "stream",
     "text": [
      " 28%|████████████████████████████████████████▏                                                                                                      | 819/2912 [04:25<4:23:43,  7.56s/it]"
     ]
    },
    {
     "name": "stdout",
     "output_type": "stream",
     "text": [
      "************************\n",
      "There are 10271580 combinations\n",
      "Processed region=819 - (100, 13) for length 396 with len(scores)=10271580\n"
     ]
    },
    {
     "name": "stderr",
     "output_type": "stream",
     "text": [
      " 28%|████████████████████████████████████████▎                                                                                                      | 820/2912 [04:29<3:50:24,  6.61s/it]"
     ]
    },
    {
     "name": "stdout",
     "output_type": "stream",
     "text": [
      "************************\n",
      "There are 10271580 combinations\n",
      "Processed region=820 - (100, 17) for length 396 with len(scores)=10271580\n"
     ]
    },
    {
     "name": "stderr",
     "output_type": "stream",
     "text": [
      " 28%|████████████████████████████████████████▎                                                                                                      | 821/2912 [04:33<3:22:48,  5.82s/it]"
     ]
    },
    {
     "name": "stdout",
     "output_type": "stream",
     "text": [
      "************************\n",
      "There are 7393585 combinations\n",
      "Processed region=821 - (100, 21) for length 355 with len(scores)=7393585\n"
     ]
    },
    {
     "name": "stderr",
     "output_type": "stream",
     "text": [
      " 28%|████████████████████████████████████████▎                                                                                                      | 822/2912 [04:37<2:59:20,  5.15s/it]"
     ]
    },
    {
     "name": "stdout",
     "output_type": "stream",
     "text": [
      "************************\n",
      "There are 7023974 combinations\n",
      "Processed region=822 - (100, 25) for length 349 with len(scores)=7023974\n"
     ]
    },
    {
     "name": "stderr",
     "output_type": "stream",
     "text": [
      " 28%|████████████████████████████████████████▍                                                                                                      | 823/2912 [04:41<2:48:17,  4.83s/it]"
     ]
    },
    {
     "name": "stdout",
     "output_type": "stream",
     "text": [
      "************************\n",
      "There are 2895620 combinations\n"
     ]
    },
    {
     "name": "stderr",
     "output_type": "stream",
     "text": [
      " 28%|████████████████████████████████████████▍                                                                                                      | 824/2912 [04:42<2:11:21,  3.77s/it]"
     ]
    },
    {
     "name": "stdout",
     "output_type": "stream",
     "text": [
      "Processed region=823 - (100, 29) for length 260 with len(scores)=2895620\n",
      "************************\n",
      "There are 2135445 combinations\n"
     ]
    },
    {
     "name": "stderr",
     "output_type": "stream",
     "text": [
      " 28%|████████████████████████████████████████▌                                                                                                      | 825/2912 [04:43<1:44:32,  3.01s/it]"
     ]
    },
    {
     "name": "stdout",
     "output_type": "stream",
     "text": [
      "Processed region=824 - (100, 33) for length 235 with len(scores)=2135445\n",
      "************************\n",
      "There are 1703016 combinations\n"
     ]
    },
    {
     "name": "stderr",
     "output_type": "stream",
     "text": [
      " 28%|████████████████████████████████████████▌                                                                                                      | 826/2912 [04:44<1:21:24,  2.34s/it]"
     ]
    },
    {
     "name": "stdout",
     "output_type": "stream",
     "text": [
      "Processed region=825 - (100, 37) for length 218 with len(scores)=1703016\n",
      "************************\n",
      "There are 620620 combinations\n"
     ]
    },
    {
     "name": "stderr",
     "output_type": "stream",
     "text": [
      " 28%|█████████████████████████████████████████▏                                                                                                       | 828/2912 [04:44<43:00,  1.24s/it]"
     ]
    },
    {
     "name": "stdout",
     "output_type": "stream",
     "text": [
      "Processed region=826 - (100, 41) for length 156 with len(scores)=620620\n",
      "************************\n",
      "There are 518665 combinations\n",
      "Processed region=827 - (100, 45) for length 147 with len(scores)=518665\n",
      "************************\n",
      "There are 121485 combinations\n"
     ]
    },
    {
     "name": "stderr",
     "output_type": "stream",
     "text": [
      " 29%|█████████████████████████████████████████▍                                                                                                       | 831/2912 [04:45<18:15,  1.90it/s]"
     ]
    },
    {
     "name": "stdout",
     "output_type": "stream",
     "text": [
      "Processed region=828 - (100, 49) for length 91 with len(scores)=121485\n",
      "************************\n",
      "There are 357760 combinations\n",
      "Processed region=829 - (100, 53) for length 130 with len(scores)=357760\n",
      "************************\n",
      "There are 227920 combinations\n",
      "Processed region=830 - (100, 57) for length 112 with len(scores)=227920\n",
      "************************\n"
     ]
    },
    {
     "name": "stderr",
     "output_type": "stream",
     "text": [
      " 29%|█████████████████████████████████████████▍                                                                                                       | 833/2912 [04:45<12:02,  2.88it/s]"
     ]
    },
    {
     "name": "stdout",
     "output_type": "stream",
     "text": [
      "There are 182104 combinations\n",
      "Processed region=831 - (100, 61) for length 104 with len(scores)=182104\n",
      "************************\n",
      "There are 171700 combinations\n",
      "Processed region=832 - (104, -63) for length 102 with len(scores)=171700\n",
      "************************\n",
      "There are 325500 combinations\n"
     ]
    },
    {
     "name": "stderr",
     "output_type": "stream",
     "text": [
      " 29%|█████████████████████████████████████████▌                                                                                                       | 835/2912 [04:45<09:00,  3.84it/s]"
     ]
    },
    {
     "name": "stdout",
     "output_type": "stream",
     "text": [
      "Processed region=833 - (104, -59) for length 126 with len(scores)=325500\n",
      "************************\n",
      "There are 497640 combinations\n",
      "Processed region=834 - (104, -55) for length 145 with len(scores)=497640\n",
      "************************\n"
     ]
    },
    {
     "name": "stderr",
     "output_type": "stream",
     "text": [
      " 29%|█████████████████████████████████████████▋                                                                                                       | 836/2912 [04:45<08:51,  3.90it/s]"
     ]
    },
    {
     "name": "stdout",
     "output_type": "stream",
     "text": [
      "There are 748660 combinations\n",
      "Processed region=835 - (104, -51) for length 166 with len(scores)=748660\n",
      "************************\n",
      "There are 877975 combinations\n"
     ]
    },
    {
     "name": "stderr",
     "output_type": "stream",
     "text": [
      " 29%|█████████████████████████████████████████▋                                                                                                       | 837/2912 [04:46<11:12,  3.08it/s]"
     ]
    },
    {
     "name": "stdout",
     "output_type": "stream",
     "text": [
      "Processed region=836 - (104, -47) for length 175 with len(scores)=877975\n",
      "************************\n",
      "There are 1726669 combinations\n"
     ]
    },
    {
     "name": "stderr",
     "output_type": "stream",
     "text": [
      " 29%|█████████████████████████████████████████▋                                                                                                       | 838/2912 [04:46<13:28,  2.56it/s]"
     ]
    },
    {
     "name": "stdout",
     "output_type": "stream",
     "text": [
      "Processed region=837 - (104, -43) for length 219 with len(scores)=1726669\n",
      "************************\n",
      "There are 1975354 combinations\n"
     ]
    },
    {
     "name": "stderr",
     "output_type": "stream",
     "text": [
      " 29%|█████████████████████████████████████████▊                                                                                                       | 839/2912 [04:50<40:03,  1.16s/it]"
     ]
    },
    {
     "name": "stdout",
     "output_type": "stream",
     "text": [
      "Processed region=838 - (104, -39) for length 229 with len(scores)=1975354\n",
      "************************\n",
      "There are 2275280 combinations\n"
     ]
    },
    {
     "name": "stderr",
     "output_type": "stream",
     "text": [
      " 29%|█████████████████████████████████████████▊                                                                                                       | 840/2912 [04:51<37:51,  1.10s/it]"
     ]
    },
    {
     "name": "stdout",
     "output_type": "stream",
     "text": [
      "Processed region=839 - (104, -35) for length 240 with len(scores)=2275280\n",
      "************************\n",
      "There are 7519610 combinations\n",
      "Processed region=840 - (104, -31) for length 357 with len(scores)=7519610\n"
     ]
    },
    {
     "name": "stderr",
     "output_type": "stream",
     "text": [
      " 29%|█████████████████████████████████████████▉                                                                                                       | 841/2912 [04:54<59:13,  1.72s/it]"
     ]
    },
    {
     "name": "stdout",
     "output_type": "stream",
     "text": [
      "************************\n",
      "There are 16011909 combinations\n",
      "Processed region=841 - (104, -27) for length 459 with len(scores)=16011909\n"
     ]
    },
    {
     "name": "stderr",
     "output_type": "stream",
     "text": [
      " 29%|█████████████████████████████████████████                                                                                                     | 842/2912 [06:14<14:17:37, 24.86s/it]"
     ]
    },
    {
     "name": "stdout",
     "output_type": "stream",
     "text": [
      "************************\n",
      "There are 17414440 combinations\n",
      "Processed region=842 - (104, -23) for length 472 with len(scores)=17414440\n"
     ]
    },
    {
     "name": "stderr",
     "output_type": "stream",
     "text": [
      " 29%|█████████████████████████████████████████                                                                                                     | 843/2912 [06:21<11:16:33, 19.62s/it]"
     ]
    },
    {
     "name": "stdout",
     "output_type": "stream",
     "text": [
      "************************\n",
      "There are 8238416 combinations\n",
      "Processed region=843 - (104, -19) for length 368 with len(scores)=8238416\n"
     ]
    },
    {
     "name": "stderr",
     "output_type": "stream",
     "text": [
      " 29%|█████████████████████████████████████████▍                                                                                                     | 844/2912 [06:30<9:23:02, 16.34s/it]"
     ]
    },
    {
     "name": "stdout",
     "output_type": "stream",
     "text": [
      "************************\n",
      "There are 9585345 combinations\n",
      "Processed region=844 - (104, -15) for length 387 with len(scores)=9585345\n"
     ]
    },
    {
     "name": "stderr",
     "output_type": "stream",
     "text": [
      " 29%|█████████████████████████████████████████▍                                                                                                     | 845/2912 [06:37<7:45:50, 13.52s/it]"
     ]
    },
    {
     "name": "stdout",
     "output_type": "stream",
     "text": [
      "************************\n",
      "There are 14985824 combinations\n",
      "Processed region=845 - (104, -11) for length 449 with len(scores)=14985824\n",
      "************************\n"
     ]
    },
    {
     "name": "stderr",
     "output_type": "stream",
     "text": [
      " 29%|█████████████████████████████████████████▎                                                                                                    | 846/2912 [07:30<14:30:10, 25.27s/it]"
     ]
    },
    {
     "name": "stdout",
     "output_type": "stream",
     "text": [
      "There are 26536591 combinations\n"
     ]
    }
   ],
   "source": [
    "grid_points = get_grid_points(-63,63)\n",
    "print(\"Total grid points is:\", len(grid_points))\n",
    "\n",
    "result_filename = 'result_triangle2.parquet'\n",
    "# resultdf = pl.DataFrame()\n",
    "# try:\n",
    "#     resultdf = pl.read_parquet(result_filename)\n",
    "# except:\n",
    "#     print(\"no previoous results\")\n",
    "#     pass\n",
    "# print(f\"Loaded results: {resultdf.head()}\")\n",
    "\n",
    "def process_regions(grid, start=0, end=0):\n",
    "    if end == 0:\n",
    "        end = len(grid)\n",
    "    \n",
    "    zipped_list = list(zip(range(len(grid)), grid))\n",
    "    grid_points = zipped_list[start:end]\n",
    "    global_result = pl.DataFrame()\n",
    "\n",
    "    result = []\n",
    "    for idx, point in tqdm.tqdm(grid_points):\n",
    "        stars = stars_for_point_and_radius(df, point=point, radius=2, max_mag=12)\n",
    "        if len(stars) > 0:\n",
    "            result = process(stars.rows(), idx, point, 3)\n",
    "            if result is not None and not result.is_empty():\n",
    "                if global_result.is_empty():\n",
    "                    global_result = result\n",
    "                else:\n",
    "                    global_result = global_result.vstack(result)\n",
    "            else:\n",
    "                print(\"no results\")\n",
    "            print(\"************************\")\n",
    "        if idx % 1000 == 0:\n",
    "        #if idx == len(grid_points)-1:\n",
    "            print(global_result.sort(\"score\").head(5) if not global_result.is_empty() else \"no score\")\n",
    "            #global_result.map_rows(lambda t: (t[0] * 2, t[1] * 3))\n",
    "            write_df = pl.DataFrame()\n",
    "            points = global_result\n",
    "            add_to_result_and_save(write_df, points, result_filename)\n",
    "    #time.sleep(10)\n",
    "%time process_regions(grid_points, start=0)"
   ]
  },
  {
   "cell_type": "code",
   "execution_count": null,
   "id": "843fa4d8-1453-4c38-bdd4-9377585af73b",
   "metadata": {},
   "outputs": [
    {
     "name": "stdout",
     "output_type": "stream",
     "text": [
      "tensor([0.0021, 0.0023, 0.0022, 0.0041, 0.0042, 0.0022])\n"
     ]
    },
    {
     "data": {
      "text/plain": [
       "0.00011394966713851318"
      ]
     },
     "execution_count": null,
     "metadata": {},
     "output_type": "execute_result"
    }
   ],
   "source": [
    "a = [[352.9835510253906, -61.950279235839844, 9.794389724731445], [352.44195556640625, -61.28193664550781, 9.73677921295166], [352.8981628417969, -62.92292022705078, 9.376359939575195], [353.7196960449219, -62.507789611816406, 9.891069412231445]]\n",
    "square_score(radec_normalize_tensor(torch.Tensor(a)))"
   ]
  },
  {
   "cell_type": "code",
   "execution_count": null,
   "id": "f39042ae-9141-4704-9f7f-af41c3c6f3af",
   "metadata": {},
   "outputs": [
    {
     "name": "stdout",
     "output_type": "stream",
     "text": [
      "0.5\n",
      "0.6530663967132568\n"
     ]
    }
   ],
   "source": [
    "\n",
    "\n",
    "\n",
    "# Test\n",
    "points = torch.tensor([[0, 0], [0, 1], [1, 0], [1, 1]], dtype=torch.float32)\n",
    "print(measure_squareness(points))  # This should be close to 1 for a square\n",
    "print(measure_squareness(torch.tensor(a)))  # This should be close to 1 for a square\n",
    "\n"
   ]
  },
  {
   "cell_type": "code",
   "execution_count": null,
   "id": "02cc366f-c2b4-453c-a028-4af613871f4f",
   "metadata": {},
   "outputs": [],
   "source": [
    "# importing mplot3d toolkits\n",
    "from mpl_toolkits import mplot3d\n",
    "import numpy as np\n",
    "import matplotlib.pyplot as plt\n",
    "from matplotlib import gridspec\n",
    "import torch"
   ]
  },
  {
   "cell_type": "code",
   "execution_count": null,
   "id": "434000e0-a0e2-46df-b996-0db8c0016706",
   "metadata": {},
   "outputs": [
    {
     "data": {
      "image/png": "[encoded data removed]",
      "text/plain": [
       "<Figure size 1200x600 with 2 Axes>"
      ]
     },
     "metadata": {},
     "output_type": "display_data"
    }
   ],
   "source": [
    "fig = plt.figure(figsize=(12, 6))\n",
    "gs = gridspec.GridSpec(1, 2, width_ratios=[1, 1])  # set width ratio for each subplot\n",
    "coords = torch.tensor(a)\n",
    "# First subplot with one viewing angle\n",
    "ax1 = fig.add_subplot(gs[0], projection='3d')\n",
    "ax1.scatter(coords[:, 0], coords[:, 1], coords[:, 2], c='green')\n",
    "ax1.view_init(30, 30)  # Set elevation and azimuth\n",
    "ax1.set_title('View 1')\n",
    "ax1.set_xlabel('X')\n",
    "ax1.set_ylabel('Y')\n",
    "ax1.set_zlabel('Z')\n",
    "\n",
    "# Second subplot with another viewing angle\n",
    "ax2 = fig.add_subplot(gs[1], projection='3d')\n",
    "ax2.scatter(coords[:, 0], coords[:, 1], coords[:, 2], c='green')\n",
    "ax2.view_init(30, 120)  # Different elevation and azimuth\n",
    "ax2.set_title('View 2')\n",
    "ax2.set_xlabel('X')\n",
    "ax2.set_ylabel('Y')\n",
    "ax2.set_zlabel('Z')\n",
    "\n",
    "plt.suptitle('xyz projection for stars from different views')\n",
    "plt.tight_layout()\n",
    "plt.show()"
   ]
  },
  {
   "cell_type": "code",
   "execution_count": null,
   "id": "5926570f-5a08-46c6-a3e9-b15c690cf68b",
   "metadata": {},
   "outputs": [],
   "source": [
    "df = pl.DataFrame({\"foo\": [1, 2, 3], \"bar\": [-1, 5, 8]})"
   ]
  },
  {
   "cell_type": "code",
   "execution_count": null,
   "id": "a82431b5-9b45-489b-9f74-52a98cb756d5",
   "metadata": {},
   "outputs": [],
   "source": []
  },
  {
   "cell_type": "code",
   "execution_count": null,
   "id": "9177c1a5-a550-4e0f-a631-8a891e8b2d78",
   "metadata": {},
   "outputs": [],
   "source": []
  }
 ],
 "metadata": {
  "kernelspec": {
   "display_name": "python3",
   "language": "python",
   "name": "python3"
  }
 },
 "nbformat": 4,
 "nbformat_minor": 5
}
