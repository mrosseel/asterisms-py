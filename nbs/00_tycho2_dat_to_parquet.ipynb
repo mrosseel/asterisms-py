{
 "cells": [
  {
   "cell_type": "code",
   "execution_count": 6,
   "id": "6bde4619-3788-4518-96fd-0b9242cb27a1",
   "metadata": {},
   "outputs": [],
   "source": [
    "#| default_exp tycho2_ingest"
   ]
  },
  {
   "cell_type": "markdown",
   "id": "126bfee2-2489-4411-b419-9db0e5a639e5",
   "metadata": {},
   "source": [
    "# From Tycho2 source to parquet file\n",
    "> converting Tycho2 source material to a smaller parquet file"
   ]
  },
  {
   "cell_type": "code",
   "execution_count": 7,
   "id": "da58801d-6cfc-4996-9ce9-c62930c0f480",
   "metadata": {},
   "outputs": [],
   "source": [
    "#| hide\n",
    "from nbdev.showdoc import *"
   ]
  },
  {
   "cell_type": "markdown",
   "id": "3b30e27d-c4f8-47cf-a5fe-6c126dabadc0",
   "metadata": {},
   "source": [
    "##  getting the data\n",
    "\n",
    "http://tdc-www.harvard.edu/catalogs/tycho2.format.html\n",
    "https://cdsarc.cds.unistra.fr/cgi-bin/myqcat3?I/259/\n",
    "\n",
    "## which epoch?\n",
    "\n",
    "J2000"
   ]
  },
  {
   "cell_type": "markdown",
   "id": "abe20d35-5dea-47de-8299-0cb15a058ca4",
   "metadata": {},
   "source": [
    "## Import Tycho2 dat file"
   ]
  },
  {
   "cell_type": "markdown",
   "id": "e7ba82ba-5fa8-4e24-850b-201d6c2391d4",
   "metadata": {},
   "source": [
    "importing depencies"
   ]
  },
  {
   "cell_type": "code",
   "execution_count": 8,
   "id": "2fe398a3-3b6b-4d42-9a25-a52713faacfe",
   "metadata": {},
   "outputs": [],
   "source": [
    "import polars as pl"
   ]
  },
  {
   "cell_type": "code",
   "execution_count": 9,
   "id": "beb77802-6004-4ef7-a45a-4621ec33e11f",
   "metadata": {},
   "outputs": [],
   "source": [
    "#| export\n",
    "def read_tycho2(filename):\n",
    "    labels = [\n",
    "        \"TYC123\", \"pflag\", \"RAmdeg\", \"DEmdeg\", \"pmRA\", \"pmDE\", \n",
    "        \"e_RAmdeg\", \"e_DEmdeg\", \"e_pmRA\", \"e_pmDE\", \"EpRAm\", \"EpDEm\", \n",
    "        \"Num\", \"q_RAmdeg\", \"q_DEmdeg\", \"q_pmRA\", \"q_pmDE\", \"BTmag\", \n",
    "        \"e_BTmag\", \"VTmag\", \"e_VTmag\", \"prox\", \"TYC\", \"HIPCCDM\", \n",
    "        \"RAdeg\", \"DEdeg\", \"EpRA-1990\", \"EpDE-1990\", \"e_RAdeg\", \"e_DEdeg\", \n",
    "        \"posflg\", \"corr\"\n",
    "    ]\n",
    "    \n",
    "    df = pl.read_csv(filename, separator='|', has_header=False, new_columns=labels, \n",
    "                     dtypes={'RAmdeg': pl.Float32, 'DEmdeg': pl.Float32, 'BTmag': pl.Float32, 'e_BTmag': pl.Float32, 'VTmag': pl.Float32,'e_VTmag': pl.Float32, 'HIPCCDM': pl.Utf8})\n",
    "    return df"
   ]
  },
  {
   "cell_type": "markdown",
   "id": "d4dbb9b5-e846-4367-a8d6-4903bd681644",
   "metadata": {},
   "source": [
    "call the read function"
   ]
  },
  {
   "cell_type": "code",
   "execution_count": 11,
   "id": "f1c3cc69-5df0-428b-8add-c2b9bd2b0cb1",
   "metadata": {},
   "outputs": [
    {
     "data": {
      "text/html": [
       "<div><style>\n",
       ".dataframe > thead > tr > th,\n",
       ".dataframe > tbody > tr > td {\n",
       "  text-align: right;\n",
       "  white-space: pre-wrap;\n",
       "}\n",
       "</style>\n",
       "<small>shape: (9, 33)</small><table border=\"1\" class=\"dataframe\"><thead><tr><th>describe</th><th>TYC123</th><th>pflag</th><th>RAmdeg</th><th>DEmdeg</th><th>pmRA</th><th>pmDE</th><th>e_RAmdeg</th><th>e_DEmdeg</th><th>e_pmRA</th><th>e_pmDE</th><th>EpRAm</th><th>EpDEm</th><th>Num</th><th>q_RAmdeg</th><th>q_DEmdeg</th><th>q_pmRA</th><th>q_pmDE</th><th>BTmag</th><th>e_BTmag</th><th>VTmag</th><th>e_VTmag</th><th>prox</th><th>TYC</th><th>HIPCCDM</th><th>RAdeg</th><th>DEdeg</th><th>EpRA-1990</th><th>EpDE-1990</th><th>e_RAdeg</th><th>e_DEdeg</th><th>posflg</th><th>corr</th></tr><tr><td>str</td><td>str</td><td>str</td><td>f64</td><td>f64</td><td>str</td><td>str</td><td>str</td><td>str</td><td>str</td><td>str</td><td>str</td><td>str</td><td>str</td><td>str</td><td>str</td><td>str</td><td>str</td><td>f64</td><td>f64</td><td>f64</td><td>f64</td><td>f64</td><td>str</td><td>str</td><td>f64</td><td>f64</td><td>f64</td><td>f64</td><td>f64</td><td>f64</td><td>str</td><td>f64</td></tr></thead><tbody><tr><td>&quot;count&quot;</td><td>&quot;2539913&quot;</td><td>&quot;2539913&quot;</td><td>2.539913e6</td><td>2.539913e6</td><td>&quot;2539913&quot;</td><td>&quot;2539913&quot;</td><td>&quot;2539913&quot;</td><td>&quot;2539913&quot;</td><td>&quot;2539913&quot;</td><td>&quot;2539913&quot;</td><td>&quot;2539913&quot;</td><td>&quot;2539913&quot;</td><td>&quot;2539913&quot;</td><td>&quot;2539913&quot;</td><td>&quot;2539913&quot;</td><td>&quot;2539913&quot;</td><td>&quot;2539913&quot;</td><td>2.539913e6</td><td>2.539913e6</td><td>2.539913e6</td><td>2.539913e6</td><td>2.539913e6</td><td>&quot;2539913&quot;</td><td>&quot;2539913&quot;</td><td>2.539913e6</td><td>2.539913e6</td><td>2.539913e6</td><td>2.539913e6</td><td>2.539913e6</td><td>2.539913e6</td><td>&quot;2539913&quot;</td><td>2.539913e6</td></tr><tr><td>&quot;null_count&quot;</td><td>&quot;0&quot;</td><td>&quot;0&quot;</td><td>109445.0</td><td>109445.0</td><td>&quot;0&quot;</td><td>&quot;0&quot;</td><td>&quot;0&quot;</td><td>&quot;0&quot;</td><td>&quot;0&quot;</td><td>&quot;0&quot;</td><td>&quot;0&quot;</td><td>&quot;0&quot;</td><td>&quot;0&quot;</td><td>&quot;0&quot;</td><td>&quot;0&quot;</td><td>&quot;0&quot;</td><td>&quot;0&quot;</td><td>91.0</td><td>91.0</td><td>20.0</td><td>20.0</td><td>0.0</td><td>&quot;0&quot;</td><td>&quot;0&quot;</td><td>0.0</td><td>0.0</td><td>0.0</td><td>0.0</td><td>0.0</td><td>0.0</td><td>&quot;0&quot;</td><td>0.0</td></tr><tr><td>&quot;mean&quot;</td><td>null</td><td>null</td><td>188.530502</td><td>-3.479685</td><td>null</td><td>null</td><td>null</td><td>null</td><td>null</td><td>null</td><td>null</td><td>null</td><td>null</td><td>null</td><td>null</td><td>null</td><td>null</td><td>12.015463</td><td>0.166654</td><td>11.177034</td><td>0.110939</td><td>921.230184</td><td>null</td><td>null</td><td>189.154943</td><td>-3.187942</td><td>1.691832</td><td>1.647907</td><td>63.566338</td><td>70.912997</td><td>null</td><td>-0.00463</td></tr><tr><td>&quot;std&quot;</td><td>null</td><td>null</td><td>100.340485</td><td>41.43108</td><td>null</td><td>null</td><td>null</td><td>null</td><td>null</td><td>null</td><td>null</td><td>null</td><td>null</td><td>null</td><td>null</td><td>null</td><td>null</td><td>1.187064</td><td>0.12153</td><td>1.095533</td><td>0.070206</td><td>193.389428</td><td>null</td><td>null</td><td>100.321089</td><td>41.735132</td><td>0.111881</td><td>0.150998</td><td>36.611703</td><td>41.654617</td><td>null</td><td>0.147292</td></tr><tr><td>&quot;min&quot;</td><td>&quot;0001 00008 1&quot;</td><td>&quot; &quot;</td><td>0.000339</td><td>-89.889664</td><td>&quot;       &quot;</td><td>&quot;       &quot;</td><td>&quot;   &quot;</td><td>&quot;   &quot;</td><td>&quot;    &quot;</td><td>&quot;    &quot;</td><td>&quot;       &quot;</td><td>&quot;       &quot;</td><td>&quot;  &quot;</td><td>&quot;   &quot;</td><td>&quot;   &quot;</td><td>&quot;   &quot;</td><td>&quot;   &quot;</td><td>2.183</td><td>0.014</td><td>1.905</td><td>0.009</td><td>3.0</td><td>&quot; &quot;</td><td>&quot;         &quot;</td><td>0.000286</td><td>-89.889639</td><td>0.81</td><td>0.72</td><td>3.1</td><td>3.1</td><td>&quot; &quot;</td><td>-0.9</td></tr><tr><td>&quot;25%&quot;</td><td>null</td><td>null</td><td>105.471535</td><td>-39.00515</td><td>null</td><td>null</td><td>null</td><td>null</td><td>null</td><td>null</td><td>null</td><td>null</td><td>null</td><td>null</td><td>null</td><td>null</td><td>null</td><td>11.487</td><td>0.067</td><td>10.672</td><td>0.053</td><td>999.0</td><td>null</td><td>null</td><td>105.74392</td><td>-39.209088</td><td>1.62</td><td>1.58</td><td>35.1</td><td>38.2</td><td>null</td><td>-0.1</td></tr><tr><td>&quot;50%&quot;</td><td>null</td><td>null</td><td>186.052124</td><td>-4.889748</td><td>null</td><td>null</td><td>null</td><td>null</td><td>null</td><td>null</td><td>null</td><td>null</td><td>null</td><td>null</td><td>null</td><td>null</td><td>null</td><td>12.183</td><td>0.143</td><td>11.411</td><td>0.1</td><td>999.0</td><td>null</td><td>null</td><td>188.037015</td><td>-4.073136</td><td>1.69</td><td>1.67</td><td>61.3</td><td>67.0</td><td>null</td><td>0.0</td></tr><tr><td>&quot;75%&quot;</td><td>null</td><td>null</td><td>280.987732</td><td>31.3225</td><td>null</td><td>null</td><td>null</td><td>null</td><td>null</td><td>null</td><td>null</td><td>null</td><td>null</td><td>null</td><td>null</td><td>null</td><td>null</td><td>12.788</td><td>0.243</td><td>11.924</td><td>0.163</td><td>999.0</td><td>null</td><td>null</td><td>281.426236</td><td>32.231936</td><td>1.77</td><td>1.74</td><td>87.0</td><td>98.2</td><td>null</td><td>0.1</td></tr><tr><td>&quot;max&quot;</td><td>&quot;9537 00387 1&quot;</td><td>&quot;X&quot;</td><td>359.999878</td><td>89.832336</td><td>&quot;-4418.0&quot;</td><td>&quot;10277.3&quot;</td><td>&quot;183&quot;</td><td>&quot;184&quot;</td><td>&quot;11.5&quot;</td><td>&quot;10.3&quot;</td><td>&quot;1992.53&quot;</td><td>&quot;1992.01&quot;</td><td>&quot;36&quot;</td><td>&quot;9.9&quot;</td><td>&quot;9.9&quot;</td><td>&quot;9.9&quot;</td><td>&quot;9.9&quot;</td><td>16.580999</td><td>1.977</td><td>15.193</td><td>1.468</td><td>999.0</td><td>&quot;T&quot;</td><td>&quot;120404   &quot;</td><td>359.999908</td><td>89.832322</td><td>2.13</td><td>2.36</td><td>200.0</td><td>200.0</td><td>&quot;P&quot;</td><td>0.8</td></tr></tbody></table></div>"
      ],
      "text/plain": [
       "shape: (9, 33)\n",
       "┌────────────┬────────────┬─────────┬────────────┬───┬───────────┬───────────┬─────────┬───────────┐\n",
       "│ describe   ┆ TYC123     ┆ pflag   ┆ RAmdeg     ┆ … ┆ e_RAdeg   ┆ e_DEdeg   ┆ posflg  ┆ corr      │\n",
       "│ ---        ┆ ---        ┆ ---     ┆ ---        ┆   ┆ ---       ┆ ---       ┆ ---     ┆ ---       │\n",
       "│ str        ┆ str        ┆ str     ┆ f64        ┆   ┆ f64       ┆ f64       ┆ str     ┆ f64       │\n",
       "╞════════════╪════════════╪═════════╪════════════╪═══╪═══════════╪═══════════╪═════════╪═══════════╡\n",
       "│ count      ┆ 2539913    ┆ 2539913 ┆ 2.539913e6 ┆ … ┆ 2.539913e ┆ 2.539913e ┆ 2539913 ┆ 2.539913e │\n",
       "│            ┆            ┆         ┆            ┆   ┆ 6         ┆ 6         ┆         ┆ 6         │\n",
       "│ null_count ┆ 0          ┆ 0       ┆ 109445.0   ┆ … ┆ 0.0       ┆ 0.0       ┆ 0       ┆ 0.0       │\n",
       "│ mean       ┆ null       ┆ null    ┆ 188.530502 ┆ … ┆ 63.566338 ┆ 70.912997 ┆ null    ┆ -0.00463  │\n",
       "│ std        ┆ null       ┆ null    ┆ 100.340485 ┆ … ┆ 36.611703 ┆ 41.654617 ┆ null    ┆ 0.147292  │\n",
       "│ min        ┆ 0001 00008 ┆         ┆ 0.000339   ┆ … ┆ 3.1       ┆ 3.1       ┆         ┆ -0.9      │\n",
       "│            ┆ 1          ┆         ┆            ┆   ┆           ┆           ┆         ┆           │\n",
       "│ 25%        ┆ null       ┆ null    ┆ 105.471535 ┆ … ┆ 35.1      ┆ 38.2      ┆ null    ┆ -0.1      │\n",
       "│ 50%        ┆ null       ┆ null    ┆ 186.052124 ┆ … ┆ 61.3      ┆ 67.0      ┆ null    ┆ 0.0       │\n",
       "│ 75%        ┆ null       ┆ null    ┆ 280.987732 ┆ … ┆ 87.0      ┆ 98.2      ┆ null    ┆ 0.1       │\n",
       "│ max        ┆ 9537 00387 ┆ X       ┆ 359.999878 ┆ … ┆ 200.0     ┆ 200.0     ┆ P       ┆ 0.8       │\n",
       "│            ┆ 1          ┆         ┆            ┆   ┆           ┆           ┆         ┆           │\n",
       "└────────────┴────────────┴─────────┴────────────┴───┴───────────┴───────────┴─────────┴───────────┘"
      ]
     },
     "execution_count": 11,
     "metadata": {},
     "output_type": "execute_result"
    }
   ],
   "source": [
    "df = read_tycho2('../support/tyc2.dat')\n",
    "df.describe()"
   ]
  },
  {
   "cell_type": "markdown",
   "id": "ec2a8e4d-d5f0-40db-ae53-c7bb71365036",
   "metadata": {},
   "source": [
    "## Drop unneeded columns"
   ]
  },
  {
   "cell_type": "code",
   "execution_count": 12,
   "id": "e3f9e003-4ef7-4988-ae2b-e3510fbf3557",
   "metadata": {},
   "outputs": [
    {
     "name": "stdout",
     "output_type": "stream",
     "text": [
      "shape: (2_539_913, 7)\n",
      "┌────────────┬────────────┬────────┬─────────┬────────┬─────────┬───────────┐\n",
      "│ RAmdeg     ┆ DEmdeg     ┆ BTmag  ┆ e_BTmag ┆ VTmag  ┆ e_VTmag ┆ HIPCCDM   │\n",
      "│ ---        ┆ ---        ┆ ---    ┆ ---     ┆ ---    ┆ ---     ┆ ---       │\n",
      "│ f32        ┆ f32        ┆ f32    ┆ f32     ┆ f32    ┆ f32     ┆ str       │\n",
      "╞════════════╪════════════╪════════╪═════════╪════════╪═════════╪═══════════╡\n",
      "│ 2.317505   ┆ 2.231843   ┆ 12.146 ┆ 0.158   ┆ 12.146 ┆ 0.223   ┆           │\n",
      "│ 1.125582   ┆ 2.267394   ┆ 10.488 ┆ 0.038   ┆ 8.67   ┆ 0.015   ┆           │\n",
      "│ 1.056865   ┆ 1.897829   ┆ 12.921 ┆ 0.335   ┆ 12.1   ┆ 0.243   ┆           │\n",
      "│ 0.050598   ┆ 1.771443   ┆ 11.318 ┆ 0.07    ┆ 10.521 ┆ 0.051   ┆           │\n",
      "│ …          ┆ …          ┆ …      ┆ …       ┆ …      ┆ …       ┆ …         │\n",
      "│ 345.76767  ┆ -88.284042 ┆ 13.108 ┆ 0.271   ┆ 12.48  ┆ 0.196   ┆           │\n",
      "│ 341.197632 ┆ -88.538872 ┆ 13.147 ┆ 0.287   ┆ 12.158 ┆ 0.177   ┆           │\n",
      "│ 337.975433 ┆ -88.762932 ┆ 10.99  ┆ 0.048   ┆ 10.47  ┆ 0.042   ┆           │\n",
      "│ 355.96582  ┆ -88.834259 ┆ 12.828 ┆ 0.231   ┆ 12.096 ┆ 0.167   ┆           │\n",
      "└────────────┴────────────┴────────┴─────────┴────────┴─────────┴───────────┘\n"
     ]
    }
   ],
   "source": [
    "def drop_columns(df):\n",
    "    df = df.drop(columns= [\n",
    "        \"TYC123\", \"pflag\", \"pmRA\", \"pmDE\", \n",
    "        \"e_RAmdeg\", \"e_DEmdeg\", \"e_pmRA\", \"e_pmDE\", \"EpRAm\", \"EpDEm\", \n",
    "        \"Num\", \"q_RAmdeg\", \"q_DEmdeg\", \"q_pmRA\", \"q_pmDE\", \"prox\", \"TYC\",\n",
    "        \"RAdeg\", \"DEdeg\", \"EpRA-1990\", \"EpDE-1990\", \"e_RAdeg\", \"e_DEdeg\", \n",
    "        \"posflg\", \"corr\"\n",
    "    ])\n",
    "    return df\n",
    "df =  drop_columns(df)\n",
    "print(df)"
   ]
  },
  {
   "cell_type": "markdown",
   "id": "1dc19066-7c22-4a42-b076-1d4408a4c175",
   "metadata": {},
   "source": [
    "## Clean the data"
   ]
  },
  {
   "cell_type": "code",
   "execution_count": 13,
   "id": "ca5e148c-0571-48bf-9853-60e2accce454",
   "metadata": {},
   "outputs": [
    {
     "name": "stdout",
     "output_type": "stream",
     "text": [
      "Null count before cleaning:\n",
      " shape: (1, 7)\n",
      "┌────────┬────────┬───────┬─────────┬───────┬─────────┬─────────┐\n",
      "│ RAmdeg ┆ DEmdeg ┆ BTmag ┆ e_BTmag ┆ VTmag ┆ e_VTmag ┆ HIPCCDM │\n",
      "│ ---    ┆ ---    ┆ ---   ┆ ---     ┆ ---   ┆ ---     ┆ ---     │\n",
      "│ u32    ┆ u32    ┆ u32   ┆ u32     ┆ u32   ┆ u32     ┆ u32     │\n",
      "╞════════╪════════╪═══════╪═════════╪═══════╪═════════╪═════════╡\n",
      "│ 109445 ┆ 109445 ┆ 91    ┆ 91      ┆ 20    ┆ 20      ┆ 0       │\n",
      "└────────┴────────┴───────┴─────────┴───────┴─────────┴─────────┘\n",
      "shape: (91, 7)\n",
      "┌────────────┬────────────┬───────┬─────────┬────────┬─────────┬───────────┐\n",
      "│ RAmdeg     ┆ DEmdeg     ┆ BTmag ┆ e_BTmag ┆ VTmag  ┆ e_VTmag ┆ HIPCCDM   │\n",
      "│ ---        ┆ ---        ┆ ---   ┆ ---     ┆ ---    ┆ ---     ┆ ---       │\n",
      "│ f32        ┆ f32        ┆ f32   ┆ f32     ┆ f32    ┆ f32     ┆ str       │\n",
      "╞════════════╪════════════╪═══════╪═════════╪════════╪═════════╪═══════════╡\n",
      "│ 63.942772  ┆ 3.26324    ┆ null  ┆ null    ┆ 11.189 ┆ 0.131   ┆           │\n",
      "│ null       ┆ null       ┆ null  ┆ null    ┆ 11.85  ┆ 0.166   ┆           │\n",
      "│ null       ┆ null       ┆ null  ┆ null    ┆ 11.721 ┆ 0.155   ┆           │\n",
      "│ 319.818298 ┆ 1.438848   ┆ null  ┆ null    ┆ 11.306 ┆ 0.127   ┆           │\n",
      "│ …          ┆ …          ┆ …     ┆ …       ┆ …      ┆ …       ┆ …         │\n",
      "│ null       ┆ null       ┆ null  ┆ null    ┆ 11.693 ┆ 0.144   ┆           │\n",
      "│ 282.021301 ┆ -59.474304 ┆ null  ┆ null    ┆ 11.61  ┆ 0.14    ┆           │\n",
      "│ null       ┆ null       ┆ null  ┆ null    ┆ 11.312 ┆ 0.088   ┆           │\n",
      "│ null       ┆ null       ┆ null  ┆ null    ┆ 11.796 ┆ 0.163   ┆           │\n",
      "└────────────┴────────────┴───────┴─────────┴────────┴─────────┴───────────┘\n",
      "shape: (20, 7)\n",
      "┌────────────┬────────────┬────────┬─────────┬───────┬─────────┬───────────┐\n",
      "│ RAmdeg     ┆ DEmdeg     ┆ BTmag  ┆ e_BTmag ┆ VTmag ┆ e_VTmag ┆ HIPCCDM   │\n",
      "│ ---        ┆ ---        ┆ ---    ┆ ---     ┆ ---   ┆ ---     ┆ ---       │\n",
      "│ f32        ┆ f32        ┆ f32    ┆ f32     ┆ f32   ┆ f32     ┆ str       │\n",
      "╞════════════╪════════════╪════════╪═════════╪═══════╪═════════╪═══════════╡\n",
      "│ 64.922615  ┆ 3.76889    ┆ 11.69  ┆ 0.132   ┆ null  ┆ null    ┆           │\n",
      "│ 248.308319 ┆ 11.511979  ┆ 12.615 ┆ 0.177   ┆ null  ┆ null    ┆           │\n",
      "│ 284.106934 ┆ 9.956187   ┆ 13.009 ┆ 0.31    ┆ null  ┆ null    ┆           │\n",
      "│ 302.057495 ┆ 7.90845    ┆ 13.512 ┆ 0.465   ┆ null  ┆ null    ┆           │\n",
      "│ …          ┆ …          ┆ …      ┆ …       ┆ …     ┆ …       ┆ …         │\n",
      "│ 129.679092 ┆ -45.088043 ┆ 12.032 ┆ 0.106   ┆ null  ┆ null    ┆           │\n",
      "│ 137.260468 ┆ -58.680984 ┆ 12.102 ┆ 0.132   ┆ null  ┆ null    ┆           │\n",
      "│ 63.165756  ┆ -80.188705 ┆ 12.764 ┆ 0.23    ┆ null  ┆ null    ┆           │\n",
      "│ 133.745148 ┆ -82.075821 ┆ 12.335 ┆ 0.162   ┆ null  ┆ null    ┆           │\n",
      "└────────────┴────────────┴────────┴─────────┴───────┴─────────┴───────────┘\n",
      "shape: (2_430_468, 7)\n",
      "┌────────────┬────────────┬────────┬─────────┬────────┬─────────┬───────────┐\n",
      "│ RAmdeg     ┆ DEmdeg     ┆ BTmag  ┆ e_BTmag ┆ VTmag  ┆ e_VTmag ┆ HIPCCDM   │\n",
      "│ ---        ┆ ---        ┆ ---    ┆ ---     ┆ ---    ┆ ---     ┆ ---       │\n",
      "│ f32        ┆ f32        ┆ f32    ┆ f32     ┆ f32    ┆ f32     ┆ str       │\n",
      "╞════════════╪════════════╪════════╪═════════╪════════╪═════════╪═══════════╡\n",
      "│ 2.317505   ┆ 2.231843   ┆ 12.146 ┆ 0.158   ┆ 12.146 ┆ 0.223   ┆           │\n",
      "│ 1.125582   ┆ 2.267394   ┆ 10.488 ┆ 0.038   ┆ 8.67   ┆ 0.015   ┆           │\n",
      "│ 1.056865   ┆ 1.897829   ┆ 12.921 ┆ 0.335   ┆ 12.1   ┆ 0.243   ┆           │\n",
      "│ 0.050598   ┆ 1.771443   ┆ 11.318 ┆ 0.07    ┆ 10.521 ┆ 0.051   ┆           │\n",
      "│ …          ┆ …          ┆ …      ┆ …       ┆ …      ┆ …       ┆ …         │\n",
      "│ 345.76767  ┆ -88.284042 ┆ 13.108 ┆ 0.271   ┆ 12.48  ┆ 0.196   ┆           │\n",
      "│ 341.197632 ┆ -88.538872 ┆ 13.147 ┆ 0.287   ┆ 12.158 ┆ 0.177   ┆           │\n",
      "│ 337.975433 ┆ -88.762932 ┆ 10.99  ┆ 0.048   ┆ 10.47  ┆ 0.042   ┆           │\n",
      "│ 355.96582  ┆ -88.834259 ┆ 12.828 ┆ 0.231   ┆ 12.096 ┆ 0.167   ┆           │\n",
      "└────────────┴────────────┴────────┴─────────┴────────┴─────────┴───────────┘\n",
      "Null count after cleaning:\n",
      " shape: (1, 7)\n",
      "┌────────┬────────┬───────┬─────────┬───────┬─────────┬─────────┐\n",
      "│ RAmdeg ┆ DEmdeg ┆ BTmag ┆ e_BTmag ┆ VTmag ┆ e_VTmag ┆ HIPCCDM │\n",
      "│ ---    ┆ ---    ┆ ---   ┆ ---     ┆ ---   ┆ ---     ┆ ---     │\n",
      "│ u32    ┆ u32    ┆ u32   ┆ u32     ┆ u32   ┆ u32     ┆ u32     │\n",
      "╞════════╪════════╪═══════╪═════════╪═══════╪═════════╪═════════╡\n",
      "│ 0      ┆ 0      ┆ 0     ┆ 74      ┆ 0     ┆ 20      ┆ 0       │\n",
      "└────────┴────────┴───────┴─────────┴───────┴─────────┴─────────┘\n"
     ]
    }
   ],
   "source": [
    "print(\"Null count before cleaning:\\n\", df.null_count())\n",
    "print(df.filter(df['BTmag'].is_null()))\n",
    "print(df.filter(df['VTmag'].is_null()))\n",
    "# Fill BTmag with VTmag values where BTmag is null\n",
    "df = df.with_columns(df[\"BTmag\"].fill_null(df[\"VTmag\"]))\n",
    "\n",
    "# Fill VTmag with BTmag values where VTmag is null\n",
    "df = df.with_columns(df[\"VTmag\"].fill_null(df[\"BTmag\"]))\n",
    "\n",
    "# Remove rows where RAmdeg or DEmdeg is null\n",
    "df = df.filter((df[\"RAmdeg\"].is_not_null()) & (df[\"DEmdeg\"].is_not_null()))\n",
    "\n",
    "print(df)\n",
    "print(\"Null count after cleaning:\\n\", df.null_count())"
   ]
  },
  {
   "cell_type": "markdown",
   "id": "faf336aa-d8d3-45a5-97ca-b82b9df2fca7",
   "metadata": {},
   "source": [
    "## Calculate real Visual magnitude\n",
    "\n",
    "### V   = VT -0.090*(BT-VT)\n",
    "see Tycho2 docs for this formula"
   ]
  },
  {
   "cell_type": "code",
   "execution_count": 46,
   "id": "f303d681-50e0-46c1-8692-e4cef684d651",
   "metadata": {},
   "outputs": [
    {
     "name": "stdout",
     "output_type": "stream",
     "text": [
      "shape: (2_430_468, 8)\n",
      "┌────────────┬────────────┬────────┬─────────┬────────┬─────────┬───────────┬───────────┐\n",
      "│ RAmdeg     ┆ DEmdeg     ┆ BTmag  ┆ e_BTmag ┆ VTmag  ┆ e_VTmag ┆ HIPCCDM   ┆ Vmag      │\n",
      "│ ---        ┆ ---        ┆ ---    ┆ ---     ┆ ---    ┆ ---     ┆ ---       ┆ ---       │\n",
      "│ f32        ┆ f32        ┆ f32    ┆ f32     ┆ f32    ┆ f32     ┆ str       ┆ f32       │\n",
      "╞════════════╪════════════╪════════╪═════════╪════════╪═════════╪═══════════╪═══════════╡\n",
      "│ 2.317505   ┆ 2.231843   ┆ 12.146 ┆ 0.158   ┆ 12.146 ┆ 0.223   ┆           ┆ 12.146    │\n",
      "│ 1.125582   ┆ 2.267394   ┆ 10.488 ┆ 0.038   ┆ 8.67   ┆ 0.015   ┆           ┆ 8.50638   │\n",
      "│ 1.056865   ┆ 1.897829   ┆ 12.921 ┆ 0.335   ┆ 12.1   ┆ 0.243   ┆           ┆ 12.026111 │\n",
      "│ 0.050598   ┆ 1.771443   ┆ 11.318 ┆ 0.07    ┆ 10.521 ┆ 0.051   ┆           ┆ 10.44927  │\n",
      "│ …          ┆ …          ┆ …      ┆ …       ┆ …      ┆ …       ┆ …         ┆ …         │\n",
      "│ 345.76767  ┆ -88.284042 ┆ 13.108 ┆ 0.271   ┆ 12.48  ┆ 0.196   ┆           ┆ 12.423479 │\n",
      "│ 341.197632 ┆ -88.538872 ┆ 13.147 ┆ 0.287   ┆ 12.158 ┆ 0.177   ┆           ┆ 12.06899  │\n",
      "│ 337.975433 ┆ -88.762932 ┆ 10.99  ┆ 0.048   ┆ 10.47  ┆ 0.042   ┆           ┆ 10.423201 │\n",
      "│ 355.96582  ┆ -88.834259 ┆ 12.828 ┆ 0.231   ┆ 12.096 ┆ 0.167   ┆           ┆ 12.03012  │\n",
      "└────────────┴────────────┴────────┴─────────┴────────┴─────────┴───────────┴───────────┘\n"
     ]
    }
   ],
   "source": [
    "#df.map_rows(lambda t: (t[4] - 0.094*(t[2] - t[4]))).alias('Vmag')\n",
    "df = df.with_columns((df[\"VTmag\"] - 0.090 * (df[\"BTmag\"] - df[\"VTmag\"])).alias(\"Vmag\"))\n",
    "\n",
    "print(df)"
   ]
  },
  {
   "cell_type": "markdown",
   "id": "3a5bafba-1ec2-4bf2-910c-2f95d98f4591",
   "metadata": {},
   "source": [
    "## Write parquet file"
   ]
  },
  {
   "cell_type": "code",
   "execution_count": 47,
   "id": "7f56844c-f188-4ab7-a95c-47a8f0810017",
   "metadata": {},
   "outputs": [],
   "source": [
    "df.write_parquet('./support/tyc2.parquet')"
   ]
  },
  {
   "cell_type": "markdown",
   "id": "c2c63990-16cb-4ac0-aa6b-3683be912ff0",
   "metadata": {},
   "source": [
    "# Read parquet file to test"
   ]
  },
  {
   "cell_type": "code",
   "execution_count": 48,
   "id": "dcde3eef-7538-4304-9e1d-0ca93b522b53",
   "metadata": {},
   "outputs": [
    {
     "name": "stdout",
     "output_type": "stream",
     "text": [
      "shape: (2_430_468, 8)\n",
      "┌────────────┬────────────┬────────┬─────────┬────────┬─────────┬───────────┬───────────┐\n",
      "│ RAmdeg     ┆ DEmdeg     ┆ BTmag  ┆ e_BTmag ┆ VTmag  ┆ e_VTmag ┆ HIPCCDM   ┆ Vmag      │\n",
      "│ ---        ┆ ---        ┆ ---    ┆ ---     ┆ ---    ┆ ---     ┆ ---       ┆ ---       │\n",
      "│ f32        ┆ f32        ┆ f32    ┆ f32     ┆ f32    ┆ f32     ┆ str       ┆ f32       │\n",
      "╞════════════╪════════════╪════════╪═════════╪════════╪═════════╪═══════════╪═══════════╡\n",
      "│ 2.317505   ┆ 2.231843   ┆ 12.146 ┆ 0.158   ┆ 12.146 ┆ 0.223   ┆           ┆ 12.146    │\n",
      "│ 1.125582   ┆ 2.267394   ┆ 10.488 ┆ 0.038   ┆ 8.67   ┆ 0.015   ┆           ┆ 8.50638   │\n",
      "│ 1.056865   ┆ 1.897829   ┆ 12.921 ┆ 0.335   ┆ 12.1   ┆ 0.243   ┆           ┆ 12.026111 │\n",
      "│ 0.050598   ┆ 1.771443   ┆ 11.318 ┆ 0.07    ┆ 10.521 ┆ 0.051   ┆           ┆ 10.44927  │\n",
      "│ …          ┆ …          ┆ …      ┆ …       ┆ …      ┆ …       ┆ …         ┆ …         │\n",
      "│ 345.76767  ┆ -88.284042 ┆ 13.108 ┆ 0.271   ┆ 12.48  ┆ 0.196   ┆           ┆ 12.423479 │\n",
      "│ 341.197632 ┆ -88.538872 ┆ 13.147 ┆ 0.287   ┆ 12.158 ┆ 0.177   ┆           ┆ 12.06899  │\n",
      "│ 337.975433 ┆ -88.762932 ┆ 10.99  ┆ 0.048   ┆ 10.47  ┆ 0.042   ┆           ┆ 10.423201 │\n",
      "│ 355.96582  ┆ -88.834259 ┆ 12.828 ┆ 0.231   ┆ 12.096 ┆ 0.167   ┆           ┆ 12.03012  │\n",
      "└────────────┴────────────┴────────┴─────────┴────────┴─────────┴───────────┴───────────┘\n"
     ]
    }
   ],
   "source": [
    "df = pl.read_parquet('./support/tyc2.parquet')\n",
    "print(df)"
   ]
  },
  {
   "cell_type": "code",
   "execution_count": null,
   "id": "3eda8a97-bdb1-4106-8844-7501287a5a7b",
   "metadata": {},
   "outputs": [],
   "source": []
  },
  {
   "cell_type": "code",
   "execution_count": 1,
   "id": "0a60eba2-8395-404e-94b3-cd64fe223a17",
   "metadata": {},
   "outputs": [],
   "source": [
    "#| hide\n",
    "import nbdev; nbdev.nbdev_export()"
   ]
  },
  {
   "cell_type": "code",
   "execution_count": null,
   "id": "34c292e4-e738-443f-9f3b-3b387168e5ee",
   "metadata": {},
   "outputs": [],
   "source": []
  },
  {
   "cell_type": "code",
   "execution_count": null,
   "id": "b88e92f2-9c8a-4284-88b0-e945806d02f3",
   "metadata": {},
   "outputs": [],
   "source": []
  }
 ],
 "metadata": {
  "kernelspec": {
   "display_name": "Python 3 (ipykernel)",
   "language": "python",
   "name": "python3"
  },
  "language_info": {
   "codemirror_mode": {
    "name": "ipython",
    "version": 3
   },
   "file_extension": ".py",
   "mimetype": "text/x-python",
   "name": "python",
   "nbconvert_exporter": "python",
   "pygments_lexer": "ipython3",
   "version": "3.11.5"
  }
 },
 "nbformat": 4,
 "nbformat_minor": 5
}
