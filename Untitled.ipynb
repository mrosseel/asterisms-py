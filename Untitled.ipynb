{
 "cells": [
  {
   "cell_type": "code",
   "execution_count": 10,
   "id": "324ec3d7",
   "metadata": {},
   "outputs": [
    {
     "name": "stdout",
     "output_type": "stream",
     "text": [
      "Tetrahedron score: 0\n"
     ]
    }
   ],
   "source": [
    "import torch\n",
    "import math\n",
    "\n",
    "def convert_to_cartesian(distances, ra, dec):\n",
    "    x = distances * torch.cos(dec) * torch.cos(ra)\n",
    "    y = distances * torch.cos(dec) * torch.sin(ra)\n",
    "    z = distances * torch.sin(dec)\n",
    "    return torch.stack((x, y, z), dim=1)\n",
    "\n",
    "def calculate_distances(coords):\n",
    "    dist_matrix = torch.cdist(coords, coords)\n",
    "    unique_distances = torch.unique(dist_matrix)\n",
    "    return unique_distances[unique_distances > 0]\n",
    "\n",
    "def tetrahedron_score(coords):\n",
    "    distances = calculate_distances(coords)\n",
    "    if len(distances) != 2:\n",
    "        return 0\n",
    "\n",
    "    a, b = distances\n",
    "    if a > b:\n",
    "        a, b = b, a\n",
    "\n",
    "    ratio = b / a\n",
    "    ideal_ratio = math.sqrt(2)\n",
    "    \n",
    "    score = 1 - abs(ratio.item() - ideal_ratio) / ideal_ratio\n",
    "    return score\n",
    "\n",
    "def tetrahedron_score2(coords):\n",
    "    distances = calculate_distances(coords)\n",
    "    print(distances)\n",
    "    mean_distance = torch.mean(distances)\n",
    "    std_dev = torch.std(distances)\n",
    "\n",
    "    # Assuming std_dev is small enough, the score will be close to 1\n",
    "    # Otherwise, it will be closer to 0\n",
    "    score = math.exp(-std_dev.item() / mean_distance.item())\n",
    "    return score\n",
    "\n",
    "# Define your input data\n",
    "distances = torch.tensor([10, 15, 20, 25], dtype=torch.float32)\n",
    "ra = torch.tensor([0.5, 1.0, 1.5, 2.0], dtype=torch.float32)\n",
    "dec = torch.tensor([0.3, 0.6, 0.9, 1.2], dtype=torch.float32)\n",
    "\n",
    "coords = convert_to_cartesian(distances, ra, dec)\n",
    "score = tetrahedron_score(coords)\n",
    "\n",
    "print(\"Tetrahedron score:\", score)"
   ]
  },
  {
   "cell_type": "code",
   "execution_count": 15,
   "id": "7d3578b5",
   "metadata": {},
   "outputs": [
    {
     "name": "stdout",
     "output_type": "stream",
     "text": [
      "tensor([0.4616, 0.5000, 0.7704, 0.7760, 1.0000])\n",
      "Tetrahedron score: 0 0.7285219772200613\n",
      "tensor([0.1620, 0.3530, 0.4988, 0.5084, 0.7508, 0.9073])\n",
      "Tetrahedron score: 0 0.6030645964526847\n"
     ]
    }
   ],
   "source": [
    "def score_both(distances, ra, dec):\n",
    "    coords = convert_to_cartesian(distances, ra, dec)\n",
    "    score = tetrahedron_score(coords)\n",
    "    score2 = tetrahedron_score2(coords) \n",
    "    print(\"Tetrahedron score:\", score, score2)\n",
    "\n",
    "\n",
    "distances = torch.tensor([0, 1, 0.5, 0.5])\n",
    "ra = torch.tensor([0, 0, math.sqrt(3)/2, math.sqrt(3)/6])\n",
    "dec = torch.tensor([0, 0, 0, math.sqrt(2/3)])\n",
    "score_both(distances,ra,dec)\n",
    "\n",
    "x_coords = torch.rand(4)\n",
    "y_coords = torch.rand(4)\n",
    "z_coords = torch.rand(4)\n",
    "score_both(x_coords,y_coords, z_coords)"
   ]
  },
  {
   "cell_type": "code",
   "execution_count": 18,
   "id": "ae7cad20",
   "metadata": {},
   "outputs": [
    {
     "name": "stdout",
     "output_type": "stream",
     "text": [
      "tensor(0.0337)\n"
     ]
    }
   ],
   "source": [
    "# chatpgpt another try\n",
    "import torch\n",
    "\n",
    "def pairwise_distances(x):\n",
    "    \"\"\"Compute pairwise distances between points in x.\"\"\"\n",
    "    diff = x.unsqueeze(2) - x.t().unsqueeze(0)\n",
    "    return torch.sqrt((diff ** 2).sum(dim=1))\n",
    "\n",
    "def tetrahedron_likeness(vertices):\n",
    "    \"\"\"Compute the likeness of given vertices to a perfect tetrahedron.\"\"\"\n",
    "    # Compute pairwise distances\n",
    "    distances = pairwise_distances(vertices)\n",
    "    \n",
    "    # Extract unique distances (since tensor is symmetric)\n",
    "    unique_distances = distances[torch.triu(torch.ones_like(distances), diagonal=1) == 1]\n",
    "    \n",
    "    # Sort distances\n",
    "    sorted_distances = torch.sort(unique_distances)[0]\n",
    "    \n",
    "    # Three smallest should be the base edges and three largest the heights\n",
    "    base_edges = sorted_distances[:3]\n",
    "    heights = sorted_distances[3:]\n",
    "    \n",
    "    # Expected distances: Assume smallest distance as base edge length\n",
    "    edge_length = base_edges.mean()\n",
    "    expected_height = torch.sqrt(torch.tensor(2.0)/3) * edge_length\n",
    "    \n",
    "    # Mean squared error (MSE) between observed and expected distances\n",
    "    mse_base = torch.mean((base_edges - edge_length) ** 2)\n",
    "    mse_height = torch.mean((heights - expected_height) ** 2)\n",
    "    \n",
    "    total_mse = mse_base + mse_height\n",
    "    return total_mse\n",
    "\n",
    "# Example\n",
    "vertices = torch.tensor([\n",
    "    [0.0, 0.0, 0.0],\n",
    "    [1.0, 0.0, 0.0],\n",
    "    [0.5, torch.sqrt(torch.tensor(3.0))/2, 0.0],\n",
    "    [0.5, torch.sqrt(torch.tensor(3.0))/6, torch.sqrt(torch.tensor(2.0/3))]\n",
    "])\n",
    "\n",
    "likeness_score = tetrahedron_likeness(vertices)\n",
    "print(likeness_score)  # Closer to 0 is more like a perfect tetrahedron\n"
   ]
  },
  {
   "cell_type": "code",
   "execution_count": null,
   "id": "3aa9473b",
   "metadata": {},
   "outputs": [],
   "source": [
    "distances = torch.tensor([0, 1, 0.5, 0.5])\n",
    "ra = torch.tensor([0, 0, math.sqrt(3)/2, math.sqrt(3)/6])\n",
    "dec = torch.tensor([0, 0, 0, math.sqrt(2/3)])\n",
    "vertices = torch.tensor([\n",
    "    [0.0, 0.0, 0.0],\n",
    "    [1.0, 0.0, 0.0],\n",
    "    [0.5, torch.sqrt(torch.tensor(3.0))/2, 0.0],\n",
    "    [0.5, torch.sqrt(torch.tensor(3.0))/6, torch.sqrt(torch.tensor(2.0/3))]\n",
    "])\n",
    "\n",
    "score_both(distances,ra,dec)\n",
    "\n",
    "x_coords = torch.rand(4)\n",
    "y_coords = torch.rand(4)\n",
    "z_coords = torch.rand(4)\n",
    "score_both(x_coords,y_coords, z_coords)"
   ]
  }
 ],
 "metadata": {
  "kernelspec": {
   "display_name": "Python 3 (ipykernel)",
   "language": "python",
   "name": "python3"
  },
  "language_info": {
   "codemirror_mode": {
    "name": "ipython",
    "version": 3
   },
   "file_extension": ".py",
   "mimetype": "text/x-python",
   "name": "python",
   "nbconvert_exporter": "python",
   "pygments_lexer": "ipython3",
   "version": "3.11.5"
  }
 },
 "nbformat": 4,
 "nbformat_minor": 5
}
